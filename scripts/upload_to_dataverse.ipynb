{
 "cells": [
  {
   "cell_type": "code",
   "execution_count": 1,
   "id": "71781884-0ede-4019-ae4d-1419c981602b",
   "metadata": {},
   "outputs": [],
   "source": [
    "#!pip install \"pyDataverse<0.3.0\""
   ]
  },
  {
   "cell_type": "code",
   "execution_count": 2,
   "id": "a177f373-f589-410f-8bfd-bfe22f7e825e",
   "metadata": {},
   "outputs": [],
   "source": [
    "# Dataverse API Token\n",
    "# https://dataverse.harvard.edu/dataverseuser.xhtml?selectTab=apiTokenTab\n",
    "host = 'https://dataverse.harvard.edu'\n",
    "token = ''\n",
    "doi = 'doi:10.7910/DVN/ZHF9WC'"
   ]
  },
  {
   "cell_type": "code",
   "execution_count": 3,
   "id": "863b799a-16b5-4495-b918-b2905930a3a4",
   "metadata": {},
   "outputs": [],
   "source": [
    "from pyDataverse.api import Api"
   ]
  },
  {
   "cell_type": "code",
   "execution_count": 4,
   "id": "457f428e-fd00-487e-bfcf-ef92103f14a8",
   "metadata": {},
   "outputs": [
    {
     "data": {
      "text/plain": [
       "'OK'"
      ]
     },
     "execution_count": 4,
     "metadata": {},
     "output_type": "execute_result"
    }
   ],
   "source": [
    "api = Api('https://dataverse.harvard.edu/', token)\n",
    "api.status"
   ]
  },
  {
   "cell_type": "code",
   "execution_count": 5,
   "id": "428cf205-b390-4e88-b024-074f0044c295",
   "metadata": {},
   "outputs": [
    {
     "data": {
      "text/plain": [
       "{'status': 'OK',\n",
       " 'data': {'id': 7165535,\n",
       "  'identifier': 'DVN/ZHF9WC',\n",
       "  'persistentUrl': 'https://doi.org/10.7910/DVN/ZHF9WC',\n",
       "  'protocol': 'doi',\n",
       "  'authority': '10.7910',\n",
       "  'publisher': 'Harvard Dataverse',\n",
       "  'storageIdentifier': 's3://10.7910/DVN/ZHF9WC',\n",
       "  'latestVersion': {'id': 346141,\n",
       "   'datasetId': 7165535,\n",
       "   'datasetPersistentId': 'doi:10.7910/DVN/ZHF9WC',\n",
       "   'storageIdentifier': 's3://10.7910/DVN/ZHF9WC',\n",
       "   'versionState': 'DRAFT',\n",
       "   'lastUpdateTime': '2023-06-11T02:30:50Z',\n",
       "   'createTime': '2023-06-11T02:30:50Z',\n",
       "   'license': {'name': 'CC0 1.0',\n",
       "    'uri': 'http://creativecommons.org/publicdomain/zero/1.0'},\n",
       "   'fileAccessRequest': True,\n",
       "   'metadataBlocks': {'citation': {'displayName': 'Citation Metadata',\n",
       "     'name': 'citation',\n",
       "     'fields': [{'typeName': 'title',\n",
       "       'multiple': False,\n",
       "       'typeClass': 'primitive',\n",
       "       'value': 'MNREGA R1 and R6 Reports (2014---2023)'},\n",
       "      {'typeName': 'author',\n",
       "       'multiple': True,\n",
       "       'typeClass': 'compound',\n",
       "       'value': [{'authorName': {'typeName': 'authorName',\n",
       "          'multiple': False,\n",
       "          'typeClass': 'primitive',\n",
       "          'value': 'Sood, Gaurav'}}]},\n",
       "      {'typeName': 'datasetContact',\n",
       "       'multiple': True,\n",
       "       'typeClass': 'compound',\n",
       "       'value': [{'datasetContactName': {'typeName': 'datasetContactName',\n",
       "          'multiple': False,\n",
       "          'typeClass': 'primitive',\n",
       "          'value': 'Sood, Gaurav'},\n",
       "         'datasetContactEmail': {'typeName': 'datasetContactEmail',\n",
       "          'multiple': False,\n",
       "          'typeClass': 'primitive',\n",
       "          'value': 'gsood07@gmail.com'}}]},\n",
       "      {'typeName': 'dsDescription',\n",
       "       'multiple': True,\n",
       "       'typeClass': 'compound',\n",
       "       'value': [{'dsDescriptionValue': {'typeName': 'dsDescriptionValue',\n",
       "          'multiple': False,\n",
       "          'typeClass': 'primitive',\n",
       "          'value': 'MNREGA R1 and R6 Reports (2014---2023). Github: https://github.com/in-rolls/mnregra'}}]},\n",
       "      {'typeName': 'subject',\n",
       "       'multiple': True,\n",
       "       'typeClass': 'controlledVocabulary',\n",
       "       'value': ['Social Sciences']},\n",
       "      {'typeName': 'depositor',\n",
       "       'multiple': False,\n",
       "       'typeClass': 'primitive',\n",
       "       'value': 'Sood, Gaurav'},\n",
       "      {'typeName': 'dateOfDeposit',\n",
       "       'multiple': False,\n",
       "       'typeClass': 'primitive',\n",
       "       'value': '2023-06-10'}]}},\n",
       "   'files': []}}}"
      ]
     },
     "execution_count": 5,
     "metadata": {},
     "output_type": "execute_result"
    }
   ],
   "source": [
    "resp = api.get_dataset(doi)\n",
    "resp.json()"
   ]
  },
  {
   "cell_type": "markdown",
   "id": "858ff4c5-6f14-4191-8b5a-bb047ef91a2a",
   "metadata": {},
   "source": [
    "### Upload Output CSV files to Dataverse"
   ]
  },
  {
   "cell_type": "code",
   "execution_count": 6,
   "id": "68568bcf-7eb6-4846-b9d5-9e81f9196f90",
   "metadata": {},
   "outputs": [
    {
     "name": "stdout",
     "output_type": "stream",
     "text": [
      "./output/r1-all-2014.csv.gz\n"
     ]
    },
    {
     "name": "stderr",
     "output_type": "stream",
     "text": [
      "  % Total    % Received % Xferd  Average Speed   Time    Time     Time  Current\n",
      "                                 Dload  Upload   Total   Spent    Left  Speed\n",
      "100 7806k  100   516  100 7806k    170  2585k  0:00:03  0:00:03 --:--:-- 2585k\n"
     ]
    },
    {
     "name": "stdout",
     "output_type": "stream",
     "text": [
      "{'status': 'OK', 'data': {'files': [{'description': '', 'label': 'r1-all-2014.csv.gz', 'restricted': False, 'version': 1, 'datasetVersionId': 346141, 'dataFile': {'id': 7166443, 'persistentId': '', 'pidURL': '', 'filename': 'r1-all-2014.csv.gz', 'contentType': 'application/gzip', 'filesize': 7993175, 'description': '', 'storageIdentifier': 's3://dvn-cloud:188aafb89d2-fe9b988cba3b', 'rootDataFileId': -1, 'md5': 'e5bc9bf94d7c505eae6619f34e236977', 'checksum': {'type': 'MD5', 'value': 'e5bc9bf94d7c505eae6619f34e236977'}, 'creationDate': '2023-06-11'}}]}}\n",
      "./output/r1-all-2015.csv.gz\n"
     ]
    },
    {
     "name": "stderr",
     "output_type": "stream",
     "text": [
      "  % Total    % Received % Xferd  Average Speed   Time    Time     Time  Current\n",
      "                                 Dload  Upload   Total   Spent    Left  Speed\n",
      "100 7867k  100   516  100 7866k     99  1510k  0:00:05  0:00:05 --:--:-- 1720k\n",
      "  % Total    % Received % Xferd  Average Speed   Time    Time     Time  Current\n",
      "                                 Dload  Upload   Total   Spent    Left  Speed\n",
      "  0     0    0     0    0     0      0      0 --:--:-- --:--:-- --:--:--     0"
     ]
    },
    {
     "name": "stdout",
     "output_type": "stream",
     "text": [
      "{'status': 'OK', 'data': {'files': [{'description': '', 'label': 'r1-all-2015.csv.gz', 'restricted': False, 'version': 1, 'datasetVersionId': 346141, 'dataFile': {'id': 7166444, 'persistentId': '', 'pidURL': '', 'filename': 'r1-all-2015.csv.gz', 'contentType': 'application/gzip', 'filesize': 8055133, 'description': '', 'storageIdentifier': 's3://dvn-cloud:188aafb9e95-c7c77c5bff56', 'rootDataFileId': -1, 'md5': 'cb95f79da18ac2a3f7ede82f74fea158', 'checksum': {'type': 'MD5', 'value': 'cb95f79da18ac2a3f7ede82f74fea158'}, 'creationDate': '2023-06-11'}}]}}\n",
      "./output/r1-all-2016.csv.gz\n"
     ]
    },
    {
     "name": "stderr",
     "output_type": "stream",
     "text": [
      "100 7913k  100   516  100 7913k    128  1966k  0:00:04  0:00:04 --:--:-- 1966k\n"
     ]
    },
    {
     "name": "stdout",
     "output_type": "stream",
     "text": [
      "{'status': 'OK', 'data': {'files': [{'description': '', 'label': 'r1-all-2016.csv.gz', 'restricted': False, 'version': 1, 'datasetVersionId': 346141, 'dataFile': {'id': 7166445, 'persistentId': '', 'pidURL': '', 'filename': 'r1-all-2016.csv.gz', 'contentType': 'application/gzip', 'filesize': 8102924, 'description': '', 'storageIdentifier': 's3://dvn-cloud:188aafbac9c-fff87c38b06c', 'rootDataFileId': -1, 'md5': '47c334046aa23ac9f9523d17256da5ff', 'checksum': {'type': 'MD5', 'value': '47c334046aa23ac9f9523d17256da5ff'}, 'creationDate': '2023-06-11'}}]}}\n",
      "./output/r1-all-2017.csv.gz\n"
     ]
    },
    {
     "name": "stderr",
     "output_type": "stream",
     "text": [
      "  % Total    % Received % Xferd  Average Speed   Time    Time     Time  Current\n",
      "                                 Dload  Upload   Total   Spent    Left  Speed\n",
      "100 7894k  100   516  100 7894k    151  2317k  0:00:03  0:00:03 --:--:-- 2316k\n",
      "  % Total    % Received % Xferd  Average Speed   Time    Time     Time  Current\n",
      "                                 Dload  Upload   Total   Spent    Left  Speed\n",
      "  0     0    0     0    0     0      0      0 --:--:-- --:--:-- --:--:--     0"
     ]
    },
    {
     "name": "stdout",
     "output_type": "stream",
     "text": [
      "{'status': 'OK', 'data': {'files': [{'description': '', 'label': 'r1-all-2017.csv.gz', 'restricted': False, 'version': 1, 'datasetVersionId': 346141, 'dataFile': {'id': 7166446, 'persistentId': '', 'pidURL': '', 'filename': 'r1-all-2017.csv.gz', 'contentType': 'application/gzip', 'filesize': 8083660, 'description': '', 'storageIdentifier': 's3://dvn-cloud:188aafbbba8-b44d6b682a45', 'rootDataFileId': -1, 'md5': '17731689aaebd8a2637b1fbba83046bf', 'checksum': {'type': 'MD5', 'value': '17731689aaebd8a2637b1fbba83046bf'}, 'creationDate': '2023-06-11'}}]}}\n",
      "./output/r1-all-2018.csv.gz\n"
     ]
    },
    {
     "name": "stderr",
     "output_type": "stream",
     "text": [
      "100 7935k  100   516  100 7934k    143  2210k  0:00:03  0:00:03 --:--:-- 2210k\n",
      "  % Total    % Received % Xferd  Average Speed   Time    Time     Time  Current\n",
      "                                 Dload  Upload   Total   Spent    Left  Speed\n",
      "  0     0    0     0    0     0      0      0 --:--:-- --:--:-- --:--:--     0"
     ]
    },
    {
     "name": "stdout",
     "output_type": "stream",
     "text": [
      "{'status': 'OK', 'data': {'files': [{'description': '', 'label': 'r1-all-2018.csv.gz', 'restricted': False, 'version': 1, 'datasetVersionId': 346141, 'dataFile': {'id': 7166447, 'persistentId': '', 'pidURL': '', 'filename': 'r1-all-2018.csv.gz', 'contentType': 'application/gzip', 'filesize': 8124757, 'description': '', 'storageIdentifier': 's3://dvn-cloud:188aafbc914-06bbb8610fa0', 'rootDataFileId': -1, 'md5': '0fdaea639521dfe34a646fe575b3e0d7', 'checksum': {'type': 'MD5', 'value': '0fdaea639521dfe34a646fe575b3e0d7'}, 'creationDate': '2023-06-11'}}]}}\n",
      "./output/r1-all-2019.csv.gz\n"
     ]
    },
    {
     "name": "stderr",
     "output_type": "stream",
     "text": [
      "100 7946k  100   516  100 7945k    157  2418k  0:00:03  0:00:03 --:--:-- 2417k\n",
      "  % Total    % Received % Xferd  Average Speed   Time    Time     Time  Current\n",
      "                                 Dload  Upload   Total   Spent    Left  Speed\n",
      "  0     0    0     0    0     0      0      0 --:--:-- --:--:-- --:--:--     0"
     ]
    },
    {
     "name": "stdout",
     "output_type": "stream",
     "text": [
      "{'status': 'OK', 'data': {'files': [{'description': '', 'label': 'r1-all-2019.csv.gz', 'restricted': False, 'version': 1, 'datasetVersionId': 346141, 'dataFile': {'id': 7166448, 'persistentId': '', 'pidURL': '', 'filename': 'r1-all-2019.csv.gz', 'contentType': 'application/gzip', 'filesize': 8136466, 'description': '', 'storageIdentifier': 's3://dvn-cloud:188aafbd725-dd6efbdab7aa', 'rootDataFileId': -1, 'md5': '92b65e49e492b467852dfb0c2ffdad61', 'checksum': {'type': 'MD5', 'value': '92b65e49e492b467852dfb0c2ffdad61'}, 'creationDate': '2023-06-11'}}]}}\n",
      "./output/r1-all-2020.csv.gz\n"
     ]
    },
    {
     "name": "stderr",
     "output_type": "stream",
     "text": [
      "100 8094k  100   516  100 8093k    156  2461k  0:00:03  0:00:03 --:--:-- 2461k\n",
      "  % Total    % Received % Xferd  Average Speed   Time    Time     Time  Current\n",
      "                                 Dload  Upload   Total   Spent    Left  Speed\n",
      "  0     0    0     0    0     0      0      0 --:--:-- --:--:-- --:--:--     0"
     ]
    },
    {
     "name": "stdout",
     "output_type": "stream",
     "text": [
      "{'status': 'OK', 'data': {'files': [{'description': '', 'label': 'r1-all-2020.csv.gz', 'restricted': False, 'version': 1, 'datasetVersionId': 346141, 'dataFile': {'id': 7166449, 'persistentId': '', 'pidURL': '', 'filename': 'r1-all-2020.csv.gz', 'contentType': 'application/gzip', 'filesize': 8287556, 'description': '', 'storageIdentifier': 's3://dvn-cloud:188aafbe485-bde90d62130c', 'rootDataFileId': -1, 'md5': 'ae2782b69ce8a0a08897c2d27b0345fd', 'checksum': {'type': 'MD5', 'value': 'ae2782b69ce8a0a08897c2d27b0345fd'}, 'creationDate': '2023-06-11'}}]}}\n",
      "./output/r1-all-2021.csv.gz\n"
     ]
    },
    {
     "name": "stderr",
     "output_type": "stream",
     "text": [
      "100 8078k  100   516  100 8078k    166  2600k  0:00:03  0:00:03 --:--:-- 2600k\n",
      "  % Total    % Received % Xferd  Average Speed   Time    Time     Time  Current\n",
      "                                 Dload  Upload   Total   Spent    Left  Speed\n",
      "  0     0    0     0    0     0      0      0 --:--:-- --:--:-- --:--:--     0"
     ]
    },
    {
     "name": "stdout",
     "output_type": "stream",
     "text": [
      "{'status': 'OK', 'data': {'files': [{'description': '', 'label': 'r1-all-2021.csv.gz', 'restricted': False, 'version': 1, 'datasetVersionId': 346141, 'dataFile': {'id': 7166450, 'persistentId': '', 'pidURL': '', 'filename': 'r1-all-2021.csv.gz', 'contentType': 'application/gzip', 'filesize': 8272108, 'description': '', 'storageIdentifier': 's3://dvn-cloud:188aafbf15c-b6f67025699b', 'rootDataFileId': -1, 'md5': '00dadd80ac01762eacbd1e41c4f1a184', 'checksum': {'type': 'MD5', 'value': '00dadd80ac01762eacbd1e41c4f1a184'}, 'creationDate': '2023-06-11'}}]}}\n",
      "./output/r1-all-2022.csv.gz\n"
     ]
    },
    {
     "name": "stderr",
     "output_type": "stream",
     "text": [
      "100 8076k  100   516  100 8076k    150  2354k  0:00:03  0:00:03 --:--:-- 2354k\n",
      "  % Total    % Received % Xferd  Average Speed   Time    Time     Time  Current\n",
      "                                 Dload  Upload   Total   Spent    Left  Speed\n",
      "  0     0    0     0    0     0      0      0 --:--:-- --:--:-- --:--:--     0"
     ]
    },
    {
     "name": "stdout",
     "output_type": "stream",
     "text": [
      "{'status': 'OK', 'data': {'files': [{'description': '', 'label': 'r1-all-2022.csv.gz', 'restricted': False, 'version': 1, 'datasetVersionId': 346141, 'dataFile': {'id': 7166451, 'persistentId': '', 'pidURL': '', 'filename': 'r1-all-2022.csv.gz', 'contentType': 'application/gzip', 'filesize': 8269851, 'description': '', 'storageIdentifier': 's3://dvn-cloud:188aafbfdea-1d03c656a40b', 'rootDataFileId': -1, 'md5': '00d38df27d357645ab6963c4414627a5', 'checksum': {'type': 'MD5', 'value': '00d38df27d357645ab6963c4414627a5'}, 'creationDate': '2023-06-11'}}]}}\n",
      "./output/r1-all-2023.csv.gz\n"
     ]
    },
    {
     "name": "stderr",
     "output_type": "stream",
     "text": [
      "100 8074k  100   516  100 8073k    161  2530k  0:00:03  0:00:03 --:--:-- 2531k\n",
      "  % Total    % Received % Xferd  Average Speed   Time    Time     Time  Current\n",
      "                                 Dload  Upload   Total   Spent    Left  Speed\n",
      "  0     0    0     0    0     0      0      0 --:--:-- --:--:-- --:--:--     0"
     ]
    },
    {
     "name": "stdout",
     "output_type": "stream",
     "text": [
      "{'status': 'OK', 'data': {'files': [{'description': '', 'label': 'r1-all-2023.csv.gz', 'restricted': False, 'version': 1, 'datasetVersionId': 346141, 'dataFile': {'id': 7166452, 'persistentId': '', 'pidURL': '', 'filename': 'r1-all-2023.csv.gz', 'contentType': 'application/gzip', 'filesize': 8267336, 'description': '', 'storageIdentifier': 's3://dvn-cloud:188aafc0b59-b9857385628e', 'rootDataFileId': -1, 'md5': 'dabb85d2db915026e975cf590957afd9', 'checksum': {'type': 'MD5', 'value': 'dabb85d2db915026e975cf590957afd9'}, 'creationDate': '2023-06-11'}}]}}\n",
      "./output/r6-all-2014.csv.gz\n"
     ]
    },
    {
     "name": "stderr",
     "output_type": "stream",
     "text": [
      "100 8800k  100   516  100 8800k    156  2676k  0:00:03  0:00:03 --:--:-- 2676k\n",
      "  % Total    % Received % Xferd  Average Speed   Time    Time     Time  Current\n",
      "                                 Dload  Upload   Total   Spent    Left  Speed\n",
      "  0     0    0     0    0     0      0      0 --:--:-- --:--:-- --:--:--     0"
     ]
    },
    {
     "name": "stdout",
     "output_type": "stream",
     "text": [
      "{'status': 'OK', 'data': {'files': [{'description': '', 'label': 'r6-all-2014.csv.gz', 'restricted': False, 'version': 1, 'datasetVersionId': 346141, 'dataFile': {'id': 7166453, 'persistentId': '', 'pidURL': '', 'filename': 'r6-all-2014.csv.gz', 'contentType': 'application/gzip', 'filesize': 9011019, 'description': '', 'storageIdentifier': 's3://dvn-cloud:188aafc1892-91c30aec86d8', 'rootDataFileId': -1, 'md5': 'e244a32f01e0cac848151f104b7a4db9', 'checksum': {'type': 'MD5', 'value': 'e244a32f01e0cac848151f104b7a4db9'}, 'creationDate': '2023-06-11'}}]}}\n",
      "./output/r6-all-2015.csv.gz\n"
     ]
    },
    {
     "name": "stderr",
     "output_type": "stream",
     "text": [
      "100 9476k  100   516  100 9476k    152  2796k  0:00:03  0:00:03 --:--:-- 2796k\n",
      "  % Total    % Received % Xferd  Average Speed   Time    Time     Time  Current\n",
      "                                 Dload  Upload   Total   Spent    Left  Speed\n",
      "  0     0    0     0    0     0      0      0 --:--:-- --:--:-- --:--:--     0"
     ]
    },
    {
     "name": "stdout",
     "output_type": "stream",
     "text": [
      "{'status': 'OK', 'data': {'files': [{'description': '', 'label': 'r6-all-2015.csv.gz', 'restricted': False, 'version': 1, 'datasetVersionId': 346141, 'dataFile': {'id': 7166454, 'persistentId': '', 'pidURL': '', 'filename': 'r6-all-2015.csv.gz', 'contentType': 'application/gzip', 'filesize': 9703293, 'description': '', 'storageIdentifier': 's3://dvn-cloud:188aafc2584-af0ca91d682c', 'rootDataFileId': -1, 'md5': '10005631aa48924849baeb8f58131cc3', 'checksum': {'type': 'MD5', 'value': '10005631aa48924849baeb8f58131cc3'}, 'creationDate': '2023-06-11'}}]}}\n",
      "./output/r6-all-2016.csv.gz\n"
     ]
    },
    {
     "name": "stderr",
     "output_type": "stream",
     "text": [
      "100 10.3M  100   517  100 10.3M    161  3295k  0:00:03  0:00:03 --:--:-- 3295k\n",
      "  % Total    % Received % Xferd  Average Speed   Time    Time     Time  Current\n",
      "                                 Dload  Upload   Total   Spent    Left  Speed\n",
      "  0     0    0     0    0     0      0      0 --:--:-- --:--:-- --:--:--     0"
     ]
    },
    {
     "name": "stdout",
     "output_type": "stream",
     "text": [
      "{'status': 'OK', 'data': {'files': [{'description': '', 'label': 'r6-all-2016.csv.gz', 'restricted': False, 'version': 1, 'datasetVersionId': 346141, 'dataFile': {'id': 7166455, 'persistentId': '', 'pidURL': '', 'filename': 'r6-all-2016.csv.gz', 'contentType': 'application/gzip', 'filesize': 10833143, 'description': '', 'storageIdentifier': 's3://dvn-cloud:188aafc32cf-1e4530ae49a6', 'rootDataFileId': -1, 'md5': '9d88038f71dada769ccf30d9697c1b3c', 'checksum': {'type': 'MD5', 'value': '9d88038f71dada769ccf30d9697c1b3c'}, 'creationDate': '2023-06-11'}}]}}\n",
      "./output/r6-all-2017.csv.gz\n"
     ]
    },
    {
     "name": "stderr",
     "output_type": "stream",
     "text": [
      "100 11.8M  100   517  100 11.8M    132  3118k  0:00:03  0:00:03 --:--:-- 3117k\n",
      "  % Total    % Received % Xferd  Average Speed   Time    Time     Time  Current\n",
      "                                 Dload  Upload   Total   Spent    Left  Speed\n",
      "  0     0    0     0    0     0      0      0 --:--:-- --:--:-- --:--:--     0"
     ]
    },
    {
     "name": "stdout",
     "output_type": "stream",
     "text": [
      "{'status': 'OK', 'data': {'files': [{'description': '', 'label': 'r6-all-2017.csv.gz', 'restricted': False, 'version': 1, 'datasetVersionId': 346141, 'dataFile': {'id': 7166456, 'persistentId': '', 'pidURL': '', 'filename': 'r6-all-2017.csv.gz', 'contentType': 'application/gzip', 'filesize': 12438465, 'description': '', 'storageIdentifier': 's3://dvn-cloud:188aafc410f-4e329fcdfe4f', 'rootDataFileId': -1, 'md5': 'd291977f5205a6100e9bc065b0cfbbe0', 'checksum': {'type': 'MD5', 'value': 'd291977f5205a6100e9bc065b0cfbbe0'}, 'creationDate': '2023-06-11'}}]}}\n",
      "./output/r6-all-2018.csv.gz\n"
     ]
    },
    {
     "name": "stderr",
     "output_type": "stream",
     "text": [
      "100 11.9M  100   517  100 11.9M    157  3733k  0:00:03  0:00:03 --:--:-- 3734k\n",
      "  % Total    % Received % Xferd  Average Speed   Time    Time     Time  Current\n",
      "                                 Dload  Upload   Total   Spent    Left  Speed\n",
      "  0     0    0     0    0     0      0      0 --:--:-- --:--:-- --:--:--     0"
     ]
    },
    {
     "name": "stdout",
     "output_type": "stream",
     "text": [
      "{'status': 'OK', 'data': {'files': [{'description': '', 'label': 'r6-all-2018.csv.gz', 'restricted': False, 'version': 1, 'datasetVersionId': 346141, 'dataFile': {'id': 7166457, 'persistentId': '', 'pidURL': '', 'filename': 'r6-all-2018.csv.gz', 'contentType': 'application/gzip', 'filesize': 12568557, 'description': '', 'storageIdentifier': 's3://dvn-cloud:188aafc4f29-f97874f2ddd5', 'rootDataFileId': -1, 'md5': '298d31e48abd03b2bd97641b524f66b8', 'checksum': {'type': 'MD5', 'value': '298d31e48abd03b2bd97641b524f66b8'}, 'creationDate': '2023-06-11'}}]}}\n",
      "./output/r6-all-2019.csv.gz\n"
     ]
    },
    {
     "name": "stderr",
     "output_type": "stream",
     "text": [
      "100 12.2M    0     0  100 12.2M      0  4452k  0:00:02  0:00:02 --:--:-- 4451k"
     ]
    },
    {
     "name": "stdout",
     "output_type": "stream",
     "text": [
      "{'status': 'OK', 'data': {'files': [{'description': '', 'label': 'r6-all-2019.csv.gz', 'restricted': False, 'version': 1, 'datasetVersionId': 346141, 'dataFile': {'id': 7166458, 'persistentId': '', 'pidURL': '', 'filename': 'r6-all-2019.csv.gz', 'contentType': 'application/gzip', 'filesize': 12893990, 'description': '', 'storageIdentifier': 's3://dvn-cloud:188aafc5c26-b94b110ff116', 'rootDataFileId': -1, 'md5': 'cda8ed645a86743a5e1f003761576d80', 'checksum': {'type': 'MD5', 'value': 'cda8ed645a86743a5e1f003761576d80'}, 'creationDate': '2023-06-11'}}]}}\n",
      "./output/r6-all-2020.csv.gz\n"
     ]
    },
    {
     "name": "stderr",
     "output_type": "stream",
     "text": [
      "100 12.2M  100   517  100 12.2M    161  3931k  0:00:03  0:00:03 --:--:-- 3930k\n",
      "  % Total    % Received % Xferd  Average Speed   Time    Time     Time  Current\n",
      "                                 Dload  Upload   Total   Spent    Left  Speed\n",
      "100 13.9M  100   517  100 13.9M    140  3883k  0:00:03  0:00:03 --:--:-- 3883k\n",
      "  % Total    % Received % Xferd  Average Speed   Time    Time     Time  Current\n",
      "                                 Dload  Upload   Total   Spent    Left  Speed\n",
      "  0     0    0     0    0     0      0      0 --:--:-- --:--:-- --:--:--     0"
     ]
    },
    {
     "name": "stdout",
     "output_type": "stream",
     "text": [
      "{'status': 'OK', 'data': {'files': [{'description': '', 'label': 'r6-all-2020.csv.gz', 'restricted': False, 'version': 1, 'datasetVersionId': 346141, 'dataFile': {'id': 7166459, 'persistentId': '', 'pidURL': '', 'filename': 'r6-all-2020.csv.gz', 'contentType': 'application/gzip', 'filesize': 14644446, 'description': '', 'storageIdentifier': 's3://dvn-cloud:188aafc69c2-6c1456e669cb', 'rootDataFileId': -1, 'md5': 'afc4e23d47beb0412a8d7ffddf530a6f', 'checksum': {'type': 'MD5', 'value': 'afc4e23d47beb0412a8d7ffddf530a6f'}, 'creationDate': '2023-06-11'}}]}}\n",
      "./output/r6-all-2021.csv.gz\n"
     ]
    },
    {
     "name": "stderr",
     "output_type": "stream",
     "text": [
      "100 14.2M  100   517  100 14.2M    151  4265k  0:00:03  0:00:03 --:--:-- 4264k\n"
     ]
    },
    {
     "name": "stdout",
     "output_type": "stream",
     "text": [
      "{'status': 'OK', 'data': {'files': [{'description': '', 'label': 'r6-all-2021.csv.gz', 'restricted': False, 'version': 1, 'datasetVersionId': 346141, 'dataFile': {'id': 7166460, 'persistentId': '', 'pidURL': '', 'filename': 'r6-all-2021.csv.gz', 'contentType': 'application/gzip', 'filesize': 14894783, 'description': '', 'storageIdentifier': 's3://dvn-cloud:188aafc7789-0fc65a0cbc77', 'rootDataFileId': -1, 'md5': '920fc7447782f553f78cdda275a874ef', 'checksum': {'type': 'MD5', 'value': '920fc7447782f553f78cdda275a874ef'}, 'creationDate': '2023-06-11'}}]}}\n",
      "./output/r6-all-2022.csv.gz\n"
     ]
    },
    {
     "name": "stderr",
     "output_type": "stream",
     "text": [
      "  % Total    % Received % Xferd  Average Speed   Time    Time     Time  Current\n",
      "                                 Dload  Upload   Total   Spent    Left  Speed\n",
      "100 13.9M  100   517  100 13.9M    147  4096k  0:00:03  0:00:03 --:--:-- 4095k\n",
      "  % Total    % Received % Xferd  Average Speed   Time    Time     Time  Current\n",
      "                                 Dload  Upload   Total   Spent    Left  Speed\n",
      "  0     0    0     0    0     0      0      0 --:--:-- --:--:-- --:--:--     0"
     ]
    },
    {
     "name": "stdout",
     "output_type": "stream",
     "text": [
      "{'status': 'OK', 'data': {'files': [{'description': '', 'label': 'r6-all-2022.csv.gz', 'restricted': False, 'version': 1, 'datasetVersionId': 346141, 'dataFile': {'id': 7166461, 'persistentId': '', 'pidURL': '', 'filename': 'r6-all-2022.csv.gz', 'contentType': 'application/gzip', 'filesize': 14677924, 'description': '', 'storageIdentifier': 's3://dvn-cloud:188aafc8635-a9fc7a2bc568', 'rootDataFileId': -1, 'md5': 'adc9cbaf94a2d5043da28f2d713f3337', 'checksum': {'type': 'MD5', 'value': 'adc9cbaf94a2d5043da28f2d713f3337'}, 'creationDate': '2023-06-11'}}]}}\n",
      "./output/r6-all-2023.csv.gz\n"
     ]
    },
    {
     "name": "stderr",
     "output_type": "stream",
     "text": [
      "100 10.8M    0     0  100 10.8M      0  3966k  0:00:02  0:00:02 --:--:-- 3966k"
     ]
    },
    {
     "name": "stdout",
     "output_type": "stream",
     "text": [
      "{'status': 'OK', 'data': {'files': [{'description': '', 'label': 'r6-all-2023.csv.gz', 'restricted': False, 'version': 1, 'datasetVersionId': 346141, 'dataFile': {'id': 7166462, 'persistentId': '', 'pidURL': '', 'filename': 'r6-all-2023.csv.gz', 'contentType': 'application/gzip', 'filesize': 11426459, 'description': '', 'storageIdentifier': 's3://dvn-cloud:188aafc93cb-38438080135c', 'rootDataFileId': -1, 'md5': '6181cc74b5b46183852c48f6e020bd78', 'checksum': {'type': 'MD5', 'value': '6181cc74b5b46183852c48f6e020bd78'}, 'creationDate': '2023-06-11'}}]}}\n"
     ]
    },
    {
     "name": "stderr",
     "output_type": "stream",
     "text": [
      "100 10.8M  100   517  100 10.8M    156  3379k  0:00:03  0:00:03 --:--:-- 3379k\n"
     ]
    }
   ],
   "source": [
    "from glob import glob\n",
    "\n",
    "for fn in sorted(glob('./output/*')):\n",
    "    print(fn)\n",
    "    resp = api.upload_file(doi, fn)\n",
    "    print(resp)"
   ]
  },
  {
   "cell_type": "markdown",
   "id": "4252b004-d3ea-40d8-a324-7d8d4a0fe057",
   "metadata": {},
   "source": [
    "### Upload Raw CSV files to Dataverse"
   ]
  },
  {
   "cell_type": "code",
   "execution_count": 7,
   "id": "ae69d581-72f2-4734-8fb4-803805b1587d",
   "metadata": {},
   "outputs": [
    {
     "name": "stderr",
     "output_type": "stream",
     "text": [
      "  % Total    % Received % Xferd  Average Speed   Time    Time     Time  Current\n",
      "                                 Dload  Upload   Total   Spent    Left  Speed\n",
      "  0     0    0     0    0     0      0      0 --:--:-- --:--:-- --:--:--     0"
     ]
    },
    {
     "name": "stdout",
     "output_type": "stream",
     "text": [
      "./2014-csv.tar.gz\n"
     ]
    },
    {
     "name": "stderr",
     "output_type": "stream",
     "text": [
      "100 19.6M  100   511  100 19.6M    116  4571k  0:00:04  0:00:04 --:--:-- 5043k\n",
      "  % Total    % Received % Xferd  Average Speed   Time    Time     Time  Current\n",
      "                                 Dload  Upload   Total   Spent    Left  Speed\n",
      "  0     0    0     0    0     0      0      0 --:--:-- --:--:-- --:--:--     0"
     ]
    },
    {
     "name": "stdout",
     "output_type": "stream",
     "text": [
      "{'status': 'OK', 'data': {'files': [{'description': '', 'label': '2014-csv.tar.gz', 'restricted': False, 'version': 1, 'datasetVersionId': 346141, 'dataFile': {'id': 7166463, 'persistentId': '', 'pidURL': '', 'filename': '2014-csv.tar.gz', 'contentType': 'application/gzip', 'filesize': 20581928, 'description': '', 'storageIdentifier': 's3://dvn-cloud:188aafca400-53baee2e3ca2', 'rootDataFileId': -1, 'md5': '4a60a4aa082f05d70ab797cecbc88ac0', 'checksum': {'type': 'MD5', 'value': '4a60a4aa082f05d70ab797cecbc88ac0'}, 'creationDate': '2023-06-11'}}]}}\n",
      "./2015-csv.tar.gz\n"
     ]
    },
    {
     "name": "stderr",
     "output_type": "stream",
     "text": [
      "100 20.4M  100   511  100 20.4M    128  5249k  0:00:03  0:00:03 --:--:-- 5249k\n",
      "  % Total    % Received % Xferd  Average Speed   Time    Time     Time  Current\n",
      "                                 Dload  Upload   Total   Spent    Left  Speed\n",
      "  0     0    0     0    0     0      0      0 --:--:-- --:--:-- --:--:--     0"
     ]
    },
    {
     "name": "stdout",
     "output_type": "stream",
     "text": [
      "{'status': 'OK', 'data': {'files': [{'description': '', 'label': '2015-csv.tar.gz', 'restricted': False, 'version': 1, 'datasetVersionId': 346141, 'dataFile': {'id': 7166464, 'persistentId': '', 'pidURL': '', 'filename': '2015-csv.tar.gz', 'contentType': 'application/gzip', 'filesize': 21400261, 'description': '', 'storageIdentifier': 's3://dvn-cloud:188aafcb46a-e0cadc01e563', 'rootDataFileId': -1, 'md5': 'eb9035e18aa423dc799e6d0e1e2599c7', 'checksum': {'type': 'MD5', 'value': 'eb9035e18aa423dc799e6d0e1e2599c7'}, 'creationDate': '2023-06-11'}}]}}\n",
      "./2016-csv.tar.gz\n"
     ]
    },
    {
     "name": "stderr",
     "output_type": "stream",
     "text": [
      "100 21.8M  100   511  100 21.8M     88  3865k  0:00:05  0:00:05 --:--:-- 4366k\n",
      "  % Total    % Received % Xferd  Average Speed   Time    Time     Time  Current\n",
      "                                 Dload  Upload   Total   Spent    Left  Speed\n",
      "  0     0    0     0    0     0      0      0 --:--:-- --:--:-- --:--:--     0"
     ]
    },
    {
     "name": "stdout",
     "output_type": "stream",
     "text": [
      "{'status': 'OK', 'data': {'files': [{'description': '', 'label': '2016-csv.tar.gz', 'restricted': False, 'version': 1, 'datasetVersionId': 346141, 'dataFile': {'id': 7166465, 'persistentId': '', 'pidURL': '', 'filename': '2016-csv.tar.gz', 'contentType': 'application/gzip', 'filesize': 22908777, 'description': '', 'storageIdentifier': 's3://dvn-cloud:188aafccb2b-9b42a6f6e25f', 'rootDataFileId': -1, 'md5': 'a73368255c1893fb567463b80a6c1feb', 'checksum': {'type': 'MD5', 'value': 'a73368255c1893fb567463b80a6c1feb'}, 'creationDate': '2023-06-11'}}]}}\n",
      "./2017-csv.tar.gz\n"
     ]
    },
    {
     "name": "stderr",
     "output_type": "stream",
     "text": [
      "100 23.6M  100   511  100 23.6M    127  6045k  0:00:04  0:00:04 --:--:-- 6047k\n",
      "  % Total    % Received % Xferd  Average Speed   Time    Time     Time  Current\n",
      "                                 Dload  Upload   Total   Spent    Left  Speed\n",
      "  0     0    0     0    0     0      0      0 --:--:-- --:--:-- --:--:--     0"
     ]
    },
    {
     "name": "stdout",
     "output_type": "stream",
     "text": [
      "{'status': 'OK', 'data': {'files': [{'description': '', 'label': '2017-csv.tar.gz', 'restricted': False, 'version': 1, 'datasetVersionId': 346141, 'dataFile': {'id': 7166466, 'persistentId': '', 'pidURL': '', 'filename': '2017-csv.tar.gz', 'contentType': 'application/gzip', 'filesize': 24812405, 'description': '', 'storageIdentifier': 's3://dvn-cloud:188aafcdb30-5289a8911a28', 'rootDataFileId': -1, 'md5': 'cf5286d13f90b1f5d7335b1e1c61b85b', 'checksum': {'type': 'MD5', 'value': 'cf5286d13f90b1f5d7335b1e1c61b85b'}, 'creationDate': '2023-06-11'}}]}}\n",
      "./2018-csv.tar.gz\n"
     ]
    },
    {
     "name": "stderr",
     "output_type": "stream",
     "text": [
      "100 23.9M  100   511  100 23.9M    108  5202k  0:00:04  0:00:04 --:--:-- 5202k\n",
      "  % Total    % Received % Xferd  Average Speed   Time    Time     Time  Current\n",
      "                                 Dload  Upload   Total   Spent    Left  Speed\n",
      "  0     0    0     0    0     0      0      0 --:--:-- --:--:-- --:--:--     0"
     ]
    },
    {
     "name": "stdout",
     "output_type": "stream",
     "text": [
      "{'status': 'OK', 'data': {'files': [{'description': '', 'label': '2018-csv.tar.gz', 'restricted': False, 'version': 1, 'datasetVersionId': 346141, 'dataFile': {'id': 7166467, 'persistentId': '', 'pidURL': '', 'filename': '2018-csv.tar.gz', 'contentType': 'application/gzip', 'filesize': 25158546, 'description': '', 'storageIdentifier': 's3://dvn-cloud:188aafcee14-18377f93a120', 'rootDataFileId': -1, 'md5': 'e06b1bd2bff47efc7a71c40bc62370a5', 'checksum': {'type': 'MD5', 'value': 'e06b1bd2bff47efc7a71c40bc62370a5'}, 'creationDate': '2023-06-11'}}]}}\n",
      "./2019-csv.tar.gz\n"
     ]
    },
    {
     "name": "stderr",
     "output_type": "stream",
     "text": [
      "100 24.3M  100   511  100 24.3M    116  5662k  0:00:04  0:00:04 --:--:-- 5905k\n",
      "  % Total    % Received % Xferd  Average Speed   Time    Time     Time  Current\n",
      "                                 Dload  Upload   Total   Spent    Left  Speed\n",
      "  0     0    0     0    0     0      0      0 --:--:-- --:--:-- --:--:--     0"
     ]
    },
    {
     "name": "stdout",
     "output_type": "stream",
     "text": [
      "{'status': 'OK', 'data': {'files': [{'description': '', 'label': '2019-csv.tar.gz', 'restricted': False, 'version': 1, 'datasetVersionId': 346141, 'dataFile': {'id': 7166468, 'persistentId': '', 'pidURL': '', 'filename': '2019-csv.tar.gz', 'contentType': 'application/gzip', 'filesize': 25505783, 'description': '', 'storageIdentifier': 's3://dvn-cloud:188aafcff04-a9bcee398100', 'rootDataFileId': -1, 'md5': 'c493fec64f14b7ba8f77a63a23bda345', 'checksum': {'type': 'MD5', 'value': 'c493fec64f14b7ba8f77a63a23bda345'}, 'creationDate': '2023-06-11'}}]}}\n",
      "./2020-csv.tar.gz\n"
     ]
    },
    {
     "name": "stderr",
     "output_type": "stream",
     "text": [
      "100 26.3M  100   511  100 26.3M    118  6270k  0:00:04  0:00:04 --:--:-- 6271k\n",
      "  % Total    % Received % Xferd  Average Speed   Time    Time     Time  Current\n",
      "                                 Dload  Upload   Total   Spent    Left  Speed\n",
      "  0     0    0     0    0     0      0      0 --:--:-- --:--:-- --:--:--     0"
     ]
    },
    {
     "name": "stdout",
     "output_type": "stream",
     "text": [
      "{'status': 'OK', 'data': {'files': [{'description': '', 'label': '2020-csv.tar.gz', 'restricted': False, 'version': 1, 'datasetVersionId': 346141, 'dataFile': {'id': 7166469, 'persistentId': '', 'pidURL': '', 'filename': '2020-csv.tar.gz', 'contentType': 'application/gzip', 'filesize': 27618544, 'description': '', 'storageIdentifier': 's3://dvn-cloud:188aafd10b7-e2a538b2b9a3', 'rootDataFileId': -1, 'md5': '7e82034a7f27db63344c3c991a231785', 'checksum': {'type': 'MD5', 'value': '7e82034a7f27db63344c3c991a231785'}, 'creationDate': '2023-06-11'}}]}}\n",
      "./2021-csv.tar.gz\n"
     ]
    },
    {
     "name": "stderr",
     "output_type": "stream",
     "text": [
      "100 26.5M  100   511  100 26.5M    116  6189k  0:00:04  0:00:04 --:--:-- 6612k\n",
      "  % Total    % Received % Xferd  Average Speed   Time    Time     Time  Current\n",
      "                                 Dload  Upload   Total   Spent    Left  Speed\n",
      "  0     0    0     0    0     0      0      0 --:--:-- --:--:-- --:--:--     0"
     ]
    },
    {
     "name": "stdout",
     "output_type": "stream",
     "text": [
      "{'status': 'OK', 'data': {'files': [{'description': '', 'label': '2021-csv.tar.gz', 'restricted': False, 'version': 1, 'datasetVersionId': 346141, 'dataFile': {'id': 7166470, 'persistentId': '', 'pidURL': '', 'filename': '2021-csv.tar.gz', 'contentType': 'application/gzip', 'filesize': 27854536, 'description': '', 'storageIdentifier': 's3://dvn-cloud:188aafd2206-fa9e234530a5', 'rootDataFileId': -1, 'md5': 'd2cdca1e9c2f39f23bcde6dfd8d581fe', 'checksum': {'type': 'MD5', 'value': 'd2cdca1e9c2f39f23bcde6dfd8d581fe'}, 'creationDate': '2023-06-11'}}]}}\n",
      "./2022-csv.tar.gz\n"
     ]
    },
    {
     "name": "stderr",
     "output_type": "stream",
     "text": [
      "100 26.0M  100   511  100 26.0M    113  5943k  0:00:04  0:00:04 --:--:-- 5943k\n",
      "  % Total    % Received % Xferd  Average Speed   Time    Time     Time  Current\n",
      "                                 Dload  Upload   Total   Spent    Left  Speed\n",
      "  0     0    0     0    0     0      0      0 --:--:-- --:--:-- --:--:--     0"
     ]
    },
    {
     "name": "stdout",
     "output_type": "stream",
     "text": [
      "{'status': 'OK', 'data': {'files': [{'description': '', 'label': '2022-csv.tar.gz', 'restricted': False, 'version': 1, 'datasetVersionId': 346141, 'dataFile': {'id': 7166471, 'persistentId': '', 'pidURL': '', 'filename': '2022-csv.tar.gz', 'contentType': 'application/gzip', 'filesize': 27322248, 'description': '', 'storageIdentifier': 's3://dvn-cloud:188aafd33b2-06fbbdb20ed8', 'rootDataFileId': -1, 'md5': '9c968cd6dac9b25a8d54faee286c1a13', 'checksum': {'type': 'MD5', 'value': '9c968cd6dac9b25a8d54faee286c1a13'}, 'creationDate': '2023-06-11'}}]}}\n",
      "./2023-csv.tar.gz\n"
     ]
    },
    {
     "name": "stderr",
     "output_type": "stream",
     "text": [
      "100 22.8M    0     0  100 22.8M      0  6908k  0:00:03  0:00:03 --:--:-- 6906k"
     ]
    },
    {
     "name": "stdout",
     "output_type": "stream",
     "text": [
      "{'status': 'OK', 'data': {'files': [{'description': '', 'label': '2023-csv.tar.gz', 'restricted': False, 'version': 1, 'datasetVersionId': 346141, 'dataFile': {'id': 7166472, 'persistentId': '', 'pidURL': '', 'filename': '2023-csv.tar.gz', 'contentType': 'application/gzip', 'filesize': 23982242, 'description': '', 'storageIdentifier': 's3://dvn-cloud:188aafd43ac-ef4ddc7e2f69', 'rootDataFileId': -1, 'md5': 'da68c987a7a72cbbdb431a221c11ded8', 'checksum': {'type': 'MD5', 'value': 'da68c987a7a72cbbdb431a221c11ded8'}, 'creationDate': '2023-06-11'}}]}}\n"
     ]
    },
    {
     "name": "stderr",
     "output_type": "stream",
     "text": [
      "100 22.8M  100   511  100 22.8M    124  5727k  0:00:04  0:00:04 --:--:-- 5727k\n"
     ]
    }
   ],
   "source": [
    "for fn in sorted(glob('./20*-csv.tar.gz')):\n",
    "    print(fn)\n",
    "    resp = api.upload_file(doi, fn)\n",
    "    print(resp)"
   ]
  }
 ],
 "metadata": {
  "kernelspec": {
   "display_name": "Python 3 (ipykernel)",
   "language": "python",
   "name": "python3"
  },
  "language_info": {
   "codemirror_mode": {
    "name": "ipython",
    "version": 3
   },
   "file_extension": ".py",
   "mimetype": "text/x-python",
   "name": "python",
   "nbconvert_exporter": "python",
   "pygments_lexer": "ipython3",
   "version": "3.8.10"
  }
 },
 "nbformat": 4,
 "nbformat_minor": 5
}

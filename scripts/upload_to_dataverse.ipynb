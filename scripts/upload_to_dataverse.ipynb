{
 "cells": [
  {
   "cell_type": "code",
   "execution_count": 1,
   "id": "71781884-0ede-4019-ae4d-1419c981602b",
   "metadata": {},
   "outputs": [],
   "source": [
    "#!pip install \"pyDataverse<0.3.0\""
   ]
  },
  {
   "cell_type": "code",
   "execution_count": 2,
   "id": "a177f373-f589-410f-8bfd-bfe22f7e825e",
   "metadata": {},
   "outputs": [],
   "source": [
    "# Dataverse API Token\n",
    "# https://dataverse.harvard.edu/dataverseuser.xhtml?selectTab=apiTokenTab\n",
    "host = 'https://dataverse.harvard.edu'\n",
    "token = ''\n",
    "doi = 'doi:10.7910/DVN/ZHF9WC'"
   ]
  },
  {
   "cell_type": "code",
   "execution_count": 3,
   "id": "863b799a-16b5-4495-b918-b2905930a3a4",
   "metadata": {},
   "outputs": [],
   "source": [
    "from pyDataverse.api import Api"
   ]
  },
  {
   "cell_type": "code",
   "execution_count": 4,
   "id": "457f428e-fd00-487e-bfcf-ef92103f14a8",
   "metadata": {},
   "outputs": [
    {
     "data": {
      "text/plain": [
       "'OK'"
      ]
     },
     "execution_count": 4,
     "metadata": {},
     "output_type": "execute_result"
    }
   ],
   "source": [
    "api = Api('https://dataverse.harvard.edu/', token)\n",
    "api.status"
   ]
  },
  {
   "cell_type": "code",
   "execution_count": 5,
   "id": "428cf205-b390-4e88-b024-074f0044c295",
   "metadata": {},
   "outputs": [
    {
     "data": {
      "text/plain": [
       "{'status': 'OK',\n",
       " 'data': {'id': 7165535,\n",
       "  'identifier': 'DVN/ZHF9WC',\n",
       "  'persistentUrl': 'https://doi.org/10.7910/DVN/ZHF9WC',\n",
       "  'protocol': 'doi',\n",
       "  'authority': '10.7910',\n",
       "  'publisher': 'Harvard Dataverse',\n",
       "  'publicationDate': '2023-06-11',\n",
       "  'storageIdentifier': 's3://10.7910/DVN/ZHF9WC',\n",
       "  'latestVersion': {'id': 417138,\n",
       "   'datasetId': 7165535,\n",
       "   'datasetPersistentId': 'doi:10.7910/DVN/ZHF9WC',\n",
       "   'storageIdentifier': 's3://10.7910/DVN/ZHF9WC',\n",
       "   'versionNumber': 3,\n",
       "   'versionMinorNumber': 0,\n",
       "   'versionState': 'RELEASED',\n",
       "   'lastUpdateTime': '2024-04-27T02:35:59Z',\n",
       "   'releaseTime': '2024-04-27T02:35:59Z',\n",
       "   'createTime': '2024-04-27T00:46:43Z',\n",
       "   'publicationDate': '2023-06-11',\n",
       "   'citationDate': '2023-06-11',\n",
       "   'license': {'name': 'CC0 1.0',\n",
       "    'uri': 'http://creativecommons.org/publicdomain/zero/1.0',\n",
       "    'iconUri': 'https://licensebuttons.net/p/zero/1.0/88x31.png'},\n",
       "   'fileAccessRequest': True,\n",
       "   'metadataBlocks': {'citation': {'displayName': 'Citation Metadata',\n",
       "     'name': 'citation',\n",
       "     'fields': [{'typeName': 'title',\n",
       "       'multiple': False,\n",
       "       'typeClass': 'primitive',\n",
       "       'value': 'MNREGA R1 and R6 Reports (2007---2023)'},\n",
       "      {'typeName': 'author',\n",
       "       'multiple': True,\n",
       "       'typeClass': 'compound',\n",
       "       'value': [{'authorName': {'typeName': 'authorName',\n",
       "          'multiple': False,\n",
       "          'typeClass': 'primitive',\n",
       "          'value': 'Sood, Gaurav'}}]},\n",
       "      {'typeName': 'datasetContact',\n",
       "       'multiple': True,\n",
       "       'typeClass': 'compound',\n",
       "       'value': [{'datasetContactName': {'typeName': 'datasetContactName',\n",
       "          'multiple': False,\n",
       "          'typeClass': 'primitive',\n",
       "          'value': 'Sood, Gaurav'},\n",
       "         'datasetContactEmail': {'typeName': 'datasetContactEmail',\n",
       "          'multiple': False,\n",
       "          'typeClass': 'primitive',\n",
       "          'value': 'gsood07@gmail.com'}}]},\n",
       "      {'typeName': 'dsDescription',\n",
       "       'multiple': True,\n",
       "       'typeClass': 'compound',\n",
       "       'value': [{'dsDescriptionValue': {'typeName': 'dsDescriptionValue',\n",
       "          'multiple': False,\n",
       "          'typeClass': 'primitive',\n",
       "          'value': 'MNREGA R1 and R6 Reports (2014---2023). Github: https://github.com/in-rolls/mnregra'}}]},\n",
       "      {'typeName': 'subject',\n",
       "       'multiple': True,\n",
       "       'typeClass': 'controlledVocabulary',\n",
       "       'value': ['Social Sciences']},\n",
       "      {'typeName': 'depositor',\n",
       "       'multiple': False,\n",
       "       'typeClass': 'primitive',\n",
       "       'value': 'Sood, Gaurav'},\n",
       "      {'typeName': 'dateOfDeposit',\n",
       "       'multiple': False,\n",
       "       'typeClass': 'primitive',\n",
       "       'value': '2023-06-10'}]}},\n",
       "   'files': [{'description': '',\n",
       "     'label': '2007-csv.tar.gz',\n",
       "     'restricted': False,\n",
       "     'version': 1,\n",
       "     'datasetVersionId': 417138,\n",
       "     'dataFile': {'id': 8569670,\n",
       "      'persistentId': '',\n",
       "      'filename': '2007-csv.tar.gz',\n",
       "      'contentType': 'application/gzip',\n",
       "      'friendlyType': 'Gzip Archive',\n",
       "      'filesize': 5908804,\n",
       "      'description': '',\n",
       "      'storageIdentifier': 's3://dvn-cloud:18df0ef5f8a-68c977ce094b',\n",
       "      'rootDataFileId': -1,\n",
       "      'md5': 'b4d3d7d8267dd5b73cf410fe34bb2bd0',\n",
       "      'checksum': {'type': 'MD5', 'value': 'b4d3d7d8267dd5b73cf410fe34bb2bd0'},\n",
       "      'tabularData': False,\n",
       "      'creationDate': '2024-02-28',\n",
       "      'publicationDate': '2024-02-29',\n",
       "      'fileAccessRequest': True}},\n",
       "    {'description': '',\n",
       "     'label': '2008-csv.tar.gz',\n",
       "     'restricted': False,\n",
       "     'version': 1,\n",
       "     'datasetVersionId': 417138,\n",
       "     'dataFile': {'id': 8569671,\n",
       "      'persistentId': '',\n",
       "      'filename': '2008-csv.tar.gz',\n",
       "      'contentType': 'application/gzip',\n",
       "      'friendlyType': 'Gzip Archive',\n",
       "      'filesize': 6783766,\n",
       "      'description': '',\n",
       "      'storageIdentifier': 's3://dvn-cloud:18df0ef6843-2bcf71672b71',\n",
       "      'rootDataFileId': -1,\n",
       "      'md5': '9408fccb3b55f4d6658dcfa8cb31dc48',\n",
       "      'checksum': {'type': 'MD5', 'value': '9408fccb3b55f4d6658dcfa8cb31dc48'},\n",
       "      'tabularData': False,\n",
       "      'creationDate': '2024-02-28',\n",
       "      'publicationDate': '2024-02-29',\n",
       "      'fileAccessRequest': True}},\n",
       "    {'description': '',\n",
       "     'label': '2009-csv.tar-1.gz',\n",
       "     'restricted': False,\n",
       "     'version': 1,\n",
       "     'datasetVersionId': 417138,\n",
       "     'dataFile': {'id': 10153714,\n",
       "      'persistentId': '',\n",
       "      'filename': '2009-csv.tar-1.gz',\n",
       "      'contentType': 'application/gzip',\n",
       "      'friendlyType': 'Gzip Archive',\n",
       "      'filesize': 9155049,\n",
       "      'description': '',\n",
       "      'storageIdentifier': 's3://dvn-cloud:18f1d06065a-8475a263bdf3',\n",
       "      'rootDataFileId': -1,\n",
       "      'md5': '77bb893175e0da6ee3f3645c8f127c76',\n",
       "      'checksum': {'type': 'MD5', 'value': '77bb893175e0da6ee3f3645c8f127c76'},\n",
       "      'tabularData': False,\n",
       "      'creationDate': '2024-04-26',\n",
       "      'publicationDate': '2024-04-26',\n",
       "      'fileAccessRequest': True}},\n",
       "    {'description': '',\n",
       "     'label': '2009-csv.tar.gz',\n",
       "     'restricted': False,\n",
       "     'version': 1,\n",
       "     'datasetVersionId': 417138,\n",
       "     'dataFile': {'id': 8569672,\n",
       "      'persistentId': '',\n",
       "      'filename': '2009-csv.tar.gz',\n",
       "      'contentType': 'application/gzip',\n",
       "      'friendlyType': 'Gzip Archive',\n",
       "      'filesize': 942027,\n",
       "      'description': '',\n",
       "      'storageIdentifier': 's3://dvn-cloud:18df0ef6fad-0cab26fea5a2',\n",
       "      'rootDataFileId': -1,\n",
       "      'md5': '17adb53fef8787414a944dfd8e472b23',\n",
       "      'checksum': {'type': 'MD5', 'value': '17adb53fef8787414a944dfd8e472b23'},\n",
       "      'tabularData': False,\n",
       "      'creationDate': '2024-02-28',\n",
       "      'publicationDate': '2024-02-29',\n",
       "      'fileAccessRequest': True}},\n",
       "    {'description': '',\n",
       "     'label': '2010-csv.tar-1.gz',\n",
       "     'restricted': False,\n",
       "     'version': 1,\n",
       "     'datasetVersionId': 417138,\n",
       "     'dataFile': {'id': 10153715,\n",
       "      'persistentId': '',\n",
       "      'filename': '2010-csv.tar-1.gz',\n",
       "      'contentType': 'application/gzip',\n",
       "      'friendlyType': 'Gzip Archive',\n",
       "      'filesize': 20187769,\n",
       "      'description': '',\n",
       "      'storageIdentifier': 's3://dvn-cloud:18f1d062294-1a8792995edc',\n",
       "      'rootDataFileId': -1,\n",
       "      'md5': '0afe49e927fa00f006afb7fe027f06a8',\n",
       "      'checksum': {'type': 'MD5', 'value': '0afe49e927fa00f006afb7fe027f06a8'},\n",
       "      'tabularData': False,\n",
       "      'creationDate': '2024-04-26',\n",
       "      'publicationDate': '2024-04-26',\n",
       "      'fileAccessRequest': True}},\n",
       "    {'description': '',\n",
       "     'label': '2010-csv.tar.gz',\n",
       "     'restricted': False,\n",
       "     'version': 1,\n",
       "     'datasetVersionId': 417138,\n",
       "     'dataFile': {'id': 8569675,\n",
       "      'persistentId': '',\n",
       "      'filename': '2010-csv.tar.gz',\n",
       "      'contentType': 'application/gzip',\n",
       "      'friendlyType': 'Gzip Archive',\n",
       "      'filesize': 11235455,\n",
       "      'description': '',\n",
       "      'storageIdentifier': 's3://dvn-cloud:18df0f2ff71-7c2f23acf385',\n",
       "      'rootDataFileId': -1,\n",
       "      'md5': '9993a5d8fcd9ed12465e186c15f078a9',\n",
       "      'checksum': {'type': 'MD5', 'value': '9993a5d8fcd9ed12465e186c15f078a9'},\n",
       "      'tabularData': False,\n",
       "      'creationDate': '2024-02-28',\n",
       "      'publicationDate': '2024-02-29',\n",
       "      'fileAccessRequest': True}},\n",
       "    {'description': '',\n",
       "     'label': '2011-csv.tar-1.gz',\n",
       "     'restricted': False,\n",
       "     'version': 1,\n",
       "     'datasetVersionId': 417138,\n",
       "     'dataFile': {'id': 10153716,\n",
       "      'persistentId': '',\n",
       "      'filename': '2011-csv.tar-1.gz',\n",
       "      'contentType': 'application/gzip',\n",
       "      'friendlyType': 'Gzip Archive',\n",
       "      'filesize': 21067105,\n",
       "      'description': '',\n",
       "      'storageIdentifier': 's3://dvn-cloud:18f1d062e59-d8648e7d8ed3',\n",
       "      'rootDataFileId': -1,\n",
       "      'md5': 'bb971f1e1a5ade746d7c3253d27e1890',\n",
       "      'checksum': {'type': 'MD5', 'value': 'bb971f1e1a5ade746d7c3253d27e1890'},\n",
       "      'tabularData': False,\n",
       "      'creationDate': '2024-04-26',\n",
       "      'publicationDate': '2024-04-26',\n",
       "      'fileAccessRequest': True}},\n",
       "    {'description': '',\n",
       "     'label': '2011-csv.tar.gz',\n",
       "     'restricted': False,\n",
       "     'version': 1,\n",
       "     'datasetVersionId': 417138,\n",
       "     'dataFile': {'id': 8569673,\n",
       "      'persistentId': '',\n",
       "      'filename': '2011-csv.tar.gz',\n",
       "      'contentType': 'application/gzip',\n",
       "      'friendlyType': 'Gzip Archive',\n",
       "      'filesize': 12079351,\n",
       "      'description': '',\n",
       "      'storageIdentifier': 's3://dvn-cloud:18df0ef7ea7-5e705c231093',\n",
       "      'rootDataFileId': -1,\n",
       "      'md5': 'c19318dbd65b2bb953b6f5506bb26e00',\n",
       "      'checksum': {'type': 'MD5', 'value': 'c19318dbd65b2bb953b6f5506bb26e00'},\n",
       "      'tabularData': False,\n",
       "      'creationDate': '2024-02-28',\n",
       "      'publicationDate': '2024-02-29',\n",
       "      'fileAccessRequest': True}},\n",
       "    {'description': '',\n",
       "     'label': '2012-csv.tar-1.gz',\n",
       "     'restricted': False,\n",
       "     'version': 1,\n",
       "     'datasetVersionId': 417138,\n",
       "     'dataFile': {'id': 10153717,\n",
       "      'persistentId': '',\n",
       "      'filename': '2012-csv.tar-1.gz',\n",
       "      'contentType': 'application/gzip',\n",
       "      'friendlyType': 'Gzip Archive',\n",
       "      'filesize': 21539943,\n",
       "      'description': '',\n",
       "      'storageIdentifier': 's3://dvn-cloud:18f1d063a44-7c2be78901bb',\n",
       "      'rootDataFileId': -1,\n",
       "      'md5': '8ea3b09a000ffba30eef2c62a7db9cd6',\n",
       "      'checksum': {'type': 'MD5', 'value': '8ea3b09a000ffba30eef2c62a7db9cd6'},\n",
       "      'tabularData': False,\n",
       "      'creationDate': '2024-04-26',\n",
       "      'publicationDate': '2024-04-26',\n",
       "      'fileAccessRequest': True}},\n",
       "    {'description': '',\n",
       "     'label': '2012-csv.tar.gz',\n",
       "     'restricted': False,\n",
       "     'version': 1,\n",
       "     'datasetVersionId': 417138,\n",
       "     'dataFile': {'id': 8569676,\n",
       "      'persistentId': '',\n",
       "      'filename': '2012-csv.tar.gz',\n",
       "      'contentType': 'application/gzip',\n",
       "      'friendlyType': 'Gzip Archive',\n",
       "      'filesize': 12260485,\n",
       "      'description': '',\n",
       "      'storageIdentifier': 's3://dvn-cloud:18df0f33b44-3da527485743',\n",
       "      'rootDataFileId': -1,\n",
       "      'md5': '4dd35fe64411b5f652218bb10b374da2',\n",
       "      'checksum': {'type': 'MD5', 'value': '4dd35fe64411b5f652218bb10b374da2'},\n",
       "      'tabularData': False,\n",
       "      'creationDate': '2024-02-28',\n",
       "      'publicationDate': '2024-02-29',\n",
       "      'fileAccessRequest': True}},\n",
       "    {'description': '',\n",
       "     'label': '2013-csv.tar-1.gz',\n",
       "     'restricted': False,\n",
       "     'version': 1,\n",
       "     'datasetVersionId': 417138,\n",
       "     'dataFile': {'id': 10153718,\n",
       "      'persistentId': '',\n",
       "      'filename': '2013-csv.tar-1.gz',\n",
       "      'contentType': 'application/gzip',\n",
       "      'friendlyType': 'Gzip Archive',\n",
       "      'filesize': 21336116,\n",
       "      'description': '',\n",
       "      'storageIdentifier': 's3://dvn-cloud:18f1d064531-7e01cb88d874',\n",
       "      'rootDataFileId': -1,\n",
       "      'md5': '3c7122fc48441815af8e7ee134b22d62',\n",
       "      'checksum': {'type': 'MD5', 'value': '3c7122fc48441815af8e7ee134b22d62'},\n",
       "      'tabularData': False,\n",
       "      'creationDate': '2024-04-26',\n",
       "      'publicationDate': '2024-04-26',\n",
       "      'fileAccessRequest': True}},\n",
       "    {'description': '',\n",
       "     'label': '2013-csv.tar.gz',\n",
       "     'restricted': False,\n",
       "     'version': 1,\n",
       "     'datasetVersionId': 417138,\n",
       "     'dataFile': {'id': 8569674,\n",
       "      'persistentId': '',\n",
       "      'filename': '2013-csv.tar.gz',\n",
       "      'contentType': 'application/gzip',\n",
       "      'friendlyType': 'Gzip Archive',\n",
       "      'filesize': 11994299,\n",
       "      'description': '',\n",
       "      'storageIdentifier': 's3://dvn-cloud:18df0f26cf9-6f5c2d108a8d',\n",
       "      'rootDataFileId': -1,\n",
       "      'md5': '6518fa709308fe136a79612550496a5a',\n",
       "      'checksum': {'type': 'MD5', 'value': '6518fa709308fe136a79612550496a5a'},\n",
       "      'tabularData': False,\n",
       "      'creationDate': '2024-02-28',\n",
       "      'publicationDate': '2024-02-29',\n",
       "      'fileAccessRequest': True}},\n",
       "    {'description': '',\n",
       "     'label': '2014-csv.tar.gz',\n",
       "     'restricted': False,\n",
       "     'version': 1,\n",
       "     'datasetVersionId': 417138,\n",
       "     'dataFile': {'id': 7166463,\n",
       "      'persistentId': '',\n",
       "      'filename': '2014-csv.tar.gz',\n",
       "      'contentType': 'application/gzip',\n",
       "      'friendlyType': 'Gzip Archive',\n",
       "      'filesize': 20581928,\n",
       "      'description': '',\n",
       "      'storageIdentifier': 's3://dvn-cloud:188aafca400-53baee2e3ca2',\n",
       "      'rootDataFileId': -1,\n",
       "      'md5': '4a60a4aa082f05d70ab797cecbc88ac0',\n",
       "      'checksum': {'type': 'MD5', 'value': '4a60a4aa082f05d70ab797cecbc88ac0'},\n",
       "      'tabularData': False,\n",
       "      'creationDate': '2023-06-11',\n",
       "      'publicationDate': '2023-06-11',\n",
       "      'fileAccessRequest': True}},\n",
       "    {'description': '',\n",
       "     'label': '2015-csv.tar.gz',\n",
       "     'restricted': False,\n",
       "     'version': 1,\n",
       "     'datasetVersionId': 417138,\n",
       "     'dataFile': {'id': 7166464,\n",
       "      'persistentId': '',\n",
       "      'filename': '2015-csv.tar.gz',\n",
       "      'contentType': 'application/gzip',\n",
       "      'friendlyType': 'Gzip Archive',\n",
       "      'filesize': 21400261,\n",
       "      'description': '',\n",
       "      'storageIdentifier': 's3://dvn-cloud:188aafcb46a-e0cadc01e563',\n",
       "      'rootDataFileId': -1,\n",
       "      'md5': 'eb9035e18aa423dc799e6d0e1e2599c7',\n",
       "      'checksum': {'type': 'MD5', 'value': 'eb9035e18aa423dc799e6d0e1e2599c7'},\n",
       "      'tabularData': False,\n",
       "      'creationDate': '2023-06-11',\n",
       "      'publicationDate': '2023-06-11',\n",
       "      'fileAccessRequest': True}},\n",
       "    {'description': '',\n",
       "     'label': '2016-csv.tar.gz',\n",
       "     'restricted': False,\n",
       "     'version': 1,\n",
       "     'datasetVersionId': 417138,\n",
       "     'dataFile': {'id': 7166465,\n",
       "      'persistentId': '',\n",
       "      'filename': '2016-csv.tar.gz',\n",
       "      'contentType': 'application/gzip',\n",
       "      'friendlyType': 'Gzip Archive',\n",
       "      'filesize': 22908777,\n",
       "      'description': '',\n",
       "      'storageIdentifier': 's3://dvn-cloud:188aafccb2b-9b42a6f6e25f',\n",
       "      'rootDataFileId': -1,\n",
       "      'md5': 'a73368255c1893fb567463b80a6c1feb',\n",
       "      'checksum': {'type': 'MD5', 'value': 'a73368255c1893fb567463b80a6c1feb'},\n",
       "      'tabularData': False,\n",
       "      'creationDate': '2023-06-11',\n",
       "      'publicationDate': '2023-06-11',\n",
       "      'fileAccessRequest': True}},\n",
       "    {'description': '',\n",
       "     'label': '2017-csv.tar.gz',\n",
       "     'restricted': False,\n",
       "     'version': 1,\n",
       "     'datasetVersionId': 417138,\n",
       "     'dataFile': {'id': 7166466,\n",
       "      'persistentId': '',\n",
       "      'filename': '2017-csv.tar.gz',\n",
       "      'contentType': 'application/gzip',\n",
       "      'friendlyType': 'Gzip Archive',\n",
       "      'filesize': 24812405,\n",
       "      'description': '',\n",
       "      'storageIdentifier': 's3://dvn-cloud:188aafcdb30-5289a8911a28',\n",
       "      'rootDataFileId': -1,\n",
       "      'md5': 'cf5286d13f90b1f5d7335b1e1c61b85b',\n",
       "      'checksum': {'type': 'MD5', 'value': 'cf5286d13f90b1f5d7335b1e1c61b85b'},\n",
       "      'tabularData': False,\n",
       "      'creationDate': '2023-06-11',\n",
       "      'publicationDate': '2023-06-11',\n",
       "      'fileAccessRequest': True}},\n",
       "    {'description': '',\n",
       "     'label': '2018-csv.tar.gz',\n",
       "     'restricted': False,\n",
       "     'version': 1,\n",
       "     'datasetVersionId': 417138,\n",
       "     'dataFile': {'id': 7166467,\n",
       "      'persistentId': '',\n",
       "      'filename': '2018-csv.tar.gz',\n",
       "      'contentType': 'application/gzip',\n",
       "      'friendlyType': 'Gzip Archive',\n",
       "      'filesize': 25158546,\n",
       "      'description': '',\n",
       "      'storageIdentifier': 's3://dvn-cloud:188aafcee14-18377f93a120',\n",
       "      'rootDataFileId': -1,\n",
       "      'md5': 'e06b1bd2bff47efc7a71c40bc62370a5',\n",
       "      'checksum': {'type': 'MD5', 'value': 'e06b1bd2bff47efc7a71c40bc62370a5'},\n",
       "      'tabularData': False,\n",
       "      'creationDate': '2023-06-11',\n",
       "      'publicationDate': '2023-06-11',\n",
       "      'fileAccessRequest': True}},\n",
       "    {'description': '',\n",
       "     'label': '2019-csv.tar.gz',\n",
       "     'restricted': False,\n",
       "     'version': 1,\n",
       "     'datasetVersionId': 417138,\n",
       "     'dataFile': {'id': 7166468,\n",
       "      'persistentId': '',\n",
       "      'filename': '2019-csv.tar.gz',\n",
       "      'contentType': 'application/gzip',\n",
       "      'friendlyType': 'Gzip Archive',\n",
       "      'filesize': 25505783,\n",
       "      'description': '',\n",
       "      'storageIdentifier': 's3://dvn-cloud:188aafcff04-a9bcee398100',\n",
       "      'rootDataFileId': -1,\n",
       "      'md5': 'c493fec64f14b7ba8f77a63a23bda345',\n",
       "      'checksum': {'type': 'MD5', 'value': 'c493fec64f14b7ba8f77a63a23bda345'},\n",
       "      'tabularData': False,\n",
       "      'creationDate': '2023-06-11',\n",
       "      'publicationDate': '2023-06-11',\n",
       "      'fileAccessRequest': True}},\n",
       "    {'description': '',\n",
       "     'label': '2020-csv.tar.gz',\n",
       "     'restricted': False,\n",
       "     'version': 1,\n",
       "     'datasetVersionId': 417138,\n",
       "     'dataFile': {'id': 7166469,\n",
       "      'persistentId': '',\n",
       "      'filename': '2020-csv.tar.gz',\n",
       "      'contentType': 'application/gzip',\n",
       "      'friendlyType': 'Gzip Archive',\n",
       "      'filesize': 27618544,\n",
       "      'description': '',\n",
       "      'storageIdentifier': 's3://dvn-cloud:188aafd10b7-e2a538b2b9a3',\n",
       "      'rootDataFileId': -1,\n",
       "      'md5': '7e82034a7f27db63344c3c991a231785',\n",
       "      'checksum': {'type': 'MD5', 'value': '7e82034a7f27db63344c3c991a231785'},\n",
       "      'tabularData': False,\n",
       "      'creationDate': '2023-06-11',\n",
       "      'publicationDate': '2023-06-11',\n",
       "      'fileAccessRequest': True}},\n",
       "    {'description': '',\n",
       "     'label': '2021-csv.tar.gz',\n",
       "     'restricted': False,\n",
       "     'version': 1,\n",
       "     'datasetVersionId': 417138,\n",
       "     'dataFile': {'id': 7166470,\n",
       "      'persistentId': '',\n",
       "      'filename': '2021-csv.tar.gz',\n",
       "      'contentType': 'application/gzip',\n",
       "      'friendlyType': 'Gzip Archive',\n",
       "      'filesize': 27854536,\n",
       "      'description': '',\n",
       "      'storageIdentifier': 's3://dvn-cloud:188aafd2206-fa9e234530a5',\n",
       "      'rootDataFileId': -1,\n",
       "      'md5': 'd2cdca1e9c2f39f23bcde6dfd8d581fe',\n",
       "      'checksum': {'type': 'MD5', 'value': 'd2cdca1e9c2f39f23bcde6dfd8d581fe'},\n",
       "      'tabularData': False,\n",
       "      'creationDate': '2023-06-11',\n",
       "      'publicationDate': '2023-06-11',\n",
       "      'fileAccessRequest': True}},\n",
       "    {'description': '',\n",
       "     'label': '2022-csv.tar.gz',\n",
       "     'restricted': False,\n",
       "     'version': 1,\n",
       "     'datasetVersionId': 417138,\n",
       "     'dataFile': {'id': 7166471,\n",
       "      'persistentId': '',\n",
       "      'filename': '2022-csv.tar.gz',\n",
       "      'contentType': 'application/gzip',\n",
       "      'friendlyType': 'Gzip Archive',\n",
       "      'filesize': 27322248,\n",
       "      'description': '',\n",
       "      'storageIdentifier': 's3://dvn-cloud:188aafd33b2-06fbbdb20ed8',\n",
       "      'rootDataFileId': -1,\n",
       "      'md5': '9c968cd6dac9b25a8d54faee286c1a13',\n",
       "      'checksum': {'type': 'MD5', 'value': '9c968cd6dac9b25a8d54faee286c1a13'},\n",
       "      'tabularData': False,\n",
       "      'creationDate': '2023-06-11',\n",
       "      'publicationDate': '2023-06-11',\n",
       "      'fileAccessRequest': True}},\n",
       "    {'description': '',\n",
       "     'label': '2023-csv.tar.gz',\n",
       "     'restricted': False,\n",
       "     'version': 1,\n",
       "     'datasetVersionId': 417138,\n",
       "     'dataFile': {'id': 7166472,\n",
       "      'persistentId': '',\n",
       "      'filename': '2023-csv.tar.gz',\n",
       "      'contentType': 'application/gzip',\n",
       "      'friendlyType': 'Gzip Archive',\n",
       "      'filesize': 23982242,\n",
       "      'description': '',\n",
       "      'storageIdentifier': 's3://dvn-cloud:188aafd43ac-ef4ddc7e2f69',\n",
       "      'rootDataFileId': -1,\n",
       "      'md5': 'da68c987a7a72cbbdb431a221c11ded8',\n",
       "      'checksum': {'type': 'MD5', 'value': 'da68c987a7a72cbbdb431a221c11ded8'},\n",
       "      'tabularData': False,\n",
       "      'creationDate': '2023-06-11',\n",
       "      'publicationDate': '2023-06-11',\n",
       "      'fileAccessRequest': True}},\n",
       "    {'description': '',\n",
       "     'label': 'r1-all-2009.csv.gz',\n",
       "     'restricted': False,\n",
       "     'version': 1,\n",
       "     'datasetVersionId': 417138,\n",
       "     'dataFile': {'id': 10153706,\n",
       "      'persistentId': '',\n",
       "      'filename': 'r1-all-2009.csv.gz',\n",
       "      'contentType': 'application/gzip',\n",
       "      'friendlyType': 'Gzip Archive',\n",
       "      'filesize': 7620220,\n",
       "      'description': '',\n",
       "      'storageIdentifier': 's3://dvn-cloud:18f1d04c53d-171c266a8abf',\n",
       "      'rootDataFileId': -1,\n",
       "      'md5': '8c5cbb00993db6cb683f079f9c84c46f',\n",
       "      'checksum': {'type': 'MD5', 'value': '8c5cbb00993db6cb683f079f9c84c46f'},\n",
       "      'tabularData': False,\n",
       "      'creationDate': '2024-04-26',\n",
       "      'publicationDate': '2024-04-26',\n",
       "      'fileAccessRequest': True}},\n",
       "    {'description': '',\n",
       "     'label': 'r1-all-2010.csv.gz',\n",
       "     'restricted': False,\n",
       "     'version': 1,\n",
       "     'datasetVersionId': 417138,\n",
       "     'dataFile': {'id': 10153724,\n",
       "      'persistentId': '',\n",
       "      'filename': 'r1-all-2010.csv.gz',\n",
       "      'contentType': 'application/gzip',\n",
       "      'friendlyType': 'Gzip Archive',\n",
       "      'filesize': 7613960,\n",
       "      'description': '',\n",
       "      'storageIdentifier': 's3://dvn-cloud:18f1d0cc13c-079af1d1bea0',\n",
       "      'rootDataFileId': -1,\n",
       "      'md5': '2bef03692681ac58818a843698397b0c',\n",
       "      'checksum': {'type': 'MD5', 'value': '2bef03692681ac58818a843698397b0c'},\n",
       "      'tabularData': False,\n",
       "      'creationDate': '2024-04-26',\n",
       "      'publicationDate': '2024-04-26',\n",
       "      'fileAccessRequest': True}},\n",
       "    {'description': '',\n",
       "     'label': 'r1-all-2011.csv.gz',\n",
       "     'restricted': False,\n",
       "     'version': 1,\n",
       "     'datasetVersionId': 417138,\n",
       "     'dataFile': {'id': 10153719,\n",
       "      'persistentId': '',\n",
       "      'filename': 'r1-all-2011.csv.gz',\n",
       "      'contentType': 'application/gzip',\n",
       "      'friendlyType': 'Gzip Archive',\n",
       "      'filesize': 7696442,\n",
       "      'description': '',\n",
       "      'storageIdentifier': 's3://dvn-cloud:18f1d073019-331382683fa3',\n",
       "      'rootDataFileId': -1,\n",
       "      'md5': 'b8eecd1bc163ba7d1049c892b263bae2',\n",
       "      'checksum': {'type': 'MD5', 'value': 'b8eecd1bc163ba7d1049c892b263bae2'},\n",
       "      'tabularData': False,\n",
       "      'creationDate': '2024-04-26',\n",
       "      'publicationDate': '2024-04-26',\n",
       "      'fileAccessRequest': True}},\n",
       "    {'description': '',\n",
       "     'label': 'r1-all-2012.csv.gz',\n",
       "     'restricted': False,\n",
       "     'version': 1,\n",
       "     'datasetVersionId': 417138,\n",
       "     'dataFile': {'id': 10153720,\n",
       "      'persistentId': '',\n",
       "      'filename': 'r1-all-2012.csv.gz',\n",
       "      'contentType': 'application/gzip',\n",
       "      'friendlyType': 'Gzip Archive',\n",
       "      'filesize': 7938033,\n",
       "      'description': '',\n",
       "      'storageIdentifier': 's3://dvn-cloud:18f1d073898-ebef796cfe5c',\n",
       "      'rootDataFileId': -1,\n",
       "      'md5': '87d2587d9fb1bd9cb250ba3891d4b076',\n",
       "      'checksum': {'type': 'MD5', 'value': '87d2587d9fb1bd9cb250ba3891d4b076'},\n",
       "      'tabularData': False,\n",
       "      'creationDate': '2024-04-26',\n",
       "      'publicationDate': '2024-04-26',\n",
       "      'fileAccessRequest': True}},\n",
       "    {'description': '',\n",
       "     'label': 'r1-all-2013.csv.gz',\n",
       "     'restricted': False,\n",
       "     'version': 1,\n",
       "     'datasetVersionId': 417138,\n",
       "     'dataFile': {'id': 10153721,\n",
       "      'persistentId': '',\n",
       "      'filename': 'r1-all-2013.csv.gz',\n",
       "      'contentType': 'application/gzip',\n",
       "      'friendlyType': 'Gzip Archive',\n",
       "      'filesize': 7992321,\n",
       "      'description': '',\n",
       "      'storageIdentifier': 's3://dvn-cloud:18f1d074188-21f3e4a91a8b',\n",
       "      'rootDataFileId': -1,\n",
       "      'md5': 'e2d57b883970ae30dd4b019e37606ab3',\n",
       "      'checksum': {'type': 'MD5', 'value': 'e2d57b883970ae30dd4b019e37606ab3'},\n",
       "      'tabularData': False,\n",
       "      'creationDate': '2024-04-26',\n",
       "      'publicationDate': '2024-04-26',\n",
       "      'fileAccessRequest': True}},\n",
       "    {'description': '',\n",
       "     'label': 'r1-all-2014.csv.gz',\n",
       "     'restricted': False,\n",
       "     'version': 1,\n",
       "     'datasetVersionId': 417138,\n",
       "     'dataFile': {'id': 7166443,\n",
       "      'persistentId': '',\n",
       "      'filename': 'r1-all-2014.csv.gz',\n",
       "      'contentType': 'application/gzip',\n",
       "      'friendlyType': 'Gzip Archive',\n",
       "      'filesize': 7993175,\n",
       "      'description': '',\n",
       "      'storageIdentifier': 's3://dvn-cloud:188aafb89d2-fe9b988cba3b',\n",
       "      'rootDataFileId': -1,\n",
       "      'md5': 'e5bc9bf94d7c505eae6619f34e236977',\n",
       "      'checksum': {'type': 'MD5', 'value': 'e5bc9bf94d7c505eae6619f34e236977'},\n",
       "      'tabularData': False,\n",
       "      'creationDate': '2023-06-11',\n",
       "      'publicationDate': '2023-06-11',\n",
       "      'fileAccessRequest': True}},\n",
       "    {'description': '',\n",
       "     'label': 'r1-all-2015.csv.gz',\n",
       "     'restricted': False,\n",
       "     'version': 1,\n",
       "     'datasetVersionId': 417138,\n",
       "     'dataFile': {'id': 7166444,\n",
       "      'persistentId': '',\n",
       "      'filename': 'r1-all-2015.csv.gz',\n",
       "      'contentType': 'application/gzip',\n",
       "      'friendlyType': 'Gzip Archive',\n",
       "      'filesize': 8055133,\n",
       "      'description': '',\n",
       "      'storageIdentifier': 's3://dvn-cloud:188aafb9e95-c7c77c5bff56',\n",
       "      'rootDataFileId': -1,\n",
       "      'md5': 'cb95f79da18ac2a3f7ede82f74fea158',\n",
       "      'checksum': {'type': 'MD5', 'value': 'cb95f79da18ac2a3f7ede82f74fea158'},\n",
       "      'tabularData': False,\n",
       "      'creationDate': '2023-06-11',\n",
       "      'publicationDate': '2023-06-11',\n",
       "      'fileAccessRequest': True}},\n",
       "    {'description': '',\n",
       "     'label': 'r1-all-2016.csv.gz',\n",
       "     'restricted': False,\n",
       "     'version': 1,\n",
       "     'datasetVersionId': 417138,\n",
       "     'dataFile': {'id': 7166445,\n",
       "      'persistentId': '',\n",
       "      'filename': 'r1-all-2016.csv.gz',\n",
       "      'contentType': 'application/gzip',\n",
       "      'friendlyType': 'Gzip Archive',\n",
       "      'filesize': 8102924,\n",
       "      'description': '',\n",
       "      'storageIdentifier': 's3://dvn-cloud:188aafbac9c-fff87c38b06c',\n",
       "      'rootDataFileId': -1,\n",
       "      'md5': '47c334046aa23ac9f9523d17256da5ff',\n",
       "      'checksum': {'type': 'MD5', 'value': '47c334046aa23ac9f9523d17256da5ff'},\n",
       "      'tabularData': False,\n",
       "      'creationDate': '2023-06-11',\n",
       "      'publicationDate': '2023-06-11',\n",
       "      'fileAccessRequest': True}},\n",
       "    {'description': '',\n",
       "     'label': 'r1-all-2017.csv.gz',\n",
       "     'restricted': False,\n",
       "     'version': 1,\n",
       "     'datasetVersionId': 417138,\n",
       "     'dataFile': {'id': 7166446,\n",
       "      'persistentId': '',\n",
       "      'filename': 'r1-all-2017.csv.gz',\n",
       "      'contentType': 'application/gzip',\n",
       "      'friendlyType': 'Gzip Archive',\n",
       "      'filesize': 8083660,\n",
       "      'description': '',\n",
       "      'storageIdentifier': 's3://dvn-cloud:188aafbbba8-b44d6b682a45',\n",
       "      'rootDataFileId': -1,\n",
       "      'md5': '17731689aaebd8a2637b1fbba83046bf',\n",
       "      'checksum': {'type': 'MD5', 'value': '17731689aaebd8a2637b1fbba83046bf'},\n",
       "      'tabularData': False,\n",
       "      'creationDate': '2023-06-11',\n",
       "      'publicationDate': '2023-06-11',\n",
       "      'fileAccessRequest': True}},\n",
       "    {'description': '',\n",
       "     'label': 'r1-all-2018.csv.gz',\n",
       "     'restricted': False,\n",
       "     'version': 1,\n",
       "     'datasetVersionId': 417138,\n",
       "     'dataFile': {'id': 7166447,\n",
       "      'persistentId': '',\n",
       "      'filename': 'r1-all-2018.csv.gz',\n",
       "      'contentType': 'application/gzip',\n",
       "      'friendlyType': 'Gzip Archive',\n",
       "      'filesize': 8124757,\n",
       "      'description': '',\n",
       "      'storageIdentifier': 's3://dvn-cloud:188aafbc914-06bbb8610fa0',\n",
       "      'rootDataFileId': -1,\n",
       "      'md5': '0fdaea639521dfe34a646fe575b3e0d7',\n",
       "      'checksum': {'type': 'MD5', 'value': '0fdaea639521dfe34a646fe575b3e0d7'},\n",
       "      'tabularData': False,\n",
       "      'creationDate': '2023-06-11',\n",
       "      'publicationDate': '2023-06-11',\n",
       "      'fileAccessRequest': True}},\n",
       "    {'description': '',\n",
       "     'label': 'r1-all-2019.csv.gz',\n",
       "     'restricted': False,\n",
       "     'version': 1,\n",
       "     'datasetVersionId': 417138,\n",
       "     'dataFile': {'id': 7166448,\n",
       "      'persistentId': '',\n",
       "      'filename': 'r1-all-2019.csv.gz',\n",
       "      'contentType': 'application/gzip',\n",
       "      'friendlyType': 'Gzip Archive',\n",
       "      'filesize': 8136466,\n",
       "      'description': '',\n",
       "      'storageIdentifier': 's3://dvn-cloud:188aafbd725-dd6efbdab7aa',\n",
       "      'rootDataFileId': -1,\n",
       "      'md5': '92b65e49e492b467852dfb0c2ffdad61',\n",
       "      'checksum': {'type': 'MD5', 'value': '92b65e49e492b467852dfb0c2ffdad61'},\n",
       "      'tabularData': False,\n",
       "      'creationDate': '2023-06-11',\n",
       "      'publicationDate': '2023-06-11',\n",
       "      'fileAccessRequest': True}},\n",
       "    {'description': '',\n",
       "     'label': 'r1-all-2020.csv.gz',\n",
       "     'restricted': False,\n",
       "     'version': 1,\n",
       "     'datasetVersionId': 417138,\n",
       "     'dataFile': {'id': 7166449,\n",
       "      'persistentId': '',\n",
       "      'filename': 'r1-all-2020.csv.gz',\n",
       "      'contentType': 'application/gzip',\n",
       "      'friendlyType': 'Gzip Archive',\n",
       "      'filesize': 8287556,\n",
       "      'description': '',\n",
       "      'storageIdentifier': 's3://dvn-cloud:188aafbe485-bde90d62130c',\n",
       "      'rootDataFileId': -1,\n",
       "      'md5': 'ae2782b69ce8a0a08897c2d27b0345fd',\n",
       "      'checksum': {'type': 'MD5', 'value': 'ae2782b69ce8a0a08897c2d27b0345fd'},\n",
       "      'tabularData': False,\n",
       "      'creationDate': '2023-06-11',\n",
       "      'publicationDate': '2023-06-11',\n",
       "      'fileAccessRequest': True}},\n",
       "    {'description': '',\n",
       "     'label': 'r1-all-2021.csv.gz',\n",
       "     'restricted': False,\n",
       "     'version': 1,\n",
       "     'datasetVersionId': 417138,\n",
       "     'dataFile': {'id': 7166450,\n",
       "      'persistentId': '',\n",
       "      'filename': 'r1-all-2021.csv.gz',\n",
       "      'contentType': 'application/gzip',\n",
       "      'friendlyType': 'Gzip Archive',\n",
       "      'filesize': 8272108,\n",
       "      'description': '',\n",
       "      'storageIdentifier': 's3://dvn-cloud:188aafbf15c-b6f67025699b',\n",
       "      'rootDataFileId': -1,\n",
       "      'md5': '00dadd80ac01762eacbd1e41c4f1a184',\n",
       "      'checksum': {'type': 'MD5', 'value': '00dadd80ac01762eacbd1e41c4f1a184'},\n",
       "      'tabularData': False,\n",
       "      'creationDate': '2023-06-11',\n",
       "      'publicationDate': '2023-06-11',\n",
       "      'fileAccessRequest': True}},\n",
       "    {'description': '',\n",
       "     'label': 'r1-all-2022.csv.gz',\n",
       "     'restricted': False,\n",
       "     'version': 1,\n",
       "     'datasetVersionId': 417138,\n",
       "     'dataFile': {'id': 7166451,\n",
       "      'persistentId': '',\n",
       "      'filename': 'r1-all-2022.csv.gz',\n",
       "      'contentType': 'application/gzip',\n",
       "      'friendlyType': 'Gzip Archive',\n",
       "      'filesize': 8269851,\n",
       "      'description': '',\n",
       "      'storageIdentifier': 's3://dvn-cloud:188aafbfdea-1d03c656a40b',\n",
       "      'rootDataFileId': -1,\n",
       "      'md5': '00d38df27d357645ab6963c4414627a5',\n",
       "      'checksum': {'type': 'MD5', 'value': '00d38df27d357645ab6963c4414627a5'},\n",
       "      'tabularData': False,\n",
       "      'creationDate': '2023-06-11',\n",
       "      'publicationDate': '2023-06-11',\n",
       "      'fileAccessRequest': True}},\n",
       "    {'description': '',\n",
       "     'label': 'r1-all-2023.csv.gz',\n",
       "     'restricted': False,\n",
       "     'version': 1,\n",
       "     'datasetVersionId': 417138,\n",
       "     'dataFile': {'id': 7166452,\n",
       "      'persistentId': '',\n",
       "      'filename': 'r1-all-2023.csv.gz',\n",
       "      'contentType': 'application/gzip',\n",
       "      'friendlyType': 'Gzip Archive',\n",
       "      'filesize': 8267336,\n",
       "      'description': '',\n",
       "      'storageIdentifier': 's3://dvn-cloud:188aafc0b59-b9857385628e',\n",
       "      'rootDataFileId': -1,\n",
       "      'md5': 'dabb85d2db915026e975cf590957afd9',\n",
       "      'checksum': {'type': 'MD5', 'value': 'dabb85d2db915026e975cf590957afd9'},\n",
       "      'tabularData': False,\n",
       "      'creationDate': '2023-06-11',\n",
       "      'publicationDate': '2023-06-11',\n",
       "      'fileAccessRequest': True}},\n",
       "    {'description': '',\n",
       "     'label': 'r6-all-2007.csv.gz',\n",
       "     'restricted': False,\n",
       "     'version': 1,\n",
       "     'datasetVersionId': 417138,\n",
       "     'dataFile': {'id': 8569855,\n",
       "      'persistentId': '',\n",
       "      'filename': 'r6-all-2007.csv.gz',\n",
       "      'contentType': 'application/gzip',\n",
       "      'friendlyType': 'Gzip Archive',\n",
       "      'filesize': 3706036,\n",
       "      'description': '',\n",
       "      'storageIdentifier': 's3://dvn-cloud:18df2863d67-864c08c1e9ef',\n",
       "      'rootDataFileId': -1,\n",
       "      'md5': 'fbec5408a4fb9dcf6ac6e13c64205c7e',\n",
       "      'checksum': {'type': 'MD5', 'value': 'fbec5408a4fb9dcf6ac6e13c64205c7e'},\n",
       "      'tabularData': False,\n",
       "      'creationDate': '2024-02-28',\n",
       "      'publicationDate': '2024-02-29',\n",
       "      'fileAccessRequest': True}},\n",
       "    {'description': '',\n",
       "     'label': 'r6-all-2008.csv.gz',\n",
       "     'restricted': False,\n",
       "     'version': 1,\n",
       "     'datasetVersionId': 417138,\n",
       "     'dataFile': {'id': 8569856,\n",
       "      'persistentId': '',\n",
       "      'filename': 'r6-all-2008.csv.gz',\n",
       "      'contentType': 'application/gzip',\n",
       "      'friendlyType': 'Gzip Archive',\n",
       "      'filesize': 4536094,\n",
       "      'description': '',\n",
       "      'storageIdentifier': 's3://dvn-cloud:18df28645b8-b19ee0472daf',\n",
       "      'rootDataFileId': -1,\n",
       "      'md5': '2651733b377e7acbd7c6d11cc3ff9194',\n",
       "      'checksum': {'type': 'MD5', 'value': '2651733b377e7acbd7c6d11cc3ff9194'},\n",
       "      'tabularData': False,\n",
       "      'creationDate': '2024-02-28',\n",
       "      'publicationDate': '2024-02-29',\n",
       "      'fileAccessRequest': True}},\n",
       "    {'description': '',\n",
       "     'label': 'r6-all-2009.csv.gz',\n",
       "     'restricted': False,\n",
       "     'version': 1,\n",
       "     'datasetVersionId': 417138,\n",
       "     'dataFile': {'id': 8569857,\n",
       "      'persistentId': '',\n",
       "      'filename': 'r6-all-2009.csv.gz',\n",
       "      'contentType': 'application/gzip',\n",
       "      'friendlyType': 'Gzip Archive',\n",
       "      'filesize': 726161,\n",
       "      'description': '',\n",
       "      'storageIdentifier': 's3://dvn-cloud:18df2864bfa-56ea725a9b40',\n",
       "      'rootDataFileId': -1,\n",
       "      'md5': 'f6c2929517ee9b1611ef5c986d5da607',\n",
       "      'checksum': {'type': 'MD5', 'value': 'f6c2929517ee9b1611ef5c986d5da607'},\n",
       "      'tabularData': False,\n",
       "      'creationDate': '2024-02-28',\n",
       "      'publicationDate': '2024-02-29',\n",
       "      'fileAccessRequest': True}},\n",
       "    {'description': '',\n",
       "     'label': 'r6-all-2010.csv.gz',\n",
       "     'restricted': False,\n",
       "     'version': 1,\n",
       "     'datasetVersionId': 417138,\n",
       "     'dataFile': {'id': 8569858,\n",
       "      'persistentId': '',\n",
       "      'filename': 'r6-all-2010.csv.gz',\n",
       "      'contentType': 'application/gzip',\n",
       "      'friendlyType': 'Gzip Archive',\n",
       "      'filesize': 8590689,\n",
       "      'description': '',\n",
       "      'storageIdentifier': 's3://dvn-cloud:18df286545c-41e95870b925',\n",
       "      'rootDataFileId': -1,\n",
       "      'md5': '9ac0e319bddd17a65fdc4f0be495815d',\n",
       "      'checksum': {'type': 'MD5', 'value': '9ac0e319bddd17a65fdc4f0be495815d'},\n",
       "      'tabularData': False,\n",
       "      'creationDate': '2024-02-28',\n",
       "      'publicationDate': '2024-02-29',\n",
       "      'fileAccessRequest': True}},\n",
       "    {'description': '',\n",
       "     'label': 'r6-all-2011.csv.gz',\n",
       "     'restricted': False,\n",
       "     'version': 1,\n",
       "     'datasetVersionId': 417138,\n",
       "     'dataFile': {'id': 8569859,\n",
       "      'persistentId': '',\n",
       "      'filename': 'r6-all-2011.csv.gz',\n",
       "      'contentType': 'application/gzip',\n",
       "      'friendlyType': 'Gzip Archive',\n",
       "      'filesize': 9335330,\n",
       "      'description': '',\n",
       "      'storageIdentifier': 's3://dvn-cloud:18df2865f13-459703e7718b',\n",
       "      'rootDataFileId': -1,\n",
       "      'md5': '493d2331b1568d3c3852d69a7fbfc568',\n",
       "      'checksum': {'type': 'MD5', 'value': '493d2331b1568d3c3852d69a7fbfc568'},\n",
       "      'tabularData': False,\n",
       "      'creationDate': '2024-02-28',\n",
       "      'publicationDate': '2024-02-29',\n",
       "      'fileAccessRequest': True}},\n",
       "    {'description': '',\n",
       "     'label': 'r6-all-2012.csv.gz',\n",
       "     'restricted': False,\n",
       "     'version': 1,\n",
       "     'datasetVersionId': 417138,\n",
       "     'dataFile': {'id': 8569860,\n",
       "      'persistentId': '',\n",
       "      'filename': 'r6-all-2012.csv.gz',\n",
       "      'contentType': 'application/gzip',\n",
       "      'friendlyType': 'Gzip Archive',\n",
       "      'filesize': 9486576,\n",
       "      'description': '',\n",
       "      'storageIdentifier': 's3://dvn-cloud:18df28667cc-c184bf576e9b',\n",
       "      'rootDataFileId': -1,\n",
       "      'md5': '5abf489f9cd0c55cc47532a2f1e13c41',\n",
       "      'checksum': {'type': 'MD5', 'value': '5abf489f9cd0c55cc47532a2f1e13c41'},\n",
       "      'tabularData': False,\n",
       "      'creationDate': '2024-02-28',\n",
       "      'publicationDate': '2024-02-29',\n",
       "      'fileAccessRequest': True}},\n",
       "    {'description': '',\n",
       "     'label': 'r6-all-2013.csv.gz',\n",
       "     'restricted': False,\n",
       "     'version': 1,\n",
       "     'datasetVersionId': 417138,\n",
       "     'dataFile': {'id': 8569861,\n",
       "      'persistentId': '',\n",
       "      'filename': 'r6-all-2013.csv.gz',\n",
       "      'contentType': 'application/gzip',\n",
       "      'friendlyType': 'Gzip Archive',\n",
       "      'filesize': 9233455,\n",
       "      'description': '',\n",
       "      'storageIdentifier': 's3://dvn-cloud:18df2867060-1f0561b45e0a',\n",
       "      'rootDataFileId': -1,\n",
       "      'md5': '06122275eaad61509ea2b2c083bbc4a0',\n",
       "      'checksum': {'type': 'MD5', 'value': '06122275eaad61509ea2b2c083bbc4a0'},\n",
       "      'tabularData': False,\n",
       "      'creationDate': '2024-02-28',\n",
       "      'publicationDate': '2024-02-29',\n",
       "      'fileAccessRequest': True}},\n",
       "    {'description': '',\n",
       "     'label': 'r6-all-2014.csv.gz',\n",
       "     'restricted': False,\n",
       "     'version': 1,\n",
       "     'datasetVersionId': 417138,\n",
       "     'dataFile': {'id': 7166453,\n",
       "      'persistentId': '',\n",
       "      'filename': 'r6-all-2014.csv.gz',\n",
       "      'contentType': 'application/gzip',\n",
       "      'friendlyType': 'Gzip Archive',\n",
       "      'filesize': 9011019,\n",
       "      'description': '',\n",
       "      'storageIdentifier': 's3://dvn-cloud:188aafc1892-91c30aec86d8',\n",
       "      'rootDataFileId': -1,\n",
       "      'md5': 'e244a32f01e0cac848151f104b7a4db9',\n",
       "      'checksum': {'type': 'MD5', 'value': 'e244a32f01e0cac848151f104b7a4db9'},\n",
       "      'tabularData': False,\n",
       "      'creationDate': '2023-06-11',\n",
       "      'publicationDate': '2023-06-11',\n",
       "      'fileAccessRequest': True}},\n",
       "    {'description': '',\n",
       "     'label': 'r6-all-2015.csv.gz',\n",
       "     'restricted': False,\n",
       "     'version': 1,\n",
       "     'datasetVersionId': 417138,\n",
       "     'dataFile': {'id': 7166454,\n",
       "      'persistentId': '',\n",
       "      'filename': 'r6-all-2015.csv.gz',\n",
       "      'contentType': 'application/gzip',\n",
       "      'friendlyType': 'Gzip Archive',\n",
       "      'filesize': 9703293,\n",
       "      'description': '',\n",
       "      'storageIdentifier': 's3://dvn-cloud:188aafc2584-af0ca91d682c',\n",
       "      'rootDataFileId': -1,\n",
       "      'md5': '10005631aa48924849baeb8f58131cc3',\n",
       "      'checksum': {'type': 'MD5', 'value': '10005631aa48924849baeb8f58131cc3'},\n",
       "      'tabularData': False,\n",
       "      'creationDate': '2023-06-11',\n",
       "      'publicationDate': '2023-06-11',\n",
       "      'fileAccessRequest': True}},\n",
       "    {'description': '',\n",
       "     'label': 'r6-all-2016.csv.gz',\n",
       "     'restricted': False,\n",
       "     'version': 1,\n",
       "     'datasetVersionId': 417138,\n",
       "     'dataFile': {'id': 7166455,\n",
       "      'persistentId': '',\n",
       "      'filename': 'r6-all-2016.csv.gz',\n",
       "      'contentType': 'application/gzip',\n",
       "      'friendlyType': 'Gzip Archive',\n",
       "      'filesize': 10833143,\n",
       "      'description': '',\n",
       "      'storageIdentifier': 's3://dvn-cloud:188aafc32cf-1e4530ae49a6',\n",
       "      'rootDataFileId': -1,\n",
       "      'md5': '9d88038f71dada769ccf30d9697c1b3c',\n",
       "      'checksum': {'type': 'MD5', 'value': '9d88038f71dada769ccf30d9697c1b3c'},\n",
       "      'tabularData': False,\n",
       "      'creationDate': '2023-06-11',\n",
       "      'publicationDate': '2023-06-11',\n",
       "      'fileAccessRequest': True}},\n",
       "    {'description': '',\n",
       "     'label': 'r6-all-2017.csv.gz',\n",
       "     'restricted': False,\n",
       "     'version': 1,\n",
       "     'datasetVersionId': 417138,\n",
       "     'dataFile': {'id': 7166456,\n",
       "      'persistentId': '',\n",
       "      'filename': 'r6-all-2017.csv.gz',\n",
       "      'contentType': 'application/gzip',\n",
       "      'friendlyType': 'Gzip Archive',\n",
       "      'filesize': 12438465,\n",
       "      'description': '',\n",
       "      'storageIdentifier': 's3://dvn-cloud:188aafc410f-4e329fcdfe4f',\n",
       "      'rootDataFileId': -1,\n",
       "      'md5': 'd291977f5205a6100e9bc065b0cfbbe0',\n",
       "      'checksum': {'type': 'MD5', 'value': 'd291977f5205a6100e9bc065b0cfbbe0'},\n",
       "      'tabularData': False,\n",
       "      'creationDate': '2023-06-11',\n",
       "      'publicationDate': '2023-06-11',\n",
       "      'fileAccessRequest': True}},\n",
       "    {'description': '',\n",
       "     'label': 'r6-all-2018.csv.gz',\n",
       "     'restricted': False,\n",
       "     'version': 1,\n",
       "     'datasetVersionId': 417138,\n",
       "     'dataFile': {'id': 7166457,\n",
       "      'persistentId': '',\n",
       "      'filename': 'r6-all-2018.csv.gz',\n",
       "      'contentType': 'application/gzip',\n",
       "      'friendlyType': 'Gzip Archive',\n",
       "      'filesize': 12568557,\n",
       "      'description': '',\n",
       "      'storageIdentifier': 's3://dvn-cloud:188aafc4f29-f97874f2ddd5',\n",
       "      'rootDataFileId': -1,\n",
       "      'md5': '298d31e48abd03b2bd97641b524f66b8',\n",
       "      'checksum': {'type': 'MD5', 'value': '298d31e48abd03b2bd97641b524f66b8'},\n",
       "      'tabularData': False,\n",
       "      'creationDate': '2023-06-11',\n",
       "      'publicationDate': '2023-06-11',\n",
       "      'fileAccessRequest': True}},\n",
       "    {'description': '',\n",
       "     'label': 'r6-all-2019.csv.gz',\n",
       "     'restricted': False,\n",
       "     'version': 1,\n",
       "     'datasetVersionId': 417138,\n",
       "     'dataFile': {'id': 7166458,\n",
       "      'persistentId': '',\n",
       "      'filename': 'r6-all-2019.csv.gz',\n",
       "      'contentType': 'application/gzip',\n",
       "      'friendlyType': 'Gzip Archive',\n",
       "      'filesize': 12893990,\n",
       "      'description': '',\n",
       "      'storageIdentifier': 's3://dvn-cloud:188aafc5c26-b94b110ff116',\n",
       "      'rootDataFileId': -1,\n",
       "      'md5': 'cda8ed645a86743a5e1f003761576d80',\n",
       "      'checksum': {'type': 'MD5', 'value': 'cda8ed645a86743a5e1f003761576d80'},\n",
       "      'tabularData': False,\n",
       "      'creationDate': '2023-06-11',\n",
       "      'publicationDate': '2023-06-11',\n",
       "      'fileAccessRequest': True}},\n",
       "    {'description': '',\n",
       "     'label': 'r6-all-2020.csv.gz',\n",
       "     'restricted': False,\n",
       "     'version': 1,\n",
       "     'datasetVersionId': 417138,\n",
       "     'dataFile': {'id': 7166459,\n",
       "      'persistentId': '',\n",
       "      'filename': 'r6-all-2020.csv.gz',\n",
       "      'contentType': 'application/gzip',\n",
       "      'friendlyType': 'Gzip Archive',\n",
       "      'filesize': 14644446,\n",
       "      'description': '',\n",
       "      'storageIdentifier': 's3://dvn-cloud:188aafc69c2-6c1456e669cb',\n",
       "      'rootDataFileId': -1,\n",
       "      'md5': 'afc4e23d47beb0412a8d7ffddf530a6f',\n",
       "      'checksum': {'type': 'MD5', 'value': 'afc4e23d47beb0412a8d7ffddf530a6f'},\n",
       "      'tabularData': False,\n",
       "      'creationDate': '2023-06-11',\n",
       "      'publicationDate': '2023-06-11',\n",
       "      'fileAccessRequest': True}},\n",
       "    {'description': '',\n",
       "     'label': 'r6-all-2021.csv.gz',\n",
       "     'restricted': False,\n",
       "     'version': 1,\n",
       "     'datasetVersionId': 417138,\n",
       "     'dataFile': {'id': 7166460,\n",
       "      'persistentId': '',\n",
       "      'filename': 'r6-all-2021.csv.gz',\n",
       "      'contentType': 'application/gzip',\n",
       "      'friendlyType': 'Gzip Archive',\n",
       "      'filesize': 14894783,\n",
       "      'description': '',\n",
       "      'storageIdentifier': 's3://dvn-cloud:188aafc7789-0fc65a0cbc77',\n",
       "      'rootDataFileId': -1,\n",
       "      'md5': '920fc7447782f553f78cdda275a874ef',\n",
       "      'checksum': {'type': 'MD5', 'value': '920fc7447782f553f78cdda275a874ef'},\n",
       "      'tabularData': False,\n",
       "      'creationDate': '2023-06-11',\n",
       "      'publicationDate': '2023-06-11',\n",
       "      'fileAccessRequest': True}},\n",
       "    {'description': '',\n",
       "     'label': 'r6-all-2022.csv.gz',\n",
       "     'restricted': False,\n",
       "     'version': 1,\n",
       "     'datasetVersionId': 417138,\n",
       "     'dataFile': {'id': 7166461,\n",
       "      'persistentId': '',\n",
       "      'filename': 'r6-all-2022.csv.gz',\n",
       "      'contentType': 'application/gzip',\n",
       "      'friendlyType': 'Gzip Archive',\n",
       "      'filesize': 14677924,\n",
       "      'description': '',\n",
       "      'storageIdentifier': 's3://dvn-cloud:188aafc8635-a9fc7a2bc568',\n",
       "      'rootDataFileId': -1,\n",
       "      'md5': 'adc9cbaf94a2d5043da28f2d713f3337',\n",
       "      'checksum': {'type': 'MD5', 'value': 'adc9cbaf94a2d5043da28f2d713f3337'},\n",
       "      'tabularData': False,\n",
       "      'creationDate': '2023-06-11',\n",
       "      'publicationDate': '2023-06-11',\n",
       "      'fileAccessRequest': True}},\n",
       "    {'description': '',\n",
       "     'label': 'r6-all-2023.csv.gz',\n",
       "     'restricted': False,\n",
       "     'version': 1,\n",
       "     'datasetVersionId': 417138,\n",
       "     'dataFile': {'id': 7166462,\n",
       "      'persistentId': '',\n",
       "      'filename': 'r6-all-2023.csv.gz',\n",
       "      'contentType': 'application/gzip',\n",
       "      'friendlyType': 'Gzip Archive',\n",
       "      'filesize': 11426459,\n",
       "      'description': '',\n",
       "      'storageIdentifier': 's3://dvn-cloud:188aafc93cb-38438080135c',\n",
       "      'rootDataFileId': -1,\n",
       "      'md5': '6181cc74b5b46183852c48f6e020bd78',\n",
       "      'checksum': {'type': 'MD5', 'value': '6181cc74b5b46183852c48f6e020bd78'},\n",
       "      'tabularData': False,\n",
       "      'creationDate': '2023-06-11',\n",
       "      'publicationDate': '2023-06-11',\n",
       "      'fileAccessRequest': True}}]}}}"
      ]
     },
     "execution_count": 5,
     "metadata": {},
     "output_type": "execute_result"
    }
   ],
   "source": [
    "resp = api.get_dataset(doi)\n",
    "resp.json()"
   ]
  },
  {
   "cell_type": "markdown",
   "id": "858ff4c5-6f14-4191-8b5a-bb047ef91a2a",
   "metadata": {},
   "source": [
    "### Upload Output CSV files to Dataverse"
   ]
  },
  {
   "cell_type": "code",
   "execution_count": 6,
   "id": "35f9142b-2fa3-4735-8e69-3c1b47b8422d",
   "metadata": {},
   "outputs": [],
   "source": [
    "from glob import glob"
   ]
  },
  {
   "cell_type": "code",
   "execution_count": 14,
   "id": "374ac84f-4cba-4c80-a546-90e1b5a8760c",
   "metadata": {},
   "outputs": [
    {
     "name": "stdout",
     "output_type": "stream",
     "text": [
      "../output/r1-all-2010.csv.gz\n"
     ]
    },
    {
     "name": "stderr",
     "output_type": "stream",
     "text": [
      "  % Total    % Received % Xferd  Average Speed   Time    Time     Time  Current\n",
      "                                 Dload  Upload   Total   Spent    Left  Speed\n",
      " 47 7435k    0     0   47 3520k      0  3527k  0:00:02 --:--:--  0:00:02 3523k"
     ]
    },
    {
     "name": "stdout",
     "output_type": "stream",
     "text": [
      "{'status': 'OK', 'data': {'files': [{'description': '', 'label': 'r1-all-2010.csv.gz', 'restricted': False, 'version': 1, 'datasetVersionId': 417138, 'dataFile': {'id': 10153724, 'persistentId': '', 'filename': 'r1-all-2010.csv.gz', 'contentType': 'application/gzip', 'friendlyType': 'Gzip Archive', 'filesize': 7613960, 'description': '', 'storageIdentifier': 's3://dvn-cloud:18f1d0cc13c-079af1d1bea0', 'rootDataFileId': -1, 'md5': '2bef03692681ac58818a843698397b0c', 'checksum': {'type': 'MD5', 'value': '2bef03692681ac58818a843698397b0c'}, 'tabularData': False, 'creationDate': '2024-04-26', 'fileAccessRequest': True}}]}}\n"
     ]
    },
    {
     "name": "stderr",
     "output_type": "stream",
     "text": [
      "100 7436k  100   580  100 7435k    284  3652k  0:00:02  0:00:02 --:--:-- 3652k\n"
     ]
    }
   ],
   "source": [
    "for fn in sorted(glob('../output/r1-all-201*.csv.gz')):\n",
    "    if fn != '../output/r1-all-2010.csv.gz':\n",
    "        continue\n",
    "    print(fn)\n",
    "    resp = api.upload_file(doi, fn)\n",
    "    print(resp)"
   ]
  },
  {
   "cell_type": "markdown",
   "id": "4252b004-d3ea-40d8-a324-7d8d4a0fe057",
   "metadata": {},
   "source": [
    "### Upload Raw CSV files to Dataverse"
   ]
  },
  {
   "cell_type": "code",
   "execution_count": 8,
   "id": "ff578bc5-ed56-4678-a27e-21fab8aeb7d0",
   "metadata": {},
   "outputs": [
    {
     "name": "stdout",
     "output_type": "stream",
     "text": [
      "../output/2009-csv.tar.gz\n"
     ]
    },
    {
     "name": "stderr",
     "output_type": "stream",
     "text": [
      "  % Total    % Received % Xferd  Average Speed   Time    Time     Time  Current\n",
      "                                 Dload  Upload   Total   Spent    Left  Speed\n",
      " 69 8940k    0     0   69 6208k      0  4554k  0:00:01  0:00:01 --:--:-- 4551k"
     ]
    },
    {
     "name": "stdout",
     "output_type": "stream",
     "text": [
      "{'status': 'OK', 'data': {'files': [{'description': '', 'label': '2009-csv.tar-1.gz', 'restricted': False, 'version': 1, 'datasetVersionId': 417138, 'dataFile': {'id': 10153714, 'persistentId': '', 'filename': '2009-csv.tar-1.gz', 'contentType': 'application/gzip', 'friendlyType': 'Gzip Archive', 'filesize': 9155049, 'description': '', 'storageIdentifier': 's3://dvn-cloud:18f1d06065a-8475a263bdf3', 'rootDataFileId': -1, 'md5': '77bb893175e0da6ee3f3645c8f127c76', 'checksum': {'type': 'MD5', 'value': '77bb893175e0da6ee3f3645c8f127c76'}, 'tabularData': False, 'creationDate': '2024-04-26', 'fileAccessRequest': True}}]}}\n"
     ]
    },
    {
     "name": "stderr",
     "output_type": "stream",
     "text": [
      "100 8941k  100   578  100 8940k    247  3832k  0:00:02  0:00:02 --:--:-- 3832k\n"
     ]
    }
   ],
   "source": [
    "fn = '../output/2009-csv.tar.gz'\n",
    "print(fn)\n",
    "resp = api.upload_file(doi, fn)\n",
    "print(resp)"
   ]
  },
  {
   "cell_type": "code",
   "execution_count": 9,
   "id": "ae69d581-72f2-4734-8fb4-803805b1587d",
   "metadata": {},
   "outputs": [
    {
     "name": "stdout",
     "output_type": "stream",
     "text": [
      "../output/2010-csv.tar.gz\n"
     ]
    },
    {
     "name": "stderr",
     "output_type": "stream",
     "text": [
      "  % Total    % Received % Xferd  Average Speed   Time    Time     Time  Current\n",
      "                                 Dload  Upload   Total   Spent    Left  Speed\n",
      "100 19.2M  100   579  100 19.2M    222  7559k  0:00:02  0:00:02 --:--:-- 7556k\n",
      "  % Total    % Received % Xferd  Average Speed   Time    Time     Time  Current\n",
      "                                 Dload  Upload   Total   Spent    Left  Speed\n",
      "  0     0    0     0    0     0      0      0 --:--:-- --:--:-- --:--:--     0"
     ]
    },
    {
     "name": "stdout",
     "output_type": "stream",
     "text": [
      "{'status': 'OK', 'data': {'files': [{'description': '', 'label': '2010-csv.tar-1.gz', 'restricted': False, 'version': 1, 'datasetVersionId': 417138, 'dataFile': {'id': 10153715, 'persistentId': '', 'filename': '2010-csv.tar-1.gz', 'contentType': 'application/gzip', 'friendlyType': 'Gzip Archive', 'filesize': 20187769, 'description': '', 'storageIdentifier': 's3://dvn-cloud:18f1d062294-1a8792995edc', 'rootDataFileId': -1, 'md5': '0afe49e927fa00f006afb7fe027f06a8', 'checksum': {'type': 'MD5', 'value': '0afe49e927fa00f006afb7fe027f06a8'}, 'tabularData': False, 'creationDate': '2024-04-26', 'fileAccessRequest': True}}]}}\n",
      "../output/2011-csv.tar.gz\n"
     ]
    },
    {
     "name": "stderr",
     "output_type": "stream",
     "text": [
      "100 20.0M  100   579  100 20.0M    182  6500k  0:00:03  0:00:03 --:--:-- 6500k\n",
      "  % Total    % Received % Xferd  Average Speed   Time    Time     Time  Current\n",
      "                                 Dload  Upload   Total   Spent    Left  Speed\n",
      "  0     0    0     0    0     0      0      0 --:--:-- --:--:-- --:--:--     0"
     ]
    },
    {
     "name": "stdout",
     "output_type": "stream",
     "text": [
      "{'status': 'OK', 'data': {'files': [{'description': '', 'label': '2011-csv.tar-1.gz', 'restricted': False, 'version': 1, 'datasetVersionId': 417138, 'dataFile': {'id': 10153716, 'persistentId': '', 'filename': '2011-csv.tar-1.gz', 'contentType': 'application/gzip', 'friendlyType': 'Gzip Archive', 'filesize': 21067105, 'description': '', 'storageIdentifier': 's3://dvn-cloud:18f1d062e59-d8648e7d8ed3', 'rootDataFileId': -1, 'md5': 'bb971f1e1a5ade746d7c3253d27e1890', 'checksum': {'type': 'MD5', 'value': 'bb971f1e1a5ade746d7c3253d27e1890'}, 'tabularData': False, 'creationDate': '2024-04-26', 'fileAccessRequest': True}}]}}\n",
      "../output/2012-csv.tar.gz\n"
     ]
    },
    {
     "name": "stderr",
     "output_type": "stream",
     "text": [
      "100 20.5M  100   579  100 20.5M    198  7223k  0:00:02  0:00:02 --:--:-- 7221k\n",
      "  % Total    % Received % Xferd  Average Speed   Time    Time     Time  Current\n",
      "                                 Dload  Upload   Total   Spent    Left  Speed\n",
      "  0     0    0     0    0     0      0      0 --:--:-- --:--:-- --:--:--     0"
     ]
    },
    {
     "name": "stdout",
     "output_type": "stream",
     "text": [
      "{'status': 'OK', 'data': {'files': [{'description': '', 'label': '2012-csv.tar-1.gz', 'restricted': False, 'version': 1, 'datasetVersionId': 417138, 'dataFile': {'id': 10153717, 'persistentId': '', 'filename': '2012-csv.tar-1.gz', 'contentType': 'application/gzip', 'friendlyType': 'Gzip Archive', 'filesize': 21539943, 'description': '', 'storageIdentifier': 's3://dvn-cloud:18f1d063a44-7c2be78901bb', 'rootDataFileId': -1, 'md5': '8ea3b09a000ffba30eef2c62a7db9cd6', 'checksum': {'type': 'MD5', 'value': '8ea3b09a000ffba30eef2c62a7db9cd6'}, 'tabularData': False, 'creationDate': '2024-04-26', 'fileAccessRequest': True}}]}}\n",
      "../output/2013-csv.tar.gz\n"
     ]
    },
    {
     "name": "stderr",
     "output_type": "stream",
     "text": [
      " 76 20.3M    0     0   76 15.6M      0  10.2M  0:00:01  0:00:01 --:--:-- 10.2M"
     ]
    },
    {
     "name": "stdout",
     "output_type": "stream",
     "text": [
      "{'status': 'OK', 'data': {'files': [{'description': '', 'label': '2013-csv.tar-1.gz', 'restricted': False, 'version': 1, 'datasetVersionId': 417138, 'dataFile': {'id': 10153718, 'persistentId': '', 'filename': '2013-csv.tar-1.gz', 'contentType': 'application/gzip', 'friendlyType': 'Gzip Archive', 'filesize': 21336116, 'description': '', 'storageIdentifier': 's3://dvn-cloud:18f1d064531-7e01cb88d874', 'rootDataFileId': -1, 'md5': '3c7122fc48441815af8e7ee134b22d62', 'checksum': {'type': 'MD5', 'value': '3c7122fc48441815af8e7ee134b22d62'}, 'tabularData': False, 'creationDate': '2024-04-26', 'fileAccessRequest': True}}]}}\n"
     ]
    },
    {
     "name": "stderr",
     "output_type": "stream",
     "text": [
      "100 20.3M  100   579  100 20.3M    192  6920k  0:00:03  0:00:03 --:--:-- 6920k\n"
     ]
    }
   ],
   "source": [
    "for fn in sorted(glob('../output/201*-csv.tar.gz')):\n",
    "    print(fn)\n",
    "    resp = api.upload_file(doi, fn)\n",
    "    print(resp)"
   ]
  },
  {
   "cell_type": "code",
   "execution_count": 12,
   "id": "e2cc3579-5880-45b1-982e-b6c5b71ab791",
   "metadata": {},
   "outputs": [
    {
     "name": "stdout",
     "output_type": "stream",
     "text": [
      "../output/r3-all-2009.csv.gz\n"
     ]
    },
    {
     "name": "stderr",
     "output_type": "stream",
     "text": [
      "  % Total    % Received % Xferd  Average Speed   Time    Time     Time  Current\n",
      "                                 Dload  Upload   Total   Spent    Left  Speed\n",
      "100 6808k  100   580  100 6808k    222  2608k  0:00:02  0:00:02 --:--:-- 2609k\n",
      "  % Total    % Received % Xferd  Average Speed   Time    Time     Time  Current\n",
      "                                 Dload  Upload   Total   Spent    Left  Speed\n",
      "  0     0    0     0    0     0      0      0 --:--:-- --:--:-- --:--:--     0"
     ]
    },
    {
     "name": "stdout",
     "output_type": "stream",
     "text": [
      "{'status': 'OK', 'data': {'files': [{'description': '', 'label': 'r3-all-2009.csv.gz', 'restricted': False, 'version': 1, 'datasetVersionId': 424622, 'dataFile': {'id': 10396537, 'persistentId': '', 'filename': 'r3-all-2009.csv.gz', 'contentType': 'application/gzip', 'friendlyType': 'Gzip Archive', 'filesize': 6971536, 'description': '', 'storageIdentifier': 's3://dvn-cloud:190d2a8d6e5-369f16926030', 'rootDataFileId': -1, 'md5': '26ce36e22a2f36de5057c93c5ea28863', 'checksum': {'type': 'MD5', 'value': '26ce36e22a2f36de5057c93c5ea28863'}, 'tabularData': False, 'creationDate': '2024-07-20', 'fileAccessRequest': True}}]}}\n",
      "../output/r3-all-2010.csv.gz\n"
     ]
    },
    {
     "name": "stderr",
     "output_type": "stream",
     "text": [
      "100 7186k  100   580  100 7185k    242  3000k  0:00:02  0:00:02 --:--:-- 2999k\n",
      "  % Total    % Received % Xferd  Average Speed   Time    Time     Time  Current\n",
      "                                 Dload  Upload   Total   Spent    Left  Speed\n",
      "  0     0    0     0    0     0      0      0 --:--:-- --:--:-- --:--:--     0"
     ]
    },
    {
     "name": "stdout",
     "output_type": "stream",
     "text": [
      "{'status': 'OK', 'data': {'files': [{'description': '', 'label': 'r3-all-2010.csv.gz', 'restricted': False, 'version': 1, 'datasetVersionId': 424622, 'dataFile': {'id': 10396538, 'persistentId': '', 'filename': 'r3-all-2010.csv.gz', 'contentType': 'application/gzip', 'friendlyType': 'Gzip Archive', 'filesize': 7357680, 'description': '', 'storageIdentifier': 's3://dvn-cloud:190d2a8e070-7a9463e6a963', 'rootDataFileId': -1, 'md5': '214b0b43d1c3763dd4f1f71b37aadec1', 'checksum': {'type': 'MD5', 'value': '214b0b43d1c3763dd4f1f71b37aadec1'}, 'tabularData': False, 'creationDate': '2024-07-20', 'fileAccessRequest': True}}]}}\n",
      "../output/r3-all-2011.csv.gz\n"
     ]
    },
    {
     "name": "stderr",
     "output_type": "stream",
     "text": [
      "100 7528k  100   580  100 7527k    258  3351k  0:00:02  0:00:02 --:--:-- 3351k\n",
      "  % Total    % Received % Xferd  Average Speed   Time    Time     Time  Current\n",
      "                                 Dload  Upload   Total   Spent    Left  Speed\n",
      "  0     0    0     0    0     0      0      0 --:--:-- --:--:-- --:--:--     0"
     ]
    },
    {
     "name": "stdout",
     "output_type": "stream",
     "text": [
      "{'status': 'OK', 'data': {'files': [{'description': '', 'label': 'r3-all-2011.csv.gz', 'restricted': False, 'version': 1, 'datasetVersionId': 424622, 'dataFile': {'id': 10396539, 'persistentId': '', 'filename': 'r3-all-2011.csv.gz', 'contentType': 'application/gzip', 'friendlyType': 'Gzip Archive', 'filesize': 7708377, 'description': '', 'storageIdentifier': 's3://dvn-cloud:190d2a8e9c6-1c192a61b5bb', 'rootDataFileId': -1, 'md5': '410ab2f07b157b2394224b50687c57e2', 'checksum': {'type': 'MD5', 'value': '410ab2f07b157b2394224b50687c57e2'}, 'tabularData': False, 'creationDate': '2024-07-20', 'fileAccessRequest': True}}]}}\n",
      "../output/r3-all-2012.csv.gz\n"
     ]
    },
    {
     "name": "stderr",
     "output_type": "stream",
     "text": [
      "100 7415k  100   580  100 7415k    148  1903k  0:00:03  0:00:03 --:--:-- 1902k\n",
      "  % Total    % Received % Xferd  Average Speed   Time    Time     Time  Current\n",
      "                                 Dload  Upload   Total   Spent    Left  Speed\n",
      "  0     0    0     0    0     0      0      0 --:--:-- --:--:-- --:--:--     0"
     ]
    },
    {
     "name": "stdout",
     "output_type": "stream",
     "text": [
      "{'status': 'OK', 'data': {'files': [{'description': '', 'label': 'r3-all-2012.csv.gz', 'restricted': False, 'version': 1, 'datasetVersionId': 424622, 'dataFile': {'id': 10396540, 'persistentId': '', 'filename': 'r3-all-2012.csv.gz', 'contentType': 'application/gzip', 'friendlyType': 'Gzip Archive', 'filesize': 7593126, 'description': '', 'storageIdentifier': 's3://dvn-cloud:190d2a8f8a3-9026d2a474f2', 'rootDataFileId': -1, 'md5': 'bb1c6b4b7e3e43ae1e6988e8dad3f19a', 'checksum': {'type': 'MD5', 'value': 'bb1c6b4b7e3e43ae1e6988e8dad3f19a'}, 'tabularData': False, 'creationDate': '2024-07-20', 'fileAccessRequest': True}}]}}\n",
      "../output/r3-all-2013.csv.gz\n"
     ]
    },
    {
     "name": "stderr",
     "output_type": "stream",
     "text": [
      "100 7575k  100   580  100 7574k    238  3120k  0:00:02  0:00:02 --:--:-- 3121k\n",
      "  % Total    % Received % Xferd  Average Speed   Time    Time     Time  Current\n",
      "                                 Dload  Upload   Total   Spent    Left  Speed\n",
      "  0     0    0     0    0     0      0      0 --:--:-- --:--:-- --:--:--     0"
     ]
    },
    {
     "name": "stdout",
     "output_type": "stream",
     "text": [
      "{'status': 'OK', 'data': {'files': [{'description': '', 'label': 'r3-all-2013.csv.gz', 'restricted': False, 'version': 1, 'datasetVersionId': 424622, 'dataFile': {'id': 10396541, 'persistentId': '', 'filename': 'r3-all-2013.csv.gz', 'contentType': 'application/gzip', 'friendlyType': 'Gzip Archive', 'filesize': 7756111, 'description': '', 'storageIdentifier': 's3://dvn-cloud:190d2a90254-676d525d611b', 'rootDataFileId': -1, 'md5': 'e6950bd317dabe3b41bf7738c248e7ee', 'checksum': {'type': 'MD5', 'value': 'e6950bd317dabe3b41bf7738c248e7ee'}, 'tabularData': False, 'creationDate': '2024-07-20', 'fileAccessRequest': True}}]}}\n",
      "../output/r3-all-2014.csv.gz\n"
     ]
    },
    {
     "name": "stderr",
     "output_type": "stream",
     "text": [
      "100 8550k  100   580  100 8549k    250  3696k  0:00:02  0:00:02 --:--:-- 3694k\n",
      "  % Total    % Received % Xferd  Average Speed   Time    Time     Time  Current\n",
      "                                 Dload  Upload   Total   Spent    Left  Speed\n",
      "  0     0    0     0    0     0      0      0 --:--:-- --:--:-- --:--:--     0"
     ]
    },
    {
     "name": "stdout",
     "output_type": "stream",
     "text": [
      "{'status': 'OK', 'data': {'files': [{'description': '', 'label': 'r3-all-2014.csv.gz', 'restricted': False, 'version': 1, 'datasetVersionId': 424622, 'dataFile': {'id': 10396542, 'persistentId': '', 'filename': 'r3-all-2014.csv.gz', 'contentType': 'application/gzip', 'friendlyType': 'Gzip Archive', 'filesize': 8754438, 'description': '', 'storageIdentifier': 's3://dvn-cloud:190d2a90bdb-4a655719d9a9', 'rootDataFileId': -1, 'md5': '103e4f001bae0e5eef07d102e31c12ea', 'checksum': {'type': 'MD5', 'value': '103e4f001bae0e5eef07d102e31c12ea'}, 'tabularData': False, 'creationDate': '2024-07-20', 'fileAccessRequest': True}}]}}\n",
      "../output/r3-all-2015.csv.gz\n"
     ]
    },
    {
     "name": "stderr",
     "output_type": "stream",
     "text": [
      "100 8544k  100   580  100 8543k    229  3378k  0:00:02  0:00:02 --:--:-- 3390k\n",
      "  % Total    % Received % Xferd  Average Speed   Time    Time     Time  Current\n",
      "                                 Dload  Upload   Total   Spent    Left  Speed\n",
      "  0     0    0     0    0     0      0      0 --:--:-- --:--:-- --:--:--     0"
     ]
    },
    {
     "name": "stdout",
     "output_type": "stream",
     "text": [
      "{'status': 'OK', 'data': {'files': [{'description': '', 'label': 'r3-all-2015.csv.gz', 'restricted': False, 'version': 1, 'datasetVersionId': 424622, 'dataFile': {'id': 10396543, 'persistentId': '', 'filename': 'r3-all-2015.csv.gz', 'contentType': 'application/gzip', 'friendlyType': 'Gzip Archive', 'filesize': 8748359, 'description': '', 'storageIdentifier': 's3://dvn-cloud:190d2a91549-a07c1f092e92', 'rootDataFileId': -1, 'md5': 'b2c74f1f6c1deaa8e9d806f59c2ea53d', 'checksum': {'type': 'MD5', 'value': 'b2c74f1f6c1deaa8e9d806f59c2ea53d'}, 'tabularData': False, 'creationDate': '2024-07-20', 'fileAccessRequest': True}}]}}\n",
      "../output/r3-all-2016.csv.gz\n"
     ]
    },
    {
     "name": "stderr",
     "output_type": "stream",
     "text": [
      "100 8509k  100   580  100 8508k    263  3860k  0:00:02  0:00:02 --:--:-- 3866k\n",
      "  % Total    % Received % Xferd  Average Speed   Time    Time     Time  Current\n",
      "                                 Dload  Upload   Total   Spent    Left  Speed\n",
      "  0     0    0     0    0     0      0      0 --:--:-- --:--:-- --:--:--     0"
     ]
    },
    {
     "name": "stdout",
     "output_type": "stream",
     "text": [
      "{'status': 'OK', 'data': {'files': [{'description': '', 'label': 'r3-all-2016.csv.gz', 'restricted': False, 'version': 1, 'datasetVersionId': 424622, 'dataFile': {'id': 10396544, 'persistentId': '', 'filename': 'r3-all-2016.csv.gz', 'contentType': 'application/gzip', 'friendlyType': 'Gzip Archive', 'filesize': 8712992, 'description': '', 'storageIdentifier': 's3://dvn-cloud:190d2a91ec2-63d781b4c127', 'rootDataFileId': -1, 'md5': '090c0f59e839301e4290ce644dab56c0', 'checksum': {'type': 'MD5', 'value': '090c0f59e839301e4290ce644dab56c0'}, 'tabularData': False, 'creationDate': '2024-07-20', 'fileAccessRequest': True}}]}}\n",
      "../output/r3-all-2017.csv.gz\n"
     ]
    },
    {
     "name": "stderr",
     "output_type": "stream",
     "text": [
      "100 9195k  100   580  100 9194k    227  3600k  0:00:02  0:00:02 --:--:-- 3600k\n",
      "  % Total    % Received % Xferd  Average Speed   Time    Time     Time  Current\n",
      "                                 Dload  Upload   Total   Spent    Left  Speed\n",
      "  0     0    0     0    0     0      0      0 --:--:-- --:--:-- --:--:--     0"
     ]
    },
    {
     "name": "stdout",
     "output_type": "stream",
     "text": [
      "{'status': 'OK', 'data': {'files': [{'description': '', 'label': 'r3-all-2017.csv.gz', 'restricted': False, 'version': 1, 'datasetVersionId': 424622, 'dataFile': {'id': 10396545, 'persistentId': '', 'filename': 'r3-all-2017.csv.gz', 'contentType': 'application/gzip', 'friendlyType': 'Gzip Archive', 'filesize': 9415249, 'description': '', 'storageIdentifier': 's3://dvn-cloud:190d2a9282b-a7141131895b', 'rootDataFileId': -1, 'md5': 'faf4b8d224ee3ec8cc9d10efaee20415', 'checksum': {'type': 'MD5', 'value': 'faf4b8d224ee3ec8cc9d10efaee20415'}, 'tabularData': False, 'creationDate': '2024-07-20', 'fileAccessRequest': True}}]}}\n",
      "../output/r3-all-2018.csv.gz\n"
     ]
    },
    {
     "name": "stderr",
     "output_type": "stream",
     "text": [
      "100 10.2M  100   581  100 10.2M    219  3957k  0:00:02  0:00:02 --:--:-- 3956k\n"
     ]
    },
    {
     "name": "stdout",
     "output_type": "stream",
     "text": [
      "{'status': 'OK', 'data': {'files': [{'description': '', 'label': 'r3-all-2018.csv.gz', 'restricted': False, 'version': 1, 'datasetVersionId': 424622, 'dataFile': {'id': 10396546, 'persistentId': '', 'filename': 'r3-all-2018.csv.gz', 'contentType': 'application/gzip', 'friendlyType': 'Gzip Archive', 'filesize': 10702735, 'description': '', 'storageIdentifier': 's3://dvn-cloud:190d2a9325e-3e075b9fbd32', 'rootDataFileId': -1, 'md5': 'fd3487254ae01b22b999d6425fa62309', 'checksum': {'type': 'MD5', 'value': 'fd3487254ae01b22b999d6425fa62309'}, 'tabularData': False, 'creationDate': '2024-07-20', 'fileAccessRequest': True}}]}}\n",
      "../output/r3-all-2019.csv.gz\n"
     ]
    },
    {
     "name": "stderr",
     "output_type": "stream",
     "text": [
      "  % Total    % Received % Xferd  Average Speed   Time    Time     Time  Current\n",
      "                                 Dload  Upload   Total   Spent    Left  Speed\n",
      "100 9733k  100   580  100 9733k    242  4069k  0:00:02  0:00:02 --:--:-- 4069k\n",
      "  % Total    % Received % Xferd  Average Speed   Time    Time     Time  Current\n",
      "                                 Dload  Upload   Total   Spent    Left  Speed\n",
      "  0     0    0     0    0     0      0      0 --:--:-- --:--:-- --:--:--     0"
     ]
    },
    {
     "name": "stdout",
     "output_type": "stream",
     "text": [
      "{'status': 'OK', 'data': {'files': [{'description': '', 'label': 'r3-all-2019.csv.gz', 'restricted': False, 'version': 1, 'datasetVersionId': 424622, 'dataFile': {'id': 10396547, 'persistentId': '', 'filename': 'r3-all-2019.csv.gz', 'contentType': 'application/gzip', 'friendlyType': 'Gzip Archive', 'filesize': 9966642, 'description': '', 'storageIdentifier': 's3://dvn-cloud:190d2a93c73-c7a2dedfeae5', 'rootDataFileId': -1, 'md5': '5d0736537efe47d87063af2c84d8970e', 'checksum': {'type': 'MD5', 'value': '5d0736537efe47d87063af2c84d8970e'}, 'tabularData': False, 'creationDate': '2024-07-20', 'fileAccessRequest': True}}]}}\n",
      "../output/r3-all-2020.csv.gz\n"
     ]
    },
    {
     "name": "stderr",
     "output_type": "stream",
     "text": [
      "100 10.5M  100   581  100 10.5M    122  2286k  0:00:04  0:00:04 --:--:-- 2410k\n",
      "  % Total    % Received % Xferd  Average Speed   Time    Time     Time  Current\n",
      "                                 Dload  Upload   Total   Spent    Left  Speed\n",
      "  0     0    0     0    0     0      0      0 --:--:-- --:--:-- --:--:--     0"
     ]
    },
    {
     "name": "stdout",
     "output_type": "stream",
     "text": [
      "{'status': 'OK', 'data': {'files': [{'description': '', 'label': 'r3-all-2020.csv.gz', 'restricted': False, 'version': 1, 'datasetVersionId': 424622, 'dataFile': {'id': 10396548, 'persistentId': '', 'filename': 'r3-all-2020.csv.gz', 'contentType': 'application/gzip', 'friendlyType': 'Gzip Archive', 'filesize': 11093806, 'description': '', 'storageIdentifier': 's3://dvn-cloud:190d2a94f74-328102410544', 'rootDataFileId': -1, 'md5': 'ef48ed41e554b88f5415c87b8d0acc1a', 'checksum': {'type': 'MD5', 'value': 'ef48ed41e554b88f5415c87b8d0acc1a'}, 'tabularData': False, 'creationDate': '2024-07-20', 'fileAccessRequest': True}}]}}\n",
      "../output/r3-all-2021.csv.gz\n"
     ]
    },
    {
     "name": "stderr",
     "output_type": "stream",
     "text": [
      "100 10.3M  100   581  100 10.3M    222  4069k  0:00:02  0:00:02 --:--:-- 4069k\n",
      "  % Total    % Received % Xferd  Average Speed   Time    Time     Time  Current\n",
      "                                 Dload  Upload   Total   Spent    Left  Speed\n",
      "  0     0    0     0    0     0      0      0 --:--:-- --:--:-- --:--:--     0"
     ]
    },
    {
     "name": "stdout",
     "output_type": "stream",
     "text": [
      "{'status': 'OK', 'data': {'files': [{'description': '', 'label': 'r3-all-2021.csv.gz', 'restricted': False, 'version': 1, 'datasetVersionId': 424622, 'dataFile': {'id': 10396549, 'persistentId': '', 'filename': 'r3-all-2021.csv.gz', 'contentType': 'application/gzip', 'friendlyType': 'Gzip Archive', 'filesize': 10888450, 'description': '', 'storageIdentifier': 's3://dvn-cloud:190d2a959aa-1e995ff60e9f', 'rootDataFileId': -1, 'md5': 'f6685e6d20cf142032fdd8a6c5b64b06', 'checksum': {'type': 'MD5', 'value': 'f6685e6d20cf142032fdd8a6c5b64b06'}, 'tabularData': False, 'creationDate': '2024-07-20', 'fileAccessRequest': True}}]}}\n",
      "../output/r3-all-2022.csv.gz\n"
     ]
    },
    {
     "name": "stderr",
     "output_type": "stream",
     "text": [
      "100 10.1M  100   581  100 10.1M    240  4306k  0:00:02  0:00:02 --:--:-- 4324k\n",
      "  % Total    % Received % Xferd  Average Speed   Time    Time     Time  Current\n",
      "                                 Dload  Upload   Total   Spent    Left  Speed\n",
      "  0     0    0     0    0     0      0      0 --:--:-- --:--:-- --:--:--     0"
     ]
    },
    {
     "name": "stdout",
     "output_type": "stream",
     "text": [
      "{'status': 'OK', 'data': {'files': [{'description': '', 'label': 'r3-all-2022.csv.gz', 'restricted': False, 'version': 1, 'datasetVersionId': 424622, 'dataFile': {'id': 10396550, 'persistentId': '', 'filename': 'r3-all-2022.csv.gz', 'contentType': 'application/gzip', 'friendlyType': 'Gzip Archive', 'filesize': 10641105, 'description': '', 'storageIdentifier': 's3://dvn-cloud:190d2a9630c-12db9a6904fd', 'rootDataFileId': -1, 'md5': '943364454b2411cb126065def438a427', 'checksum': {'type': 'MD5', 'value': '943364454b2411cb126065def438a427'}, 'tabularData': False, 'creationDate': '2024-07-20', 'fileAccessRequest': True}}]}}\n",
      "../output/r3-all-2023.csv.gz\n"
     ]
    },
    {
     "name": "stderr",
     "output_type": "stream",
     "text": [
      "100 10.1M  100   581  100 10.1M    231  4135k  0:00:02  0:00:02 --:--:-- 4134k\n",
      "  % Total    % Received % Xferd  Average Speed   Time    Time     Time  Current\n",
      "                                 Dload  Upload   Total   Spent    Left  Speed\n",
      "  0     0    0     0    0     0      0      0 --:--:-- --:--:-- --:--:--     0"
     ]
    },
    {
     "name": "stdout",
     "output_type": "stream",
     "text": [
      "{'status': 'OK', 'data': {'files': [{'description': '', 'label': 'r3-all-2023.csv.gz', 'restricted': False, 'version': 1, 'datasetVersionId': 424622, 'dataFile': {'id': 10396551, 'persistentId': '', 'filename': 'r3-all-2023.csv.gz', 'contentType': 'application/gzip', 'friendlyType': 'Gzip Archive', 'filesize': 10616963, 'description': '', 'storageIdentifier': 's3://dvn-cloud:190d2a96c9d-de943d52a54a', 'rootDataFileId': -1, 'md5': '0711a8c3dd86377b31422027b81de3fe', 'checksum': {'type': 'MD5', 'value': '0711a8c3dd86377b31422027b81de3fe'}, 'tabularData': False, 'creationDate': '2024-07-20', 'fileAccessRequest': True}}]}}\n",
      "../output/r3-all-2024.csv.gz\n"
     ]
    },
    {
     "name": "stderr",
     "output_type": "stream",
     "text": [
      "100 6284k    0     0  100 6284k      0   535k  0:00:11  0:00:11 --:--:--  797k"
     ]
    },
    {
     "name": "stdout",
     "output_type": "stream",
     "text": [
      "{'status': 'OK', 'data': {'files': [{'description': '', 'label': 'r3-all-2024.csv.gz', 'restricted': False, 'version': 1, 'datasetVersionId': 424622, 'dataFile': {'id': 10396552, 'persistentId': '', 'filename': 'r3-all-2024.csv.gz', 'contentType': 'application/gzip', 'friendlyType': 'Gzip Archive', 'filesize': 6435438, 'description': '', 'storageIdentifier': 's3://dvn-cloud:190d2a99b10-3f91572e2c2b', 'rootDataFileId': -1, 'md5': 'ad6a3023a1d542162c134e40031f721c', 'checksum': {'type': 'MD5', 'value': 'ad6a3023a1d542162c134e40031f721c'}, 'tabularData': False, 'creationDate': '2024-07-20', 'fileAccessRequest': True}}]}}\n"
     ]
    },
    {
     "name": "stderr",
     "output_type": "stream",
     "text": [
      "100 6285k  100   580  100 6284k     48   525k  0:00:12  0:00:11  0:00:01  807k\n"
     ]
    }
   ],
   "source": [
    "for fn in sorted(glob('../output/r3-all-20*.csv.gz')):\n",
    "    print(fn)\n",
    "    resp = api.upload_file(doi, fn)\n",
    "    print(resp)"
   ]
  },
  {
   "cell_type": "code",
   "execution_count": 13,
   "id": "4d46f16f-f922-4cae-a9c0-329d3dec059f",
   "metadata": {},
   "outputs": [
    {
     "name": "stderr",
     "output_type": "stream",
     "text": [
      "  % Total    % Received % Xferd  Average Speed   Time    Time     Time  Current\n",
      "                                 Dload  Upload   Total   Spent    Left  Speed\n",
      "  0     0    0     0    0     0      0      0 --:--:-- --:--:-- --:--:--     0"
     ]
    },
    {
     "name": "stdout",
     "output_type": "stream",
     "text": [
      "../output/r5_1-all-2010.csv.gz\n"
     ]
    },
    {
     "name": "stderr",
     "output_type": "stream",
     "text": [
      "100  335k  100   583  100  334k    272   156k  0:00:02  0:00:02 --:--:--  156k\n"
     ]
    },
    {
     "name": "stdout",
     "output_type": "stream",
     "text": [
      "{'status': 'OK', 'data': {'files': [{'description': '', 'label': 'r5_1-all-2010.csv.gz', 'restricted': False, 'version': 1, 'datasetVersionId': 424622, 'dataFile': {'id': 10396553, 'persistentId': '', 'filename': 'r5_1-all-2010.csv.gz', 'contentType': 'application/gzip', 'friendlyType': 'Gzip Archive', 'filesize': 342437, 'description': '', 'storageIdentifier': 's3://dvn-cloud:190d2a9a3aa-686df8989e9a', 'rootDataFileId': -1, 'md5': '05ee1f03ec48c14e8ab7d2b9d94fb20a', 'checksum': {'type': 'MD5', 'value': '05ee1f03ec48c14e8ab7d2b9d94fb20a'}, 'tabularData': False, 'creationDate': '2024-07-20', 'fileAccessRequest': True}}]}}\n",
      "../output/r5_1-all-2011.csv.gz\n"
     ]
    },
    {
     "name": "stderr",
     "output_type": "stream",
     "text": [
      "  % Total    % Received % Xferd  Average Speed   Time    Time     Time  Current\n",
      "                                 Dload  Upload   Total   Spent    Left  Speed\n",
      "100  336k  100   583  100  335k    310   178k  0:00:01  0:00:01 --:--:--  178k\n",
      "  % Total    % Received % Xferd  Average Speed   Time    Time     Time  Current\n",
      "                                 Dload  Upload   Total   Spent    Left  Speed\n",
      "  0     0    0     0    0     0      0      0 --:--:-- --:--:-- --:--:--     0"
     ]
    },
    {
     "name": "stdout",
     "output_type": "stream",
     "text": [
      "{'status': 'OK', 'data': {'files': [{'description': '', 'label': 'r5_1-all-2011.csv.gz', 'restricted': False, 'version': 1, 'datasetVersionId': 424622, 'dataFile': {'id': 10396554, 'persistentId': '', 'filename': 'r5_1-all-2011.csv.gz', 'contentType': 'application/gzip', 'friendlyType': 'Gzip Archive', 'filesize': 343496, 'description': '', 'storageIdentifier': 's3://dvn-cloud:190d2a9abc0-d3052462fec7', 'rootDataFileId': -1, 'md5': '1739c43e28dc83c8ba643bfdf5951f56', 'checksum': {'type': 'MD5', 'value': '1739c43e28dc83c8ba643bfdf5951f56'}, 'tabularData': False, 'creationDate': '2024-07-20', 'fileAccessRequest': True}}]}}\n",
      "../output/r5_1-all-2012.csv.gz\n"
     ]
    },
    {
     "name": "stderr",
     "output_type": "stream",
     "text": [
      "100 8009k  100   584  100 8008k    226  3112k  0:00:02  0:00:02 --:--:-- 3112k\n"
     ]
    },
    {
     "name": "stdout",
     "output_type": "stream",
     "text": [
      "{'status': 'OK', 'data': {'files': [{'description': '', 'label': 'r5_1-all-2012.csv.gz', 'restricted': False, 'version': 1, 'datasetVersionId': 424622, 'dataFile': {'id': 10396555, 'persistentId': '', 'filename': 'r5_1-all-2012.csv.gz', 'contentType': 'application/gzip', 'friendlyType': 'Gzip Archive', 'filesize': 8200713, 'description': '', 'storageIdentifier': 's3://dvn-cloud:190d2a9b58b-857418a2b668', 'rootDataFileId': -1, 'md5': '6d046e125be1c5c26a2968d4999cdc0c', 'checksum': {'type': 'MD5', 'value': '6d046e125be1c5c26a2968d4999cdc0c'}, 'tabularData': False, 'creationDate': '2024-07-20', 'fileAccessRequest': True}}]}}\n",
      "../output/r5_1-all-2013.csv.gz\n"
     ]
    },
    {
     "name": "stderr",
     "output_type": "stream",
     "text": [
      "  % Total    % Received % Xferd  Average Speed   Time    Time     Time  Current\n",
      "                                 Dload  Upload   Total   Spent    Left  Speed\n",
      "100 8647k  100   584  100 8646k    240  3555k  0:00:02  0:00:02 --:--:-- 3554k\n",
      "  % Total    % Received % Xferd  Average Speed   Time    Time     Time  Current\n",
      "                                 Dload  Upload   Total   Spent    Left  Speed\n",
      "  0     0    0     0    0     0      0      0 --:--:-- --:--:-- --:--:--     0"
     ]
    },
    {
     "name": "stdout",
     "output_type": "stream",
     "text": [
      "{'status': 'OK', 'data': {'files': [{'description': '', 'label': 'r5_1-all-2013.csv.gz', 'restricted': False, 'version': 1, 'datasetVersionId': 424622, 'dataFile': {'id': 10396556, 'persistentId': '', 'filename': 'r5_1-all-2013.csv.gz', 'contentType': 'application/gzip', 'friendlyType': 'Gzip Archive', 'filesize': 8854217, 'description': '', 'storageIdentifier': 's3://dvn-cloud:190d2a9bf48-c7418d6c3bf6', 'rootDataFileId': -1, 'md5': '913eefbc40b0f5bb92572aa3b6198a2d', 'checksum': {'type': 'MD5', 'value': '913eefbc40b0f5bb92572aa3b6198a2d'}, 'tabularData': False, 'creationDate': '2024-07-20', 'fileAccessRequest': True}}]}}\n",
      "../output/r5_1-all-2014.csv.gz\n"
     ]
    },
    {
     "name": "stderr",
     "output_type": "stream",
     "text": [
      "100 8797k  100   584  100 8796k    232  3504k  0:00:02  0:00:02 --:--:-- 3504k\n",
      "  % Total    % Received % Xferd  Average Speed   Time    Time     Time  Current\n",
      "                                 Dload  Upload   Total   Spent    Left  Speed\n",
      "  0     0    0     0    0     0      0      0 --:--:-- --:--:-- --:--:--     0"
     ]
    },
    {
     "name": "stdout",
     "output_type": "stream",
     "text": [
      "{'status': 'OK', 'data': {'files': [{'description': '', 'label': 'r5_1-all-2014.csv.gz', 'restricted': False, 'version': 1, 'datasetVersionId': 424622, 'dataFile': {'id': 10396557, 'persistentId': '', 'filename': 'r5_1-all-2014.csv.gz', 'contentType': 'application/gzip', 'friendlyType': 'Gzip Archive', 'filesize': 9007382, 'description': '', 'storageIdentifier': 's3://dvn-cloud:190d2a9c966-bad84e31cbbb', 'rootDataFileId': -1, 'md5': '08405883066a6f4c0c1a835043f6329e', 'checksum': {'type': 'MD5', 'value': '08405883066a6f4c0c1a835043f6329e'}, 'tabularData': False, 'creationDate': '2024-07-20', 'fileAccessRequest': True}}]}}\n",
      "../output/r5_1-all-2015.csv.gz\n"
     ]
    },
    {
     "name": "stderr",
     "output_type": "stream",
     "text": [
      "100 1465k  100   584  100 1465k    276   693k  0:00:02  0:00:02 --:--:--  693k\n",
      "  % Total    % Received % Xferd  Average Speed   Time    Time     Time  Current\n",
      "                                 Dload  Upload   Total   Spent    Left  Speed\n",
      "  0     0    0     0    0     0      0      0 --:--:-- --:--:-- --:--:--     0"
     ]
    },
    {
     "name": "stdout",
     "output_type": "stream",
     "text": [
      "{'status': 'OK', 'data': {'files': [{'description': '', 'label': 'r5_1-all-2015.csv.gz', 'restricted': False, 'version': 1, 'datasetVersionId': 424622, 'dataFile': {'id': 10396558, 'persistentId': '', 'filename': 'r5_1-all-2015.csv.gz', 'contentType': 'application/gzip', 'friendlyType': 'Gzip Archive', 'filesize': 1500129, 'description': '', 'storageIdentifier': 's3://dvn-cloud:190d2a9d1d4-40c98707155b', 'rootDataFileId': -1, 'md5': '0643015bc7d7b4fd3f1a1b5f59a29308', 'checksum': {'type': 'MD5', 'value': '0643015bc7d7b4fd3f1a1b5f59a29308'}, 'tabularData': False, 'creationDate': '2024-07-20', 'fileAccessRequest': True}}]}}\n",
      "../output/r5_1-all-2016.csv.gz\n"
     ]
    },
    {
     "name": "stderr",
     "output_type": "stream",
     "text": [
      "100 2016k  100   584  100 2016k    261   901k  0:00:02  0:00:02 --:--:--  902k\n",
      "  % Total    % Received % Xferd  Average Speed   Time    Time     Time  Current\n",
      "                                 Dload  Upload   Total   Spent    Left  Speed\n",
      "  0     0    0     0    0     0      0      0 --:--:-- --:--:-- --:--:--     0"
     ]
    },
    {
     "name": "stdout",
     "output_type": "stream",
     "text": [
      "{'status': 'OK', 'data': {'files': [{'description': '', 'label': 'r5_1-all-2016.csv.gz', 'restricted': False, 'version': 1, 'datasetVersionId': 424622, 'dataFile': {'id': 10396559, 'persistentId': '', 'filename': 'r5_1-all-2016.csv.gz', 'contentType': 'application/gzip', 'friendlyType': 'Gzip Archive', 'filesize': 2064593, 'description': '', 'storageIdentifier': 's3://dvn-cloud:190d2a9daa8-832a711bf185', 'rootDataFileId': -1, 'md5': '53b3b4afb521e686a9a5f47fc36893ca', 'checksum': {'type': 'MD5', 'value': '53b3b4afb521e686a9a5f47fc36893ca'}, 'tabularData': False, 'creationDate': '2024-07-20', 'fileAccessRequest': True}}]}}\n",
      "../output/r5_1-all-2017.csv.gz\n"
     ]
    },
    {
     "name": "stderr",
     "output_type": "stream",
     "text": [
      "100 9457k  100   584  100 9457k    233  3781k  0:00:02  0:00:02 --:--:-- 3789k\n",
      "  % Total    % Received % Xferd  Average Speed   Time    Time     Time  Current\n",
      "                                 Dload  Upload   Total   Spent    Left  Speed\n",
      "  0     0    0     0    0     0      0      0 --:--:-- --:--:-- --:--:--     0"
     ]
    },
    {
     "name": "stdout",
     "output_type": "stream",
     "text": [
      "{'status': 'OK', 'data': {'files': [{'description': '', 'label': 'r5_1-all-2017.csv.gz', 'restricted': False, 'version': 1, 'datasetVersionId': 424622, 'dataFile': {'id': 10396560, 'persistentId': '', 'filename': 'r5_1-all-2017.csv.gz', 'contentType': 'application/gzip', 'friendlyType': 'Gzip Archive', 'filesize': 9683836, 'description': '', 'storageIdentifier': 's3://dvn-cloud:190d2a9e4e0-ec3a2ed12147', 'rootDataFileId': -1, 'md5': '14280eb7d164f593b800320fff9ee982', 'checksum': {'type': 'MD5', 'value': '14280eb7d164f593b800320fff9ee982'}, 'tabularData': False, 'creationDate': '2024-07-20', 'fileAccessRequest': True}}]}}\n",
      "../output/r5_1-all-2018.csv.gz\n"
     ]
    },
    {
     "name": "stderr",
     "output_type": "stream",
     "text": [
      "100 10.5M  100   585  100 10.5M    237  4408k  0:00:02  0:00:02 --:--:-- 4409k\n",
      "  % Total    % Received % Xferd  Average Speed   Time    Time     Time  Current\n",
      "                                 Dload  Upload   Total   Spent    Left  Speed\n",
      "  0     0    0     0    0     0      0      0 --:--:-- --:--:-- --:--:--     0"
     ]
    },
    {
     "name": "stdout",
     "output_type": "stream",
     "text": [
      "{'status': 'OK', 'data': {'files': [{'description': '', 'label': 'r5_1-all-2018.csv.gz', 'restricted': False, 'version': 1, 'datasetVersionId': 424622, 'dataFile': {'id': 10396561, 'persistentId': '', 'filename': 'r5_1-all-2018.csv.gz', 'contentType': 'application/gzip', 'friendlyType': 'Gzip Archive', 'filesize': 11101196, 'description': '', 'storageIdentifier': 's3://dvn-cloud:190d2a9ee62-1978350dd13c', 'rootDataFileId': -1, 'md5': '7aed3dc4c86d9a650bae16fc85c73df4', 'checksum': {'type': 'MD5', 'value': '7aed3dc4c86d9a650bae16fc85c73df4'}, 'tabularData': False, 'creationDate': '2024-07-20', 'fileAccessRequest': True}}]}}\n",
      "../output/r5_1-all-2019.csv.gz\n"
     ]
    },
    {
     "name": "stderr",
     "output_type": "stream",
     "text": [
      "100 10.2M  100   585  100 10.2M    141  2540k  0:00:04  0:00:04 --:--:-- 2541k\n",
      "  % Total    % Received % Xferd  Average Speed   Time    Time     Time  Current\n",
      "                                 Dload  Upload   Total   Spent    Left  Speed\n",
      "  0     0    0     0    0     0      0      0 --:--:-- --:--:-- --:--:--     0"
     ]
    },
    {
     "name": "stdout",
     "output_type": "stream",
     "text": [
      "{'status': 'OK', 'data': {'files': [{'description': '', 'label': 'r5_1-all-2019.csv.gz', 'restricted': False, 'version': 1, 'datasetVersionId': 424622, 'dataFile': {'id': 10396562, 'persistentId': '', 'filename': 'r5_1-all-2019.csv.gz', 'contentType': 'application/gzip', 'friendlyType': 'Gzip Archive', 'filesize': 10743526, 'description': '', 'storageIdentifier': 's3://dvn-cloud:190d2a9fdf3-8062a7b8a951', 'rootDataFileId': -1, 'md5': 'd2b0b29eab85ae598d52e7b747bc8c45', 'checksum': {'type': 'MD5', 'value': 'd2b0b29eab85ae598d52e7b747bc8c45'}, 'tabularData': False, 'creationDate': '2024-07-20', 'fileAccessRequest': True}}]}}\n",
      "../output/r5_1-all-2020.csv.gz\n"
     ]
    },
    {
     "name": "stderr",
     "output_type": "stream",
     "text": [
      "100 10.9M  100   585  100 10.9M    232  4479k  0:00:02  0:00:02 --:--:-- 4477k\n",
      "  % Total    % Received % Xferd  Average Speed   Time    Time     Time  Current\n",
      "                                 Dload  Upload   Total   Spent    Left  Speed\n",
      "  0     0    0     0    0     0      0      0 --:--:-- --:--:-- --:--:--     0"
     ]
    },
    {
     "name": "stdout",
     "output_type": "stream",
     "text": [
      "{'status': 'OK', 'data': {'files': [{'description': '', 'label': 'r5_1-all-2020.csv.gz', 'restricted': False, 'version': 1, 'datasetVersionId': 424622, 'dataFile': {'id': 10396563, 'persistentId': '', 'filename': 'r5_1-all-2020.csv.gz', 'contentType': 'application/gzip', 'friendlyType': 'Gzip Archive', 'filesize': 11521807, 'description': '', 'storageIdentifier': 's3://dvn-cloud:190d2aa08f2-20c1dba9458b', 'rootDataFileId': -1, 'md5': 'cdfba48c40c60f5a98fb297e936184eb', 'checksum': {'type': 'MD5', 'value': 'cdfba48c40c60f5a98fb297e936184eb'}, 'tabularData': False, 'creationDate': '2024-07-20', 'fileAccessRequest': True}}]}}\n",
      "../output/r5_1-all-2021.csv.gz\n"
     ]
    },
    {
     "name": "stderr",
     "output_type": "stream",
     "text": [
      "100 10.9M  100   585  100 10.9M    234  4485k  0:00:02  0:00:02 --:--:-- 4487k\n",
      "  % Total    % Received % Xferd  Average Speed   Time    Time     Time  Current\n",
      "                                 Dload  Upload   Total   Spent    Left  Speed\n",
      "  0     0    0     0    0     0      0      0 --:--:-- --:--:-- --:--:--     0"
     ]
    },
    {
     "name": "stdout",
     "output_type": "stream",
     "text": [
      "{'status': 'OK', 'data': {'files': [{'description': '', 'label': 'r5_1-all-2021.csv.gz', 'restricted': False, 'version': 1, 'datasetVersionId': 424622, 'dataFile': {'id': 10396564, 'persistentId': '', 'filename': 'r5_1-all-2021.csv.gz', 'contentType': 'application/gzip', 'friendlyType': 'Gzip Archive', 'filesize': 11468095, 'description': '', 'storageIdentifier': 's3://dvn-cloud:190d2aa1271-4970fd46d5c3', 'rootDataFileId': -1, 'md5': 'cc3ffde4179c20b07a8e2427f8497a11', 'checksum': {'type': 'MD5', 'value': 'cc3ffde4179c20b07a8e2427f8497a11'}, 'tabularData': False, 'creationDate': '2024-07-20', 'fileAccessRequest': True}}]}}\n",
      "../output/r5_1-all-2022.csv.gz\n"
     ]
    },
    {
     "name": "stderr",
     "output_type": "stream",
     "text": [
      "100 10.8M  100   585  100 10.8M    190  3626k  0:00:03  0:00:03 --:--:-- 3626k\n",
      "  % Total    % Received % Xferd  Average Speed   Time    Time     Time  Current\n",
      "                                 Dload  Upload   Total   Spent    Left  Speed\n",
      "  0     0    0     0    0     0      0      0 --:--:-- --:--:-- --:--:--     0"
     ]
    },
    {
     "name": "stdout",
     "output_type": "stream",
     "text": [
      "{'status': 'OK', 'data': {'files': [{'description': '', 'label': 'r5_1-all-2022.csv.gz', 'restricted': False, 'version': 1, 'datasetVersionId': 424622, 'dataFile': {'id': 10396565, 'persistentId': '', 'filename': 'r5_1-all-2022.csv.gz', 'contentType': 'application/gzip', 'friendlyType': 'Gzip Archive', 'filesize': 11389433, 'description': '', 'storageIdentifier': 's3://dvn-cloud:190d2aa1d8c-4c65796a6ba0', 'rootDataFileId': -1, 'md5': 'a9c6576ede58eceedb9a0d3fba388832', 'checksum': {'type': 'MD5', 'value': 'a9c6576ede58eceedb9a0d3fba388832'}, 'tabularData': False, 'creationDate': '2024-07-20', 'fileAccessRequest': True}}]}}\n",
      "../output/r5_1-all-2023.csv.gz\n"
     ]
    },
    {
     "name": "stderr",
     "output_type": "stream",
     "text": [
      "100 10.7M  100   585  100 10.7M     56  1060k  0:00:10  0:00:10 --:--:--  781k\n",
      "  % Total    % Received % Xferd  Average Speed   Time    Time     Time  Current\n",
      "                                 Dload  Upload   Total   Spent    Left  Speed\n",
      "  0     0    0     0    0     0      0      0 --:--:-- --:--:-- --:--:--     0"
     ]
    },
    {
     "name": "stdout",
     "output_type": "stream",
     "text": [
      "{'status': 'OK', 'data': {'files': [{'description': '', 'label': 'r5_1-all-2023.csv.gz', 'restricted': False, 'version': 1, 'datasetVersionId': 424622, 'dataFile': {'id': 10396566, 'persistentId': '', 'filename': 'r5_1-all-2023.csv.gz', 'contentType': 'application/gzip', 'friendlyType': 'Gzip Archive', 'filesize': 11231781, 'description': '', 'storageIdentifier': 's3://dvn-cloud:190d2aa46ab-5240659bbbfd', 'rootDataFileId': -1, 'md5': '7cfe85a316e69e87199643234e082ce4', 'checksum': {'type': 'MD5', 'value': '7cfe85a316e69e87199643234e082ce4'}, 'tabularData': False, 'creationDate': '2024-07-20', 'fileAccessRequest': True}}]}}\n",
      "../output/r5_1-all-2024.csv.gz\n"
     ]
    },
    {
     "name": "stderr",
     "output_type": "stream",
     "text": [
      " 21 9753k    0     0   21 2112k      0  2211k  0:00:04 --:--:--  0:00:04 2209k"
     ]
    },
    {
     "name": "stdout",
     "output_type": "stream",
     "text": [
      "{'status': 'OK', 'data': {'files': [{'description': '', 'label': 'r5_1-all-2024.csv.gz', 'restricted': False, 'version': 1, 'datasetVersionId': 424622, 'dataFile': {'id': 10396567, 'persistentId': '', 'filename': 'r5_1-all-2024.csv.gz', 'contentType': 'application/gzip', 'friendlyType': 'Gzip Archive', 'filesize': 9987364, 'description': '', 'storageIdentifier': 's3://dvn-cloud:190d2aa5155-612e353d773b', 'rootDataFileId': -1, 'md5': 'fb62b08826b07bffc086e6b2846f679b', 'checksum': {'type': 'MD5', 'value': 'fb62b08826b07bffc086e6b2846f679b'}, 'tabularData': False, 'creationDate': '2024-07-20', 'fileAccessRequest': True}}]}}\n"
     ]
    },
    {
     "name": "stderr",
     "output_type": "stream",
     "text": [
      "100 9754k  100   584  100 9753k    220  3688k  0:00:02  0:00:02 --:--:-- 3689k\n"
     ]
    }
   ],
   "source": [
    "for fn in sorted(glob('../output/r5_1-all-20*.csv.gz')):\n",
    "    print(fn)\n",
    "    resp = api.upload_file(doi, fn)\n",
    "    print(resp)"
   ]
  },
  {
   "cell_type": "code",
   "execution_count": 14,
   "id": "913a61ed-104b-4c0e-ad9b-4bb69db0be14",
   "metadata": {},
   "outputs": [
    {
     "name": "stderr",
     "output_type": "stream",
     "text": [
      "  % Total    % Received % Xferd  Average Speed   Time    Time     Time  Current\n",
      "                                 Dload  Upload   Total   Spent    Left  Speed\n",
      "  0     0    0     0    0     0      0      0 --:--:-- --:--:-- --:--:--     0"
     ]
    },
    {
     "name": "stdout",
     "output_type": "stream",
     "text": [
      "../output/r5_2-all-2009.csv.gz\n"
     ]
    },
    {
     "name": "stderr",
     "output_type": "stream",
     "text": [
      "100 2338k  100   584  100 2338k    290  1163k  0:00:02  0:00:02 --:--:-- 1166k\n",
      "  % Total    % Received % Xferd  Average Speed   Time    Time     Time  Current\n",
      "                                 Dload  Upload   Total   Spent    Left  Speed\n",
      "  0     0    0     0    0     0      0      0 --:--:-- --:--:-- --:--:--     0"
     ]
    },
    {
     "name": "stdout",
     "output_type": "stream",
     "text": [
      "{'status': 'OK', 'data': {'files': [{'description': '', 'label': 'r5_2-all-2009.csv.gz', 'restricted': False, 'version': 1, 'datasetVersionId': 424622, 'dataFile': {'id': 10396568, 'persistentId': '', 'filename': 'r5_2-all-2009.csv.gz', 'contentType': 'application/gzip', 'friendlyType': 'Gzip Archive', 'filesize': 2393929, 'description': '', 'storageIdentifier': 's3://dvn-cloud:190d2aa5a39-eb18558b7eff', 'rootDataFileId': -1, 'md5': 'b852b5e78a1e5845e166367c494549fa', 'checksum': {'type': 'MD5', 'value': 'b852b5e78a1e5845e166367c494549fa'}, 'tabularData': False, 'creationDate': '2024-07-20', 'fileAccessRequest': True}}]}}\n",
      "../output/r5_2-all-2010.csv.gz\n"
     ]
    },
    {
     "name": "stderr",
     "output_type": "stream",
     "text": [
      "100 20.8M  100   585  100 20.8M    150  5510k  0:00:03  0:00:03 --:--:-- 5509k\n",
      "  % Total    % Received % Xferd  Average Speed   Time    Time     Time  Current\n",
      "                                 Dload  Upload   Total   Spent    Left  Speed\n",
      "  0     0    0     0    0     0      0      0 --:--:-- --:--:-- --:--:--     0"
     ]
    },
    {
     "name": "stdout",
     "output_type": "stream",
     "text": [
      "{'status': 'OK', 'data': {'files': [{'description': '', 'label': 'r5_2-all-2010.csv.gz', 'restricted': False, 'version': 1, 'datasetVersionId': 424622, 'dataFile': {'id': 10396569, 'persistentId': '', 'filename': 'r5_2-all-2010.csv.gz', 'contentType': 'application/gzip', 'friendlyType': 'Gzip Archive', 'filesize': 21884337, 'description': '', 'storageIdentifier': 's3://dvn-cloud:190d2aa6702-d61fa3e3aece', 'rootDataFileId': -1, 'md5': '39e5a71b682ff5ea7c53fdb03aee3123', 'checksum': {'type': 'MD5', 'value': '39e5a71b682ff5ea7c53fdb03aee3123'}, 'tabularData': False, 'creationDate': '2024-07-20', 'fileAccessRequest': True}}]}}\n",
      "../output/r5_2-all-2011.csv.gz\n"
     ]
    },
    {
     "name": "stderr",
     "output_type": "stream",
     "text": [
      "100 23.4M  100   585  100 23.4M    179  7384k  0:00:03  0:00:03 --:--:-- 7384k\n",
      "  % Total    % Received % Xferd  Average Speed   Time    Time     Time  Current\n",
      "                                 Dload  Upload   Total   Spent    Left  Speed\n",
      "  0     0    0     0    0     0      0      0 --:--:-- --:--:-- --:--:--     0"
     ]
    },
    {
     "name": "stdout",
     "output_type": "stream",
     "text": [
      "{'status': 'OK', 'data': {'files': [{'description': '', 'label': 'r5_2-all-2011.csv.gz', 'restricted': False, 'version': 1, 'datasetVersionId': 424622, 'dataFile': {'id': 10396570, 'persistentId': '', 'filename': 'r5_2-all-2011.csv.gz', 'contentType': 'application/gzip', 'friendlyType': 'Gzip Archive', 'filesize': 24598406, 'description': '', 'storageIdentifier': 's3://dvn-cloud:190d2aa750c-2b683ee1f65e', 'rootDataFileId': -1, 'md5': '15a304d9a9ea34d1b372b04f47753397', 'checksum': {'type': 'MD5', 'value': '15a304d9a9ea34d1b372b04f47753397'}, 'tabularData': False, 'creationDate': '2024-07-20', 'fileAccessRequest': True}}]}}\n",
      "../output/r5_2-all-2012.csv.gz\n"
     ]
    },
    {
     "name": "stderr",
     "output_type": "stream",
     "text": [
      "100 25.3M  100   585  100 25.3M    172  7679k  0:00:03  0:00:03 --:--:-- 7676k\n",
      "  % Total    % Received % Xferd  Average Speed   Time    Time     Time  Current\n",
      "                                 Dload  Upload   Total   Spent    Left  Speed\n",
      "  0     0    0     0    0     0      0      0 --:--:-- --:--:-- --:--:--     0"
     ]
    },
    {
     "name": "stdout",
     "output_type": "stream",
     "text": [
      "{'status': 'OK', 'data': {'files': [{'description': '', 'label': 'r5_2-all-2012.csv.gz', 'restricted': False, 'version': 1, 'datasetVersionId': 424622, 'dataFile': {'id': 10396571, 'persistentId': '', 'filename': 'r5_2-all-2012.csv.gz', 'contentType': 'application/gzip', 'friendlyType': 'Gzip Archive', 'filesize': 26593578, 'description': '', 'storageIdentifier': 's3://dvn-cloud:190d2aa8229-a093a37a9175', 'rootDataFileId': -1, 'md5': '8849c6886dd0ad353efa2f1d7745665c', 'checksum': {'type': 'MD5', 'value': '8849c6886dd0ad353efa2f1d7745665c'}, 'tabularData': False, 'creationDate': '2024-07-20', 'fileAccessRequest': True}}]}}\n",
      "../output/r5_2-all-2013.csv.gz\n"
     ]
    },
    {
     "name": "stderr",
     "output_type": "stream",
     "text": [
      "100 28.1M  100   585  100 28.1M    152  7515k  0:00:03  0:00:03 --:--:-- 7513k\n",
      "  % Total    % Received % Xferd  Average Speed   Time    Time     Time  Current\n",
      "                                 Dload  Upload   Total   Spent    Left  Speed\n",
      "  0     0    0     0    0     0      0      0 --:--:-- --:--:-- --:--:--     0"
     ]
    },
    {
     "name": "stdout",
     "output_type": "stream",
     "text": [
      "{'status': 'OK', 'data': {'files': [{'description': '', 'label': 'r5_2-all-2013.csv.gz', 'restricted': False, 'version': 1, 'datasetVersionId': 424622, 'dataFile': {'id': 10396572, 'persistentId': '', 'filename': 'r5_2-all-2013.csv.gz', 'contentType': 'application/gzip', 'friendlyType': 'Gzip Archive', 'filesize': 29559925, 'description': '', 'storageIdentifier': 's3://dvn-cloud:190d2aa90b1-d886eee09a28', 'rootDataFileId': -1, 'md5': 'f50da97a9cfeca6bf204cede3258386b', 'checksum': {'type': 'MD5', 'value': 'f50da97a9cfeca6bf204cede3258386b'}, 'tabularData': False, 'creationDate': '2024-07-20', 'fileAccessRequest': True}}]}}\n",
      "../output/r5_2-all-2014.csv.gz\n"
     ]
    },
    {
     "name": "stderr",
     "output_type": "stream",
     "text": [
      "100 33.9M  100   585  100 33.9M    151  9012k  0:00:03  0:00:03 --:--:-- 9010k\n",
      "  % Total    % Received % Xferd  Average Speed   Time    Time     Time  Current\n",
      "                                 Dload  Upload   Total   Spent    Left  Speed\n",
      "  0     0    0     0    0     0      0      0 --:--:-- --:--:-- --:--:--     0"
     ]
    },
    {
     "name": "stdout",
     "output_type": "stream",
     "text": [
      "{'status': 'OK', 'data': {'files': [{'description': '', 'label': 'r5_2-all-2014.csv.gz', 'restricted': False, 'version': 1, 'datasetVersionId': 424622, 'dataFile': {'id': 10396573, 'persistentId': '', 'filename': 'r5_2-all-2014.csv.gz', 'contentType': 'application/gzip', 'friendlyType': 'Gzip Archive', 'filesize': 35642984, 'description': '', 'storageIdentifier': 's3://dvn-cloud:190d2aa9fe1-26a520dd6a99', 'rootDataFileId': -1, 'md5': 'a579b6b838cc4d4a95d422064968f785', 'checksum': {'type': 'MD5', 'value': 'a579b6b838cc4d4a95d422064968f785'}, 'tabularData': False, 'creationDate': '2024-07-20', 'fileAccessRequest': True}}]}}\n",
      "../output/r5_2-all-2015.csv.gz\n"
     ]
    },
    {
     "name": "stderr",
     "output_type": "stream",
     "text": [
      "100 33.6M  100   585  100 33.6M    130  7670k  0:00:04  0:00:04 --:--:-- 7670k\n",
      "  % Total    % Received % Xferd  Average Speed   Time    Time     Time  Current\n",
      "                                 Dload  Upload   Total   Spent    Left  Speed\n",
      "  0     0    0     0    0     0      0      0 --:--:-- --:--:-- --:--:--     0"
     ]
    },
    {
     "name": "stdout",
     "output_type": "stream",
     "text": [
      "{'status': 'OK', 'data': {'files': [{'description': '', 'label': 'r5_2-all-2015.csv.gz', 'restricted': False, 'version': 1, 'datasetVersionId': 424622, 'dataFile': {'id': 10396574, 'persistentId': '', 'filename': 'r5_2-all-2015.csv.gz', 'contentType': 'application/gzip', 'friendlyType': 'Gzip Archive', 'filesize': 35321234, 'description': '', 'storageIdentifier': 's3://dvn-cloud:190d2aab0ab-12c971aebae7', 'rootDataFileId': -1, 'md5': 'b0005a9ae013e7bc530d46fd59661f4a', 'checksum': {'type': 'MD5', 'value': 'b0005a9ae013e7bc530d46fd59661f4a'}, 'tabularData': False, 'creationDate': '2024-07-20', 'fileAccessRequest': True}}]}}\n",
      "../output/r5_2-all-2016.csv.gz\n"
     ]
    },
    {
     "name": "stderr",
     "output_type": "stream",
     "text": [
      "100 33.6M  100   585  100 33.6M     16   946k  0:00:36  0:00:36 --:--:--  332k\n",
      "  % Total    % Received % Xferd  Average Speed   Time    Time     Time  Current\n",
      "                                 Dload  Upload   Total   Spent    Left  Speed\n",
      "  0     0    0     0    0     0      0      0 --:--:-- --:--:-- --:--:--     0"
     ]
    },
    {
     "name": "stdout",
     "output_type": "stream",
     "text": [
      "{'status': 'OK', 'data': {'files': [{'description': '', 'label': 'r5_2-all-2016.csv.gz', 'restricted': False, 'version': 1, 'datasetVersionId': 424622, 'dataFile': {'id': 10396575, 'persistentId': '', 'filename': 'r5_2-all-2016.csv.gz', 'contentType': 'application/gzip', 'friendlyType': 'Gzip Archive', 'filesize': 35266077, 'description': '', 'storageIdentifier': 's3://dvn-cloud:190d2ab3f22-ab40f169a95b', 'rootDataFileId': -1, 'md5': '77bf75b250aab7930bf0fad28512e9c6', 'checksum': {'type': 'MD5', 'value': '77bf75b250aab7930bf0fad28512e9c6'}, 'tabularData': False, 'creationDate': '2024-07-20', 'fileAccessRequest': True}}]}}\n",
      "../output/r5_2-all-2017.csv.gz\n"
     ]
    },
    {
     "name": "stderr",
     "output_type": "stream",
     "text": [
      "100 29.9M  100   585  100 29.9M     12   676k  0:00:48  0:00:45  0:00:03  472k\n",
      "  % Total    % Received % Xferd  Average Speed   Time    Time     Time  Current\n",
      "                                 Dload  Upload   Total   Spent    Left  Speed\n",
      "  0     0    0     0    0     0      0      0 --:--:-- --:--:-- --:--:--     0"
     ]
    },
    {
     "name": "stdout",
     "output_type": "stream",
     "text": [
      "{'status': 'OK', 'data': {'files': [{'description': '', 'label': 'r5_2-all-2017.csv.gz', 'restricted': False, 'version': 1, 'datasetVersionId': 424622, 'dataFile': {'id': 10396576, 'persistentId': '', 'filename': 'r5_2-all-2017.csv.gz', 'contentType': 'application/gzip', 'friendlyType': 'Gzip Archive', 'filesize': 31414232, 'description': '', 'storageIdentifier': 's3://dvn-cloud:190d2abf09d-751c587dc55f', 'rootDataFileId': -1, 'md5': '8ec2a738fdbe84f7a39d8f4c160b7145', 'checksum': {'type': 'MD5', 'value': '8ec2a738fdbe84f7a39d8f4c160b7145'}, 'tabularData': False, 'creationDate': '2024-07-20', 'fileAccessRequest': True}}]}}\n",
      "../output/r5_2-all-2018.csv.gz\n"
     ]
    },
    {
     "name": "stderr",
     "output_type": "stream",
     "text": [
      "100 31.4M  100   585  100 31.4M    153  8452k  0:00:03  0:00:03 --:--:-- 8450k\n",
      "  % Total    % Received % Xferd  Average Speed   Time    Time     Time  Current\n",
      "                                 Dload  Upload   Total   Spent    Left  Speed\n",
      "  0     0    0     0    0     0      0      0 --:--:-- --:--:-- --:--:--     0"
     ]
    },
    {
     "name": "stdout",
     "output_type": "stream",
     "text": [
      "{'status': 'OK', 'data': {'files': [{'description': '', 'label': 'r5_2-all-2018.csv.gz', 'restricted': False, 'version': 1, 'datasetVersionId': 424622, 'dataFile': {'id': 10396577, 'persistentId': '', 'filename': 'r5_2-all-2018.csv.gz', 'contentType': 'application/gzip', 'friendlyType': 'Gzip Archive', 'filesize': 32983677, 'description': '', 'storageIdentifier': 's3://dvn-cloud:190d2ac0049-1d72e5921737', 'rootDataFileId': -1, 'md5': 'c2cc8fff26cc946cde02ca0a0d284a77', 'checksum': {'type': 'MD5', 'value': 'c2cc8fff26cc946cde02ca0a0d284a77'}, 'tabularData': False, 'creationDate': '2024-07-20', 'fileAccessRequest': True}}]}}\n",
      "../output/r5_2-all-2019.csv.gz\n"
     ]
    },
    {
     "name": "stderr",
     "output_type": "stream",
     "text": [
      "100 33.8M  100   585  100 33.8M    141  8392k  0:00:04  0:00:04 --:--:-- 8392k\n",
      "  % Total    % Received % Xferd  Average Speed   Time    Time     Time  Current\n",
      "                                 Dload  Upload   Total   Spent    Left  Speed\n",
      "  0     0    0     0    0     0      0      0 --:--:-- --:--:-- --:--:--     0"
     ]
    },
    {
     "name": "stdout",
     "output_type": "stream",
     "text": [
      "{'status': 'OK', 'data': {'files': [{'description': '', 'label': 'r5_2-all-2019.csv.gz', 'restricted': False, 'version': 1, 'datasetVersionId': 424622, 'dataFile': {'id': 10396578, 'persistentId': '', 'filename': 'r5_2-all-2019.csv.gz', 'contentType': 'application/gzip', 'friendlyType': 'Gzip Archive', 'filesize': 35493430, 'description': '', 'storageIdentifier': 's3://dvn-cloud:190d2ac114a-e8f7f30a986c', 'rootDataFileId': -1, 'md5': '7fd15aad9ea677df455a514b884ae0cc', 'checksum': {'type': 'MD5', 'value': '7fd15aad9ea677df455a514b884ae0cc'}, 'tabularData': False, 'creationDate': '2024-07-20', 'fileAccessRequest': True}}]}}\n",
      "../output/r5_2-all-2020.csv.gz\n"
     ]
    },
    {
     "name": "stderr",
     "output_type": "stream",
     "text": [
      "100 31.9M  100   585  100 31.9M    157  8774k  0:00:03  0:00:03 --:--:-- 8772k\n",
      "  % Total    % Received % Xferd  Average Speed   Time    Time     Time  Current\n",
      "                                 Dload  Upload   Total   Spent    Left  Speed\n",
      "  0     0    0     0    0     0      0      0 --:--:-- --:--:-- --:--:--     0"
     ]
    },
    {
     "name": "stdout",
     "output_type": "stream",
     "text": [
      "{'status': 'OK', 'data': {'files': [{'description': '', 'label': 'r5_2-all-2020.csv.gz', 'restricted': False, 'version': 1, 'datasetVersionId': 424622, 'dataFile': {'id': 10396579, 'persistentId': '', 'filename': 'r5_2-all-2020.csv.gz', 'contentType': 'application/gzip', 'friendlyType': 'Gzip Archive', 'filesize': 33452770, 'description': '', 'storageIdentifier': 's3://dvn-cloud:190d2ac1fd6-37939807577c', 'rootDataFileId': -1, 'md5': '504c548003936199469fcc976b93635c', 'checksum': {'type': 'MD5', 'value': '504c548003936199469fcc976b93635c'}, 'tabularData': False, 'creationDate': '2024-07-20', 'fileAccessRequest': True}}]}}\n",
      "../output/r5_2-all-2021.csv.gz\n"
     ]
    },
    {
     "name": "stderr",
     "output_type": "stream",
     "text": [
      "100 33.3M  100   585  100 33.3M    140  8191k  0:00:04  0:00:04 --:--:-- 8194k\n",
      "  % Total    % Received % Xferd  Average Speed   Time    Time     Time  Current\n",
      "                                 Dload  Upload   Total   Spent    Left  Speed\n",
      "  0     0    0     0    0     0      0      0 --:--:-- --:--:-- --:--:--     0"
     ]
    },
    {
     "name": "stdout",
     "output_type": "stream",
     "text": [
      "{'status': 'OK', 'data': {'files': [{'description': '', 'label': 'r5_2-all-2021.csv.gz', 'restricted': False, 'version': 1, 'datasetVersionId': 424622, 'dataFile': {'id': 10396580, 'persistentId': '', 'filename': 'r5_2-all-2021.csv.gz', 'contentType': 'application/gzip', 'friendlyType': 'Gzip Archive', 'filesize': 34954800, 'description': '', 'storageIdentifier': 's3://dvn-cloud:190d2ac2f29-c4946e6a25e9', 'rootDataFileId': -1, 'md5': 'e7ef1ee71eae2273d05a41a7c8ac6029', 'checksum': {'type': 'MD5', 'value': 'e7ef1ee71eae2273d05a41a7c8ac6029'}, 'tabularData': False, 'creationDate': '2024-07-20', 'fileAccessRequest': True}}]}}\n",
      "../output/r5_2-all-2022.csv.gz\n"
     ]
    },
    {
     "name": "stderr",
     "output_type": "stream",
     "text": [
      "100 31.3M  100   585  100 31.3M    139  7621k  0:00:04  0:00:04 --:--:-- 7623k\n",
      "  % Total    % Received % Xferd  Average Speed   Time    Time     Time  Current\n",
      "                                 Dload  Upload   Total   Spent    Left  Speed\n",
      "  0     0    0     0    0     0      0      0 --:--:-- --:--:-- --:--:--     0"
     ]
    },
    {
     "name": "stdout",
     "output_type": "stream",
     "text": [
      "{'status': 'OK', 'data': {'files': [{'description': '', 'label': 'r5_2-all-2022.csv.gz', 'restricted': False, 'version': 1, 'datasetVersionId': 424622, 'dataFile': {'id': 10396581, 'persistentId': '', 'filename': 'r5_2-all-2022.csv.gz', 'contentType': 'application/gzip', 'friendlyType': 'Gzip Archive', 'filesize': 32826600, 'description': '', 'storageIdentifier': 's3://dvn-cloud:190d2ac3fed-5813272454a7', 'rootDataFileId': -1, 'md5': 'acb65ccb4b5877ce3550a5658e995984', 'checksum': {'type': 'MD5', 'value': 'acb65ccb4b5877ce3550a5658e995984'}, 'tabularData': False, 'creationDate': '2024-07-20', 'fileAccessRequest': True}}]}}\n",
      "../output/r5_2-all-2023.csv.gz\n"
     ]
    },
    {
     "name": "stderr",
     "output_type": "stream",
     "text": [
      "100 26.2M  100   585  100 26.2M    151  6988k  0:00:03  0:00:03 --:--:-- 6987k\n",
      "  % Total    % Received % Xferd  Average Speed   Time    Time     Time  Current\n",
      "                                 Dload  Upload   Total   Spent    Left  Speed\n",
      "  0     0    0     0    0     0      0      0 --:--:-- --:--:-- --:--:--     0"
     ]
    },
    {
     "name": "stdout",
     "output_type": "stream",
     "text": [
      "{'status': 'OK', 'data': {'files': [{'description': '', 'label': 'r5_2-all-2023.csv.gz', 'restricted': False, 'version': 1, 'datasetVersionId': 424622, 'dataFile': {'id': 10396582, 'persistentId': '', 'filename': 'r5_2-all-2023.csv.gz', 'contentType': 'application/gzip', 'friendlyType': 'Gzip Archive', 'filesize': 27559160, 'description': '', 'storageIdentifier': 's3://dvn-cloud:190d2ac4eb0-61c4c88f8dc6', 'rootDataFileId': -1, 'md5': '917611efe1f335fd298453f095c5e5e6', 'checksum': {'type': 'MD5', 'value': '917611efe1f335fd298453f095c5e5e6'}, 'tabularData': False, 'creationDate': '2024-07-20', 'fileAccessRequest': True}}]}}\n",
      "../output/r5_2-all-2024.csv.gz\n"
     ]
    },
    {
     "name": "stderr",
     "output_type": "stream",
     "text": [
      "100 29.5M    0     0  100 29.5M      0  9147k  0:00:03  0:00:03 --:--:-- 9147k"
     ]
    },
    {
     "name": "stdout",
     "output_type": "stream",
     "text": [
      "{'status': 'OK', 'data': {'files': [{'description': '', 'label': 'r5_2-all-2024.csv.gz', 'restricted': False, 'version': 1, 'datasetVersionId': 424622, 'dataFile': {'id': 10396583, 'persistentId': '', 'filename': 'r5_2-all-2024.csv.gz', 'contentType': 'application/gzip', 'friendlyType': 'Gzip Archive', 'filesize': 30985615, 'description': '', 'storageIdentifier': 's3://dvn-cloud:190d2ac5e35-9d68517de774', 'rootDataFileId': -1, 'md5': 'a98e866d566f4314d93c8fcb83ab4b2a', 'checksum': {'type': 'MD5', 'value': 'a98e866d566f4314d93c8fcb83ab4b2a'}, 'tabularData': False, 'creationDate': '2024-07-20', 'fileAccessRequest': True}}]}}\n"
     ]
    },
    {
     "name": "stderr",
     "output_type": "stream",
     "text": [
      "100 29.5M  100   585  100 29.5M    158  8213k  0:00:03  0:00:03 --:--:-- 8213k\n"
     ]
    }
   ],
   "source": [
    "for fn in sorted(glob('../output/r5_2-all-20*.csv.gz')):\n",
    "    print(fn)\n",
    "    resp = api.upload_file(doi, fn)\n",
    "    print(resp)"
   ]
  },
  {
   "cell_type": "code",
   "execution_count": 15,
   "id": "6ecce8b6-057a-4ba0-8b9f-1504d271afe2",
   "metadata": {},
   "outputs": [
    {
     "name": "stderr",
     "output_type": "stream",
     "text": [
      "  % Total    % Received % Xferd  Average Speed   Time    Time     Time  Current\n",
      "                                 Dload  Upload   Total   Spent    Left  Speed\n",
      "  0     0    0     0    0     0      0      0 --:--:-- --:--:-- --:--:--     0"
     ]
    },
    {
     "name": "stdout",
     "output_type": "stream",
     "text": [
      "../output/r5_3-all-2009.csv.gz\n"
     ]
    },
    {
     "name": "stderr",
     "output_type": "stream",
     "text": [
      "100  1078  100   580  100   498    349    300  0:00:01  0:00:01 --:--:--   649\n",
      "  % Total    % Received % Xferd  Average Speed   Time    Time     Time  Current\n",
      "                                 Dload  Upload   Total   Spent    Left  Speed\n",
      "  0     0    0     0    0     0      0      0 --:--:-- --:--:-- --:--:--     0"
     ]
    },
    {
     "name": "stdout",
     "output_type": "stream",
     "text": [
      "{'status': 'OK', 'data': {'files': [{'description': '', 'label': 'r5_3-all-2009.csv.gz', 'restricted': False, 'version': 1, 'datasetVersionId': 424622, 'dataFile': {'id': 10396584, 'persistentId': '', 'filename': 'r5_3-all-2009.csv.gz', 'contentType': 'application/gzip', 'friendlyType': 'Gzip Archive', 'filesize': 286, 'description': '', 'storageIdentifier': 's3://dvn-cloud:190d2ac65cd-345e83e595fc', 'rootDataFileId': -1, 'md5': '06227fb1e9bfacf96e7855aad11ea889', 'checksum': {'type': 'MD5', 'value': '06227fb1e9bfacf96e7855aad11ea889'}, 'tabularData': False, 'creationDate': '2024-07-20', 'fileAccessRequest': True}}]}}\n",
      "../output/r5_3-all-2010.csv.gz\n"
     ]
    },
    {
     "name": "stderr",
     "output_type": "stream",
     "text": [
      "100  1078  100   580  100   498    425    365  0:00:01  0:00:01 --:--:--   790\n",
      "  % Total    % Received % Xferd  Average Speed   Time    Time     Time  Current\n",
      "                                 Dload  Upload   Total   Spent    Left  Speed\n",
      "  0     0    0     0    0     0      0      0 --:--:-- --:--:-- --:--:--     0"
     ]
    },
    {
     "name": "stdout",
     "output_type": "stream",
     "text": [
      "{'status': 'OK', 'data': {'files': [{'description': '', 'label': 'r5_3-all-2010.csv.gz', 'restricted': False, 'version': 1, 'datasetVersionId': 424622, 'dataFile': {'id': 10396585, 'persistentId': '', 'filename': 'r5_3-all-2010.csv.gz', 'contentType': 'application/gzip', 'friendlyType': 'Gzip Archive', 'filesize': 286, 'description': '', 'storageIdentifier': 's3://dvn-cloud:190d2ac6bf8-a9294cc996c2', 'rootDataFileId': -1, 'md5': 'caf59e83c497372330ed3ddc2c59457a', 'checksum': {'type': 'MD5', 'value': 'caf59e83c497372330ed3ddc2c59457a'}, 'tabularData': False, 'creationDate': '2024-07-20', 'fileAccessRequest': True}}]}}\n",
      "../output/r5_3-all-2011.csv.gz\n"
     ]
    },
    {
     "name": "stderr",
     "output_type": "stream",
     "text": [
      "100  1078  100   580  100   498    413    354  0:00:01  0:00:01 --:--:--   767\n",
      "  % Total    % Received % Xferd  Average Speed   Time    Time     Time  Current\n",
      "                                 Dload  Upload   Total   Spent    Left  Speed\n",
      "  0     0    0     0    0     0      0      0 --:--:-- --:--:-- --:--:--     0"
     ]
    },
    {
     "name": "stdout",
     "output_type": "stream",
     "text": [
      "{'status': 'OK', 'data': {'files': [{'description': '', 'label': 'r5_3-all-2011.csv.gz', 'restricted': False, 'version': 1, 'datasetVersionId': 424622, 'dataFile': {'id': 10396586, 'persistentId': '', 'filename': 'r5_3-all-2011.csv.gz', 'contentType': 'application/gzip', 'friendlyType': 'Gzip Archive', 'filesize': 286, 'description': '', 'storageIdentifier': 's3://dvn-cloud:190d2ac71aa-c01c01aac454', 'rootDataFileId': -1, 'md5': '9cd773890bfa017eb66c9302da2ec8ba', 'checksum': {'type': 'MD5', 'value': '9cd773890bfa017eb66c9302da2ec8ba'}, 'tabularData': False, 'creationDate': '2024-07-20', 'fileAccessRequest': True}}]}}\n",
      "../output/r5_3-all-2012.csv.gz\n"
     ]
    },
    {
     "name": "stderr",
     "output_type": "stream",
     "text": [
      "100 7109k  100   584  100 7108k    211  2579k  0:00:02  0:00:02 --:--:-- 2578k\n",
      "  % Total    % Received % Xferd  Average Speed   Time    Time     Time  Current\n",
      "                                 Dload  Upload   Total   Spent    Left  Speed\n",
      "  0     0    0     0    0     0      0      0 --:--:-- --:--:-- --:--:--     0"
     ]
    },
    {
     "name": "stdout",
     "output_type": "stream",
     "text": [
      "{'status': 'OK', 'data': {'files': [{'description': '', 'label': 'r5_3-all-2012.csv.gz', 'restricted': False, 'version': 1, 'datasetVersionId': 424622, 'dataFile': {'id': 10396587, 'persistentId': '', 'filename': 'r5_3-all-2012.csv.gz', 'contentType': 'application/gzip', 'friendlyType': 'Gzip Archive', 'filesize': 7279325, 'description': '', 'storageIdentifier': 's3://dvn-cloud:190d2ac7b34-c58392c2d4a0', 'rootDataFileId': -1, 'md5': '08dcf1df039ffcee41e4889b7ae565fe', 'checksum': {'type': 'MD5', 'value': '08dcf1df039ffcee41e4889b7ae565fe'}, 'tabularData': False, 'creationDate': '2024-07-20', 'fileAccessRequest': True}}]}}\n",
      "../output/r5_3-all-2013.csv.gz\n"
     ]
    },
    {
     "name": "stderr",
     "output_type": "stream",
     "text": [
      "100 6746k  100   584  100 6746k    204  2358k  0:00:02  0:00:02 --:--:-- 2359k\n",
      "  % Total    % Received % Xferd  Average Speed   Time    Time     Time  Current\n",
      "                                 Dload  Upload   Total   Spent    Left  Speed\n",
      "  0     0    0     0    0     0      0      0 --:--:-- --:--:-- --:--:--     0"
     ]
    },
    {
     "name": "stdout",
     "output_type": "stream",
     "text": [
      "{'status': 'OK', 'data': {'files': [{'description': '', 'label': 'r5_3-all-2013.csv.gz', 'restricted': False, 'version': 1, 'datasetVersionId': 424622, 'dataFile': {'id': 10396588, 'persistentId': '', 'filename': 'r5_3-all-2013.csv.gz', 'contentType': 'application/gzip', 'friendlyType': 'Gzip Archive', 'filesize': 6907939, 'description': '', 'storageIdentifier': 's3://dvn-cloud:190d2ac8625-d9056f194cb6', 'rootDataFileId': -1, 'md5': '56fdbfbd718d558550de5ef7c6d787be', 'checksum': {'type': 'MD5', 'value': '56fdbfbd718d558550de5ef7c6d787be'}, 'tabularData': False, 'creationDate': '2024-07-20', 'fileAccessRequest': True}}]}}\n",
      "../output/r5_3-all-2014.csv.gz\n"
     ]
    },
    {
     "name": "stderr",
     "output_type": "stream",
     "text": [
      "100 7505k  100   584  100 7504k    239  3078k  0:00:02  0:00:02 --:--:-- 3077k\n",
      "  % Total    % Received % Xferd  Average Speed   Time    Time     Time  Current\n",
      "                                 Dload  Upload   Total   Spent    Left  Speed\n",
      "  0     0    0     0    0     0      0      0 --:--:-- --:--:-- --:--:--     0"
     ]
    },
    {
     "name": "stdout",
     "output_type": "stream",
     "text": [
      "{'status': 'OK', 'data': {'files': [{'description': '', 'label': 'r5_3-all-2014.csv.gz', 'restricted': False, 'version': 1, 'datasetVersionId': 424622, 'dataFile': {'id': 10396589, 'persistentId': '', 'filename': 'r5_3-all-2014.csv.gz', 'contentType': 'application/gzip', 'friendlyType': 'Gzip Archive', 'filesize': 7684674, 'description': '', 'storageIdentifier': 's3://dvn-cloud:190d2ac9106-cda17d1a128f', 'rootDataFileId': -1, 'md5': 'b3ea16866b421d8b5820b5df7fc074fc', 'checksum': {'type': 'MD5', 'value': 'b3ea16866b421d8b5820b5df7fc074fc'}, 'tabularData': False, 'creationDate': '2024-07-20', 'fileAccessRequest': True}}]}}\n",
      "../output/r5_3-all-2015.csv.gz\n"
     ]
    },
    {
     "name": "stderr",
     "output_type": "stream",
     "text": [
      "100 8438k  100   584  100 8438k    203  2947k  0:00:02  0:00:02 --:--:-- 2947k\n",
      "  % Total    % Received % Xferd  Average Speed   Time    Time     Time  Current\n",
      "                                 Dload  Upload   Total   Spent    Left  Speed\n",
      "  0     0    0     0    0     0      0      0 --:--:-- --:--:-- --:--:--     0"
     ]
    },
    {
     "name": "stdout",
     "output_type": "stream",
     "text": [
      "{'status': 'OK', 'data': {'files': [{'description': '', 'label': 'r5_3-all-2015.csv.gz', 'restricted': False, 'version': 1, 'datasetVersionId': 424622, 'dataFile': {'id': 10396590, 'persistentId': '', 'filename': 'r5_3-all-2015.csv.gz', 'contentType': 'application/gzip', 'friendlyType': 'Gzip Archive', 'filesize': 8640402, 'description': '', 'storageIdentifier': 's3://dvn-cloud:190d2ac9b36-8b4bb13cf590', 'rootDataFileId': -1, 'md5': 'a8d2f5fc59620de63dc8d29107bef94d', 'checksum': {'type': 'MD5', 'value': 'a8d2f5fc59620de63dc8d29107bef94d'}, 'tabularData': False, 'creationDate': '2024-07-20', 'fileAccessRequest': True}}]}}\n",
      "../output/r5_3-all-2016.csv.gz\n"
     ]
    },
    {
     "name": "stderr",
     "output_type": "stream",
     "text": [
      "100  9.8M  100   585  100  9.8M    196  3377k  0:00:02  0:00:02 --:--:-- 3377k\n",
      "  % Total    % Received % Xferd  Average Speed   Time    Time     Time  Current\n",
      "                                 Dload  Upload   Total   Spent    Left  Speed\n",
      "  0     0    0     0    0     0      0      0 --:--:-- --:--:-- --:--:--     0"
     ]
    },
    {
     "name": "stdout",
     "output_type": "stream",
     "text": [
      "{'status': 'OK', 'data': {'files': [{'description': '', 'label': 'r5_3-all-2016.csv.gz', 'restricted': False, 'version': 1, 'datasetVersionId': 424622, 'dataFile': {'id': 10396591, 'persistentId': '', 'filename': 'r5_3-all-2016.csv.gz', 'contentType': 'application/gzip', 'friendlyType': 'Gzip Archive', 'filesize': 10298227, 'description': '', 'storageIdentifier': 's3://dvn-cloud:190d2aca716-ccedb627147c', 'rootDataFileId': -1, 'md5': '5cf2c5dfb8552cf258f47539c79c6bfa', 'checksum': {'type': 'MD5', 'value': '5cf2c5dfb8552cf258f47539c79c6bfa'}, 'tabularData': False, 'creationDate': '2024-07-20', 'fileAccessRequest': True}}]}}\n",
      "../output/r5_3-all-2017.csv.gz\n"
     ]
    },
    {
     "name": "stderr",
     "output_type": "stream",
     "text": [
      "100 10.0M  100   585  100 10.0M    202  3559k  0:00:02  0:00:02 --:--:-- 3559k\n",
      "  % Total    % Received % Xferd  Average Speed   Time    Time     Time  Current\n",
      "                                 Dload  Upload   Total   Spent    Left  Speed\n",
      "  0     0    0     0    0     0      0      0 --:--:-- --:--:-- --:--:--     0"
     ]
    },
    {
     "name": "stdout",
     "output_type": "stream",
     "text": [
      "{'status': 'OK', 'data': {'files': [{'description': '', 'label': 'r5_3-all-2017.csv.gz', 'restricted': False, 'version': 1, 'datasetVersionId': 424622, 'dataFile': {'id': 10396592, 'persistentId': '', 'filename': 'r5_3-all-2017.csv.gz', 'contentType': 'application/gzip', 'friendlyType': 'Gzip Archive', 'filesize': 10530358, 'description': '', 'storageIdentifier': 's3://dvn-cloud:190d2acb2ac-9dc76692ac7f', 'rootDataFileId': -1, 'md5': '4c2d5ebd74da459709e19957123627ba', 'checksum': {'type': 'MD5', 'value': '4c2d5ebd74da459709e19957123627ba'}, 'tabularData': False, 'creationDate': '2024-07-20', 'fileAccessRequest': True}}]}}\n",
      "../output/r5_3-all-2018.csv.gz\n"
     ]
    },
    {
     "name": "stderr",
     "output_type": "stream",
     "text": [
      "100 11.4M  100   585  100 11.4M    212  4247k  0:00:02  0:00:02 --:--:-- 4249k\n",
      "  % Total    % Received % Xferd  Average Speed   Time    Time     Time  Current\n",
      "                                 Dload  Upload   Total   Spent    Left  Speed\n",
      "  0     0    0     0    0     0      0      0 --:--:-- --:--:-- --:--:--     0"
     ]
    },
    {
     "name": "stdout",
     "output_type": "stream",
     "text": [
      "{'status': 'OK', 'data': {'files': [{'description': '', 'label': 'r5_3-all-2018.csv.gz', 'restricted': False, 'version': 1, 'datasetVersionId': 424622, 'dataFile': {'id': 10396593, 'persistentId': '', 'filename': 'r5_3-all-2018.csv.gz', 'contentType': 'application/gzip', 'friendlyType': 'Gzip Archive', 'filesize': 11999793, 'description': '', 'storageIdentifier': 's3://dvn-cloud:190d2acbe3d-fd63434f0a1c', 'rootDataFileId': -1, 'md5': '782203e6755527610a5958b5075b97f1', 'checksum': {'type': 'MD5', 'value': '782203e6755527610a5958b5075b97f1'}, 'tabularData': False, 'creationDate': '2024-07-20', 'fileAccessRequest': True}}]}}\n",
      "../output/r5_3-all-2019.csv.gz\n"
     ]
    },
    {
     "name": "stderr",
     "output_type": "stream",
     "text": [
      "100 10.2M  100   585  100 10.2M    207  3740k  0:00:02  0:00:02 --:--:-- 3740k\n",
      "  % Total    % Received % Xferd  Average Speed   Time    Time     Time  Current\n",
      "                                 Dload  Upload   Total   Spent    Left  Speed\n",
      "  0     0    0     0    0     0      0      0 --:--:-- --:--:-- --:--:--     0"
     ]
    },
    {
     "name": "stdout",
     "output_type": "stream",
     "text": [
      "{'status': 'OK', 'data': {'files': [{'description': '', 'label': 'r5_3-all-2019.csv.gz', 'restricted': False, 'version': 1, 'datasetVersionId': 424622, 'dataFile': {'id': 10396594, 'persistentId': '', 'filename': 'r5_3-all-2019.csv.gz', 'contentType': 'application/gzip', 'friendlyType': 'Gzip Archive', 'filesize': 10786473, 'description': '', 'storageIdentifier': 's3://dvn-cloud:190d2acc988-b51fb6746bb2', 'rootDataFileId': -1, 'md5': 'e223ca3e7a68b263a109d79c5fc64ae5', 'checksum': {'type': 'MD5', 'value': 'e223ca3e7a68b263a109d79c5fc64ae5'}, 'tabularData': False, 'creationDate': '2024-07-20', 'fileAccessRequest': True}}]}}\n",
      "../output/r5_3-all-2020.csv.gz\n"
     ]
    },
    {
     "name": "stderr",
     "output_type": "stream",
     "text": [
      "100 11.2M  100   585  100 11.2M    205  4036k  0:00:02  0:00:02 --:--:-- 4034k\n"
     ]
    },
    {
     "name": "stdout",
     "output_type": "stream",
     "text": [
      "{'status': 'OK', 'data': {'files': [{'description': '', 'label': 'r5_3-all-2020.csv.gz', 'restricted': False, 'version': 1, 'datasetVersionId': 424622, 'dataFile': {'id': 10396595, 'persistentId': '', 'filename': 'r5_3-all-2020.csv.gz', 'contentType': 'application/gzip', 'friendlyType': 'Gzip Archive', 'filesize': 11758051, 'description': '', 'storageIdentifier': 's3://dvn-cloud:190d2acd4d4-cbcca74e0f30', 'rootDataFileId': -1, 'md5': '8c8762cfa3a6c349105a8c20d105371c', 'checksum': {'type': 'MD5', 'value': '8c8762cfa3a6c349105a8c20d105371c'}, 'tabularData': False, 'creationDate': '2024-07-20', 'fileAccessRequest': True}}]}}\n",
      "../output/r5_3-all-2021.csv.gz\n"
     ]
    },
    {
     "name": "stderr",
     "output_type": "stream",
     "text": [
      "  % Total    % Received % Xferd  Average Speed   Time    Time     Time  Current\n",
      "                                 Dload  Upload   Total   Spent    Left  Speed\n",
      "100 11.1M  100   585  100 11.1M     82  1604k  0:00:07  0:00:07 --:--:-- 1224k\n",
      "  % Total    % Received % Xferd  Average Speed   Time    Time     Time  Current\n",
      "                                 Dload  Upload   Total   Spent    Left  Speed\n",
      "  0     0    0     0    0     0      0      0 --:--:-- --:--:-- --:--:--     0"
     ]
    },
    {
     "name": "stdout",
     "output_type": "stream",
     "text": [
      "{'status': 'OK', 'data': {'files': [{'description': '', 'label': 'r5_3-all-2021.csv.gz', 'restricted': False, 'version': 1, 'datasetVersionId': 424622, 'dataFile': {'id': 10396596, 'persistentId': '', 'filename': 'r5_3-all-2021.csv.gz', 'contentType': 'application/gzip', 'friendlyType': 'Gzip Archive', 'filesize': 11676838, 'description': '', 'storageIdentifier': 's3://dvn-cloud:190d2acef87-5bf00bed75e1', 'rootDataFileId': -1, 'md5': '3290865c32400cbcd9642e166c9abb4c', 'checksum': {'type': 'MD5', 'value': '3290865c32400cbcd9642e166c9abb4c'}, 'tabularData': False, 'creationDate': '2024-07-20', 'fileAccessRequest': True}}]}}\n",
      "../output/r5_3-all-2022.csv.gz\n"
     ]
    },
    {
     "name": "stderr",
     "output_type": "stream",
     "text": [
      "100 10.8M  100   585  100 10.8M    181  3453k  0:00:03  0:00:03 --:--:-- 3454k\n",
      "  % Total    % Received % Xferd  Average Speed   Time    Time     Time  Current\n",
      "                                 Dload  Upload   Total   Spent    Left  Speed\n",
      "  0     0    0     0    0     0      0      0 --:--:-- --:--:-- --:--:--     0"
     ]
    },
    {
     "name": "stdout",
     "output_type": "stream",
     "text": [
      "{'status': 'OK', 'data': {'files': [{'description': '', 'label': 'r5_3-all-2022.csv.gz', 'restricted': False, 'version': 1, 'datasetVersionId': 424622, 'dataFile': {'id': 10396597, 'persistentId': '', 'filename': 'r5_3-all-2022.csv.gz', 'contentType': 'application/gzip', 'friendlyType': 'Gzip Archive', 'filesize': 11391845, 'description': '', 'storageIdentifier': 's3://dvn-cloud:190d2acfc7e-2c980abbfc9d', 'rootDataFileId': -1, 'md5': '3741c3009c3b6ab11cad5af962587a05', 'checksum': {'type': 'MD5', 'value': '3741c3009c3b6ab11cad5af962587a05'}, 'tabularData': False, 'creationDate': '2024-07-20', 'fileAccessRequest': True}}]}}\n",
      "../output/r5_3-all-2023.csv.gz\n"
     ]
    },
    {
     "name": "stderr",
     "output_type": "stream",
     "text": [
      "100 10.7M  100   585  100 10.7M    215  4079k  0:00:02  0:00:02 --:--:-- 4080k\n",
      "  % Total    % Received % Xferd  Average Speed   Time    Time     Time  Current\n",
      "                                 Dload  Upload   Total   Spent    Left  Speed\n",
      "  0     0    0     0    0     0      0      0 --:--:-- --:--:-- --:--:--     0"
     ]
    },
    {
     "name": "stdout",
     "output_type": "stream",
     "text": [
      "{'status': 'OK', 'data': {'files': [{'description': '', 'label': 'r5_3-all-2023.csv.gz', 'restricted': False, 'version': 1, 'datasetVersionId': 424622, 'dataFile': {'id': 10396598, 'persistentId': '', 'filename': 'r5_3-all-2023.csv.gz', 'contentType': 'application/gzip', 'friendlyType': 'Gzip Archive', 'filesize': 11317466, 'description': '', 'storageIdentifier': 's3://dvn-cloud:190d2ad07d2-4f11e30c1e7a', 'rootDataFileId': -1, 'md5': 'c90c8ca1a5d765c8e2d9e4bd83d7ebe3', 'checksum': {'type': 'MD5', 'value': 'c90c8ca1a5d765c8e2d9e4bd83d7ebe3'}, 'tabularData': False, 'creationDate': '2024-07-20', 'fileAccessRequest': True}}]}}\n",
      "../output/r5_3-all-2024.csv.gz\n"
     ]
    },
    {
     "name": "stderr",
     "output_type": "stream",
     "text": [
      "100 8259k    0     0  100 8259k      0  3334k  0:00:02  0:00:02 --:--:-- 3333k"
     ]
    },
    {
     "name": "stdout",
     "output_type": "stream",
     "text": [
      "{'status': 'OK', 'data': {'files': [{'description': '', 'label': 'r5_3-all-2024.csv.gz', 'restricted': False, 'version': 1, 'datasetVersionId': 424622, 'dataFile': {'id': 10396599, 'persistentId': '', 'filename': 'r5_3-all-2024.csv.gz', 'contentType': 'application/gzip', 'friendlyType': 'Gzip Archive', 'filesize': 8458008, 'description': '', 'storageIdentifier': 's3://dvn-cloud:190d2ad1313-12984f1ddd80', 'rootDataFileId': -1, 'md5': '129b74f2a48d0365e6749386ebe046dc', 'checksum': {'type': 'MD5', 'value': '129b74f2a48d0365e6749386ebe046dc'}, 'tabularData': False, 'creationDate': '2024-07-20', 'fileAccessRequest': True}}]}}\n"
     ]
    },
    {
     "name": "stderr",
     "output_type": "stream",
     "text": [
      "100 8260k  100   584  100 8259k    192  2723k  0:00:03  0:00:03 --:--:-- 2723k\n"
     ]
    }
   ],
   "source": [
    "for fn in sorted(glob('../output/r5_3-all-20*.csv.gz')):\n",
    "    print(fn)\n",
    "    resp = api.upload_file(doi, fn)\n",
    "    print(resp)"
   ]
  },
  {
   "cell_type": "code",
   "execution_count": 16,
   "id": "e0b10448-f2f0-471a-90c2-9022d4175537",
   "metadata": {},
   "outputs": [
    {
     "name": "stderr",
     "output_type": "stream",
     "text": [
      "  % Total    % Received % Xferd  Average Speed   Time    Time     Time  Current\n",
      "                                 Dload  Upload   Total   Spent    Left  Speed\n",
      "  0     0    0     0    0     0      0      0 --:--:-- --:--:-- --:--:--     0"
     ]
    },
    {
     "name": "stdout",
     "output_type": "stream",
     "text": [
      "../output/r5_4-all-2009.csv.gz\n"
     ]
    },
    {
     "name": "stderr",
     "output_type": "stream",
     "text": [
      "100 6864k  100   584  100 6863k    230  2709k  0:00:02  0:00:02 --:--:-- 2708k\n"
     ]
    },
    {
     "name": "stdout",
     "output_type": "stream",
     "text": [
      "{'status': 'OK', 'data': {'files': [{'description': '', 'label': 'r5_4-all-2009.csv.gz', 'restricted': False, 'version': 1, 'datasetVersionId': 424622, 'dataFile': {'id': 10396600, 'persistentId': '', 'filename': 'r5_4-all-2009.csv.gz', 'contentType': 'application/gzip', 'friendlyType': 'Gzip Archive', 'filesize': 7028162, 'description': '', 'storageIdentifier': 's3://dvn-cloud:190d2ad1e16-5fde1bfc5369', 'rootDataFileId': -1, 'md5': '980751cfe3dfb6660e619cfe6175563d', 'checksum': {'type': 'MD5', 'value': '980751cfe3dfb6660e619cfe6175563d'}, 'tabularData': False, 'creationDate': '2024-07-20', 'fileAccessRequest': True}}]}}\n",
      "../output/r5_4-all-2010.csv.gz\n"
     ]
    },
    {
     "name": "stderr",
     "output_type": "stream",
     "text": [
      "  % Total    % Received % Xferd  Average Speed   Time    Time     Time  Current\n",
      "                                 Dload  Upload   Total   Spent    Left  Speed\n",
      "100 8304k  100   584  100 8304k    179  2550k  0:00:03  0:00:03 --:--:-- 2552k\n",
      "  % Total    % Received % Xferd  Average Speed   Time    Time     Time  Current\n",
      "                                 Dload  Upload   Total   Spent    Left  Speed\n",
      "  0     0    0     0    0     0      0      0 --:--:-- --:--:-- --:--:--     0"
     ]
    },
    {
     "name": "stdout",
     "output_type": "stream",
     "text": [
      "{'status': 'OK', 'data': {'files': [{'description': '', 'label': 'r5_4-all-2010.csv.gz', 'restricted': False, 'version': 1, 'datasetVersionId': 424622, 'dataFile': {'id': 10396601, 'persistentId': '', 'filename': 'r5_4-all-2010.csv.gz', 'contentType': 'application/gzip', 'friendlyType': 'Gzip Archive', 'filesize': 8503232, 'description': '', 'storageIdentifier': 's3://dvn-cloud:190d2ad2a30-b2e503c82024', 'rootDataFileId': -1, 'md5': '5bc2cebc55a9f3ebb80449e40516b6ba', 'checksum': {'type': 'MD5', 'value': '5bc2cebc55a9f3ebb80449e40516b6ba'}, 'tabularData': False, 'creationDate': '2024-07-20', 'fileAccessRequest': True}}]}}\n",
      "../output/r5_4-all-2011.csv.gz\n"
     ]
    },
    {
     "name": "stderr",
     "output_type": "stream",
     "text": [
      "100 8625k  100   584  100 8624k    189  2793k  0:00:03  0:00:03 --:--:-- 2793k\n",
      "  % Total    % Received % Xferd  Average Speed   Time    Time     Time  Current\n",
      "                                 Dload  Upload   Total   Spent    Left  Speed\n",
      "  0     0    0     0    0     0      0      0 --:--:-- --:--:-- --:--:--     0"
     ]
    },
    {
     "name": "stdout",
     "output_type": "stream",
     "text": [
      "{'status': 'OK', 'data': {'files': [{'description': '', 'label': 'r5_4-all-2011.csv.gz', 'restricted': False, 'version': 1, 'datasetVersionId': 424622, 'dataFile': {'id': 10396602, 'persistentId': '', 'filename': 'r5_4-all-2011.csv.gz', 'contentType': 'application/gzip', 'friendlyType': 'Gzip Archive', 'filesize': 8831624, 'description': '', 'storageIdentifier': 's3://dvn-cloud:190d2ad3687-ad602f1081e0', 'rootDataFileId': -1, 'md5': 'b924ab11da4da1d4f0f71fdb59fb2127', 'checksum': {'type': 'MD5', 'value': 'b924ab11da4da1d4f0f71fdb59fb2127'}, 'tabularData': False, 'creationDate': '2024-07-20', 'fileAccessRequest': True}}]}}\n",
      "../output/r5_4-all-2012.csv.gz\n"
     ]
    },
    {
     "name": "stderr",
     "output_type": "stream",
     "text": [
      "100 8547k  100   584  100 8547k    194  2845k  0:00:03  0:00:03 --:--:-- 2845k\n",
      "  % Total    % Received % Xferd  Average Speed   Time    Time     Time  Current\n",
      "                                 Dload  Upload   Total   Spent    Left  Speed\n",
      "  0     0    0     0    0     0      0      0 --:--:-- --:--:-- --:--:--     0"
     ]
    },
    {
     "name": "stdout",
     "output_type": "stream",
     "text": [
      "{'status': 'OK', 'data': {'files': [{'description': '', 'label': 'r5_4-all-2012.csv.gz', 'restricted': False, 'version': 1, 'datasetVersionId': 424622, 'dataFile': {'id': 10396603, 'persistentId': '', 'filename': 'r5_4-all-2012.csv.gz', 'contentType': 'application/gzip', 'friendlyType': 'Gzip Archive', 'filesize': 8751969, 'description': '', 'storageIdentifier': 's3://dvn-cloud:190d2ad426b-f988591bc927', 'rootDataFileId': -1, 'md5': '9071db0af853c020fe9eda5382365750', 'checksum': {'type': 'MD5', 'value': '9071db0af853c020fe9eda5382365750'}, 'tabularData': False, 'creationDate': '2024-07-20', 'fileAccessRequest': True}}]}}\n",
      "../output/r5_4-all-2013.csv.gz\n"
     ]
    },
    {
     "name": "stderr",
     "output_type": "stream",
     "text": [
      "100 8220k  100   584  100 8219k    204  2885k  0:00:02  0:00:02 --:--:-- 2884k\n",
      "  % Total    % Received % Xferd  Average Speed   Time    Time     Time  Current\n",
      "                                 Dload  Upload   Total   Spent    Left  Speed\n",
      "  0     0    0     0    0     0      0      0 --:--:-- --:--:-- --:--:--     0"
     ]
    },
    {
     "name": "stdout",
     "output_type": "stream",
     "text": [
      "{'status': 'OK', 'data': {'files': [{'description': '', 'label': 'r5_4-all-2013.csv.gz', 'restricted': False, 'version': 1, 'datasetVersionId': 424622, 'dataFile': {'id': 10396604, 'persistentId': '', 'filename': 'r5_4-all-2013.csv.gz', 'contentType': 'application/gzip', 'friendlyType': 'Gzip Archive', 'filesize': 8416897, 'description': '', 'storageIdentifier': 's3://dvn-cloud:190d2ad4e02-5a9de994447c', 'rootDataFileId': -1, 'md5': '98945ea855b7d45fc9e606aa16c054c2', 'checksum': {'type': 'MD5', 'value': '98945ea855b7d45fc9e606aa16c054c2'}, 'tabularData': False, 'creationDate': '2024-07-20', 'fileAccessRequest': True}}]}}\n",
      "../output/r5_4-all-2014.csv.gz\n"
     ]
    },
    {
     "name": "stderr",
     "output_type": "stream",
     "text": [
      "100 8595k  100   584  100 8594k     78  1155k  0:00:07  0:00:07 --:--:--  710k\n",
      "  % Total    % Received % Xferd  Average Speed   Time    Time     Time  Current\n",
      "                                 Dload  Upload   Total   Spent    Left  Speed\n",
      "  0     0    0     0    0     0      0      0 --:--:-- --:--:-- --:--:--     0"
     ]
    },
    {
     "name": "stdout",
     "output_type": "stream",
     "text": [
      "{'status': 'OK', 'data': {'files': [{'description': '', 'label': 'r5_4-all-2014.csv.gz', 'restricted': False, 'version': 1, 'datasetVersionId': 424622, 'dataFile': {'id': 10396605, 'persistentId': '', 'filename': 'r5_4-all-2014.csv.gz', 'contentType': 'application/gzip', 'friendlyType': 'Gzip Archive', 'filesize': 8800883, 'description': '', 'storageIdentifier': 's3://dvn-cloud:190d2ad6a86-dcc9a32a304d', 'rootDataFileId': -1, 'md5': '03c5f5a924b1e4072d65d92c6683e76a', 'checksum': {'type': 'MD5', 'value': '03c5f5a924b1e4072d65d92c6683e76a'}, 'tabularData': False, 'creationDate': '2024-07-20', 'fileAccessRequest': True}}]}}\n",
      "../output/r5_4-all-2015.csv.gz\n"
     ]
    },
    {
     "name": "stderr",
     "output_type": "stream",
     "text": [
      "100 9714k  100   584  100 9713k    200  3334k  0:00:02  0:00:02 --:--:-- 3333k\n",
      "  % Total    % Received % Xferd  Average Speed   Time    Time     Time  Current\n",
      "                                 Dload  Upload   Total   Spent    Left  Speed\n",
      "  0     0    0     0    0     0      0      0 --:--:-- --:--:-- --:--:--     0"
     ]
    },
    {
     "name": "stdout",
     "output_type": "stream",
     "text": [
      "{'status': 'OK', 'data': {'files': [{'description': '', 'label': 'r5_4-all-2015.csv.gz', 'restricted': False, 'version': 1, 'datasetVersionId': 424622, 'dataFile': {'id': 10396606, 'persistentId': '', 'filename': 'r5_4-all-2015.csv.gz', 'contentType': 'application/gzip', 'friendlyType': 'Gzip Archive', 'filesize': 9946383, 'description': '', 'storageIdentifier': 's3://dvn-cloud:190d2ad760c-facedd0d7572', 'rootDataFileId': -1, 'md5': 'ba7d68631f0d672628db7f8c3cdfbc6f', 'checksum': {'type': 'MD5', 'value': 'ba7d68631f0d672628db7f8c3cdfbc6f'}, 'tabularData': False, 'creationDate': '2024-07-20', 'fileAccessRequest': True}}]}}\n",
      "../output/r5_4-all-2016.csv.gz\n"
     ]
    },
    {
     "name": "stderr",
     "output_type": "stream",
     "text": [
      "100 9831k  100   585  100 9830k    221  3723k  0:00:02  0:00:02 --:--:-- 3723k\n"
     ]
    },
    {
     "name": "stdout",
     "output_type": "stream",
     "text": [
      "{'status': 'OK', 'data': {'files': [{'description': '', 'label': 'r5_4-all-2016.csv.gz', 'restricted': False, 'version': 1, 'datasetVersionId': 424622, 'dataFile': {'id': 10396607, 'persistentId': '', 'filename': 'r5_4-all-2016.csv.gz', 'contentType': 'application/gzip', 'friendlyType': 'Gzip Archive', 'filesize': 10066275, 'description': '', 'storageIdentifier': 's3://dvn-cloud:190d2ad817d-ca1134b9d019', 'rootDataFileId': -1, 'md5': 'd7f248b5be7c24a963268430e9b1afb6', 'checksum': {'type': 'MD5', 'value': 'd7f248b5be7c24a963268430e9b1afb6'}, 'tabularData': False, 'creationDate': '2024-07-20', 'fileAccessRequest': True}}]}}\n",
      "../output/r5_4-all-2017.csv.gz\n"
     ]
    },
    {
     "name": "stderr",
     "output_type": "stream",
     "text": [
      "  % Total    % Received % Xferd  Average Speed   Time    Time     Time  Current\n",
      "                                 Dload  Upload   Total   Spent    Left  Speed\n",
      "100 10.4M  100   585  100 10.4M    186  3414k  0:00:03  0:00:03 --:--:-- 3419k\n",
      "  % Total    % Received % Xferd  Average Speed   Time    Time     Time  Current\n",
      "                                 Dload  Upload   Total   Spent    Left  Speed\n",
      "  0     0    0     0    0     0      0      0 --:--:-- --:--:-- --:--:--     0"
     ]
    },
    {
     "name": "stdout",
     "output_type": "stream",
     "text": [
      "{'status': 'OK', 'data': {'files': [{'description': '', 'label': 'r5_4-all-2017.csv.gz', 'restricted': False, 'version': 1, 'datasetVersionId': 424622, 'dataFile': {'id': 10396608, 'persistentId': '', 'filename': 'r5_4-all-2017.csv.gz', 'contentType': 'application/gzip', 'friendlyType': 'Gzip Archive', 'filesize': 10964140, 'description': '', 'storageIdentifier': 's3://dvn-cloud:190d2ad8cae-92703e5d0f14', 'rootDataFileId': -1, 'md5': '955bde91956f250be5e2afc22eb41ad2', 'checksum': {'type': 'MD5', 'value': '955bde91956f250be5e2afc22eb41ad2'}, 'tabularData': False, 'creationDate': '2024-07-20', 'fileAccessRequest': True}}]}}\n",
      "../output/r5_4-all-2018.csv.gz\n"
     ]
    },
    {
     "name": "stderr",
     "output_type": "stream",
     "text": [
      "100 10.8M  100   585  100 10.8M     34   662k  0:00:17  0:00:16  0:00:01  612k\n",
      "  % Total    % Received % Xferd  Average Speed   Time    Time     Time  Current\n",
      "                                 Dload  Upload   Total   Spent    Left  Speed\n",
      "  0     0    0     0    0     0      0      0 --:--:-- --:--:-- --:--:--     0"
     ]
    },
    {
     "name": "stdout",
     "output_type": "stream",
     "text": [
      "{'status': 'OK', 'data': {'files': [{'description': '', 'label': 'r5_4-all-2018.csv.gz', 'restricted': False, 'version': 1, 'datasetVersionId': 424622, 'dataFile': {'id': 10396609, 'persistentId': '', 'filename': 'r5_4-all-2018.csv.gz', 'contentType': 'application/gzip', 'friendlyType': 'Gzip Archive', 'filesize': 11367932, 'description': '', 'storageIdentifier': 's3://dvn-cloud:190d2adcf14-c8320dd4e8cf', 'rootDataFileId': -1, 'md5': 'f32593e34a1f8cc8250131929d0946c3', 'checksum': {'type': 'MD5', 'value': 'f32593e34a1f8cc8250131929d0946c3'}, 'tabularData': False, 'creationDate': '2024-07-20', 'fileAccessRequest': True}}]}}\n",
      "../output/r5_4-all-2019.csv.gz\n"
     ]
    },
    {
     "name": "stderr",
     "output_type": "stream",
     "text": [
      "100 11.0M  100   585  100 11.0M    198  3822k  0:00:02  0:00:02 --:--:-- 3821k\n"
     ]
    },
    {
     "name": "stdout",
     "output_type": "stream",
     "text": [
      "{'status': 'OK', 'data': {'files': [{'description': '', 'label': 'r5_4-all-2019.csv.gz', 'restricted': False, 'version': 1, 'datasetVersionId': 424622, 'dataFile': {'id': 10396610, 'persistentId': '', 'filename': 'r5_4-all-2019.csv.gz', 'contentType': 'application/gzip', 'friendlyType': 'Gzip Archive', 'filesize': 11538560, 'description': '', 'storageIdentifier': 's3://dvn-cloud:190d2addb30-5890f5672310', 'rootDataFileId': -1, 'md5': 'aa7d03af76f0ce2030ce90ba87b14d91', 'checksum': {'type': 'MD5', 'value': 'aa7d03af76f0ce2030ce90ba87b14d91'}, 'tabularData': False, 'creationDate': '2024-07-20', 'fileAccessRequest': True}}]}}\n",
      "../output/r5_4-all-2020.csv.gz\n"
     ]
    },
    {
     "name": "stderr",
     "output_type": "stream",
     "text": [
      "  % Total    % Received % Xferd  Average Speed   Time    Time     Time  Current\n",
      "                                 Dload  Upload   Total   Spent    Left  Speed\n",
      "100 12.0M  100   585  100 12.0M    181  3840k  0:00:03  0:00:03 --:--:-- 3847k\n",
      "  % Total    % Received % Xferd  Average Speed   Time    Time     Time  Current\n",
      "                                 Dload  Upload   Total   Spent    Left  Speed\n",
      "  0     0    0     0    0     0      0      0 --:--:-- --:--:-- --:--:--     0"
     ]
    },
    {
     "name": "stdout",
     "output_type": "stream",
     "text": [
      "{'status': 'OK', 'data': {'files': [{'description': '', 'label': 'r5_4-all-2020.csv.gz', 'restricted': False, 'version': 1, 'datasetVersionId': 424622, 'dataFile': {'id': 10396611, 'persistentId': '', 'filename': 'r5_4-all-2020.csv.gz', 'contentType': 'application/gzip', 'friendlyType': 'Gzip Archive', 'filesize': 12650247, 'description': '', 'storageIdentifier': 's3://dvn-cloud:190d2ade6b6-00f10b4c8f4f', 'rootDataFileId': -1, 'md5': 'fc95896f0e383052f9227f1afbb3fd92', 'checksum': {'type': 'MD5', 'value': 'fc95896f0e383052f9227f1afbb3fd92'}, 'tabularData': False, 'creationDate': '2024-07-20', 'fileAccessRequest': True}}]}}\n",
      "../output/r5_4-all-2021.csv.gz\n"
     ]
    },
    {
     "name": "stderr",
     "output_type": "stream",
     "text": [
      "100 13.1M  100   585  100 13.1M    208  4818k  0:00:02  0:00:02 --:--:-- 4817k\n",
      "  % Total    % Received % Xferd  Average Speed   Time    Time     Time  Current\n",
      "                                 Dload  Upload   Total   Spent    Left  Speed\n",
      "  0     0    0     0    0     0      0      0 --:--:-- --:--:-- --:--:--     0"
     ]
    },
    {
     "name": "stdout",
     "output_type": "stream",
     "text": [
      "{'status': 'OK', 'data': {'files': [{'description': '', 'label': 'r5_4-all-2021.csv.gz', 'restricted': False, 'version': 1, 'datasetVersionId': 424622, 'dataFile': {'id': 10396612, 'persistentId': '', 'filename': 'r5_4-all-2021.csv.gz', 'contentType': 'application/gzip', 'friendlyType': 'Gzip Archive', 'filesize': 13831320, 'description': '', 'storageIdentifier': 's3://dvn-cloud:190d2adf2b9-b3317e450e6d', 'rootDataFileId': -1, 'md5': '777945481be9c1ce863bd2ba6e044a74', 'checksum': {'type': 'MD5', 'value': '777945481be9c1ce863bd2ba6e044a74'}, 'tabularData': False, 'creationDate': '2024-07-20', 'fileAccessRequest': True}}]}}\n",
      "../output/r5_4-all-2022.csv.gz\n"
     ]
    },
    {
     "name": "stderr",
     "output_type": "stream",
     "text": [
      "100 11.5M  100   585  100 11.5M     90  1833k  0:00:06  0:00:06 --:--:-- 2075k\n",
      "  % Total    % Received % Xferd  Average Speed   Time    Time     Time  Current\n",
      "                                 Dload  Upload   Total   Spent    Left  Speed\n",
      "  0     0    0     0    0     0      0      0 --:--:-- --:--:-- --:--:--     0"
     ]
    },
    {
     "name": "stdout",
     "output_type": "stream",
     "text": [
      "{'status': 'OK', 'data': {'files': [{'description': '', 'label': 'r5_4-all-2022.csv.gz', 'restricted': False, 'version': 1, 'datasetVersionId': 424622, 'dataFile': {'id': 10396613, 'persistentId': '', 'filename': 'r5_4-all-2022.csv.gz', 'contentType': 'application/gzip', 'friendlyType': 'Gzip Archive', 'filesize': 12140818, 'description': '', 'storageIdentifier': 's3://dvn-cloud:190d2ae0be5-3baaf5484e81', 'rootDataFileId': -1, 'md5': '97dc7bb67b96027d9fca6a0511599412', 'checksum': {'type': 'MD5', 'value': '97dc7bb67b96027d9fca6a0511599412'}, 'tabularData': False, 'creationDate': '2024-07-20', 'fileAccessRequest': True}}]}}\n",
      "../output/r5_4-all-2023.csv.gz\n"
     ]
    },
    {
     "name": "stderr",
     "output_type": "stream",
     "text": [
      "100  9.8M  100   585  100  9.8M    222  3843k  0:00:02  0:00:02 --:--:-- 3843k\n",
      "  % Total    % Received % Xferd  Average Speed   Time    Time     Time  Current\n",
      "                                 Dload  Upload   Total   Spent    Left  Speed\n",
      "  0     0    0     0    0     0      0      0 --:--:-- --:--:-- --:--:--     0"
     ]
    },
    {
     "name": "stdout",
     "output_type": "stream",
     "text": [
      "{'status': 'OK', 'data': {'files': [{'description': '', 'label': 'r5_4-all-2023.csv.gz', 'restricted': False, 'version': 1, 'datasetVersionId': 424622, 'dataFile': {'id': 10396614, 'persistentId': '', 'filename': 'r5_4-all-2023.csv.gz', 'contentType': 'application/gzip', 'friendlyType': 'Gzip Archive', 'filesize': 10334368, 'description': '', 'storageIdentifier': 's3://dvn-cloud:190d2ae16c6-942478f168f0', 'rootDataFileId': -1, 'md5': '2fa8a0e33059aebf61085ded74e86482', 'checksum': {'type': 'MD5', 'value': '2fa8a0e33059aebf61085ded74e86482'}, 'tabularData': False, 'creationDate': '2024-07-20', 'fileAccessRequest': True}}]}}\n",
      "../output/r5_4-all-2024.csv.gz\n"
     ]
    },
    {
     "name": "stderr",
     "output_type": "stream",
     "text": [
      "100 5716k    0     0  100 5716k      0  2479k  0:00:02  0:00:02 --:--:-- 2478k"
     ]
    },
    {
     "name": "stdout",
     "output_type": "stream",
     "text": [
      "{'status': 'OK', 'data': {'files': [{'description': '', 'label': 'r5_4-all-2024.csv.gz', 'restricted': False, 'version': 1, 'datasetVersionId': 424622, 'dataFile': {'id': 10396615, 'persistentId': '', 'filename': 'r5_4-all-2024.csv.gz', 'contentType': 'application/gzip', 'friendlyType': 'Gzip Archive', 'filesize': 5853755, 'description': '', 'storageIdentifier': 's3://dvn-cloud:190d2ae20e7-e97b12be5098', 'rootDataFileId': -1, 'md5': 'd2c010058d91d2ee39b82d4e1d03522c', 'checksum': {'type': 'MD5', 'value': 'd2c010058d91d2ee39b82d4e1d03522c'}, 'tabularData': False, 'creationDate': '2024-07-20', 'fileAccessRequest': True}}]}}\n"
     ]
    },
    {
     "name": "stderr",
     "output_type": "stream",
     "text": [
      "100 5717k  100   584  100 5716k    204  2004k  0:00:02  0:00:02 --:--:-- 2003k\n"
     ]
    }
   ],
   "source": [
    "for fn in sorted(glob('../output/r5_4-all-20*.csv.gz')):\n",
    "    print(fn)\n",
    "    resp = api.upload_file(doi, fn)\n",
    "    print(resp)"
   ]
  },
  {
   "cell_type": "code",
   "execution_count": 17,
   "id": "7bd4522e-4f16-49af-82c6-ecfb28f88003",
   "metadata": {},
   "outputs": [
    {
     "name": "stderr",
     "output_type": "stream",
     "text": [
      "  % Total    % Received % Xferd  Average Speed   Time    Time     Time  Current\n",
      "                                 Dload  Upload   Total   Spent    Left  Speed\n",
      "  0     0    0     0    0     0      0      0 --:--:-- --:--:-- --:--:--     0"
     ]
    },
    {
     "name": "stdout",
     "output_type": "stream",
     "text": [
      "../output/r5_5-all-2009.csv.gz\n"
     ]
    },
    {
     "name": "stderr",
     "output_type": "stream",
     "text": [
      "100 28576  100   582  100 27994    293  14131  0:00:01  0:00:01 --:--:-- 14417\n",
      "  % Total    % Received % Xferd  Average Speed   Time    Time     Time  Current\n",
      "                                 Dload  Upload   Total   Spent    Left  Speed\n",
      "  0     0    0     0    0     0      0      0 --:--:-- --:--:-- --:--:--     0"
     ]
    },
    {
     "name": "stdout",
     "output_type": "stream",
     "text": [
      "{'status': 'OK', 'data': {'files': [{'description': '', 'label': 'r5_5-all-2009.csv.gz', 'restricted': False, 'version': 1, 'datasetVersionId': 424622, 'dataFile': {'id': 10396616, 'persistentId': '', 'filename': 'r5_5-all-2009.csv.gz', 'contentType': 'application/gzip', 'friendlyType': 'Gzip Archive', 'filesize': 27782, 'description': '', 'storageIdentifier': 's3://dvn-cloud:190d2ae2978-b866bd8b6ac2', 'rootDataFileId': -1, 'md5': 'dbf9eafb110a0d8a67185bf26326ed1b', 'checksum': {'type': 'MD5', 'value': 'dbf9eafb110a0d8a67185bf26326ed1b'}, 'tabularData': False, 'creationDate': '2024-07-20', 'fileAccessRequest': True}}]}}\n",
      "../output/r5_5-all-2010.csv.gz\n"
     ]
    },
    {
     "name": "stderr",
     "output_type": "stream",
     "text": [
      "100 7151k  100   584  100 7151k    198  2431k  0:00:02  0:00:02 --:--:-- 2430k\n",
      "  % Total    % Received % Xferd  Average Speed   Time    Time     Time  Current\n",
      "                                 Dload  Upload   Total   Spent    Left  Speed\n",
      "  0     0    0     0    0     0      0      0 --:--:-- --:--:-- --:--:--     0"
     ]
    },
    {
     "name": "stdout",
     "output_type": "stream",
     "text": [
      "{'status': 'OK', 'data': {'files': [{'description': '', 'label': 'r5_5-all-2010.csv.gz', 'restricted': False, 'version': 1, 'datasetVersionId': 424622, 'dataFile': {'id': 10396617, 'persistentId': '', 'filename': 'r5_5-all-2010.csv.gz', 'contentType': 'application/gzip', 'friendlyType': 'Gzip Archive', 'filesize': 7322567, 'description': '', 'storageIdentifier': 's3://dvn-cloud:190d2ae3496-6d5c6ac9b965', 'rootDataFileId': -1, 'md5': '4db55550d844afd0a845882e92d80ae7', 'checksum': {'type': 'MD5', 'value': '4db55550d844afd0a845882e92d80ae7'}, 'tabularData': False, 'creationDate': '2024-07-20', 'fileAccessRequest': True}}]}}\n",
      "../output/r5_5-all-2011.csv.gz\n"
     ]
    },
    {
     "name": "stderr",
     "output_type": "stream",
     "text": [
      "100 7484k  100   584  100 7484k    198  2537k  0:00:02  0:00:02 --:--:-- 2538k\n",
      "  % Total    % Received % Xferd  Average Speed   Time    Time     Time  Current\n",
      "                                 Dload  Upload   Total   Spent    Left  Speed\n",
      "  0     0    0     0    0     0      0      0 --:--:-- --:--:-- --:--:--     0"
     ]
    },
    {
     "name": "stdout",
     "output_type": "stream",
     "text": [
      "{'status': 'OK', 'data': {'files': [{'description': '', 'label': 'r5_5-all-2011.csv.gz', 'restricted': False, 'version': 1, 'datasetVersionId': 424622, 'dataFile': {'id': 10396618, 'persistentId': '', 'filename': 'r5_5-all-2011.csv.gz', 'contentType': 'application/gzip', 'friendlyType': 'Gzip Archive', 'filesize': 7663548, 'description': '', 'storageIdentifier': 's3://dvn-cloud:190d2ae4035-cda5884f0142', 'rootDataFileId': -1, 'md5': '0e35beb2cc1e14ffc85c0d821e04a9e4', 'checksum': {'type': 'MD5', 'value': '0e35beb2cc1e14ffc85c0d821e04a9e4'}, 'tabularData': False, 'creationDate': '2024-07-20', 'fileAccessRequest': True}}]}}\n",
      "../output/r5_5-all-2012.csv.gz\n"
     ]
    },
    {
     "name": "stderr",
     "output_type": "stream",
     "text": [
      "100 7596k  100   584  100 7596k    213  2773k  0:00:02  0:00:02 --:--:-- 2772k\n"
     ]
    },
    {
     "name": "stdout",
     "output_type": "stream",
     "text": [
      "{'status': 'OK', 'data': {'files': [{'description': '', 'label': 'r5_5-all-2012.csv.gz', 'restricted': False, 'version': 1, 'datasetVersionId': 424622, 'dataFile': {'id': 10396619, 'persistentId': '', 'filename': 'r5_5-all-2012.csv.gz', 'contentType': 'application/gzip', 'friendlyType': 'Gzip Archive', 'filesize': 7778441, 'description': '', 'storageIdentifier': 's3://dvn-cloud:190d2ae4c21-297a5e6464a2', 'rootDataFileId': -1, 'md5': 'fbabd4fbaafefd4971e546467eee2515', 'checksum': {'type': 'MD5', 'value': 'fbabd4fbaafefd4971e546467eee2515'}, 'tabularData': False, 'creationDate': '2024-07-20', 'fileAccessRequest': True}}]}}\n",
      "../output/r5_5-all-2013.csv.gz\n"
     ]
    },
    {
     "name": "stderr",
     "output_type": "stream",
     "text": [
      "  % Total    % Received % Xferd  Average Speed   Time    Time     Time  Current\n",
      "                                 Dload  Upload   Total   Spent    Left  Speed\n",
      "100 7584k  100   584  100 7584k    226  2936k  0:00:02  0:00:02 --:--:-- 2935k\n",
      "  % Total    % Received % Xferd  Average Speed   Time    Time     Time  Current\n",
      "                                 Dload  Upload   Total   Spent    Left  Speed\n",
      "  0     0    0     0    0     0      0      0 --:--:-- --:--:-- --:--:--     0"
     ]
    },
    {
     "name": "stdout",
     "output_type": "stream",
     "text": [
      "{'status': 'OK', 'data': {'files': [{'description': '', 'label': 'r5_5-all-2013.csv.gz', 'restricted': False, 'version': 1, 'datasetVersionId': 424622, 'dataFile': {'id': 10396620, 'persistentId': '', 'filename': 'r5_5-all-2013.csv.gz', 'contentType': 'application/gzip', 'friendlyType': 'Gzip Archive', 'filesize': 7765835, 'description': '', 'storageIdentifier': 's3://dvn-cloud:190d2ae55f8-025dfff1122c', 'rootDataFileId': -1, 'md5': '511b0bf982937360dc8baeb4bf8facb6', 'checksum': {'type': 'MD5', 'value': '511b0bf982937360dc8baeb4bf8facb6'}, 'tabularData': False, 'creationDate': '2024-07-20', 'fileAccessRequest': True}}]}}\n",
      "../output/r5_5-all-2014.csv.gz\n"
     ]
    },
    {
     "name": "stderr",
     "output_type": "stream",
     "text": [
      "100 7868k  100   584  100 7868k    224  3019k  0:00:02  0:00:02 --:--:-- 3019k\n"
     ]
    },
    {
     "name": "stdout",
     "output_type": "stream",
     "text": [
      "{'status': 'OK', 'data': {'files': [{'description': '', 'label': 'r5_5-all-2014.csv.gz', 'restricted': False, 'version': 1, 'datasetVersionId': 424622, 'dataFile': {'id': 10396621, 'persistentId': '', 'filename': 'r5_5-all-2014.csv.gz', 'contentType': 'application/gzip', 'friendlyType': 'Gzip Archive', 'filesize': 8056935, 'description': '', 'storageIdentifier': 's3://dvn-cloud:190d2ae6073-8d8897d1ca93', 'rootDataFileId': -1, 'md5': '3a96d8ebe15564fd6455f2fcec2eb751', 'checksum': {'type': 'MD5', 'value': '3a96d8ebe15564fd6455f2fcec2eb751'}, 'tabularData': False, 'creationDate': '2024-07-20', 'fileAccessRequest': True}}]}}\n",
      "../output/r5_5-all-2015.csv.gz\n"
     ]
    },
    {
     "name": "stderr",
     "output_type": "stream",
     "text": [
      "  % Total    % Received % Xferd  Average Speed   Time    Time     Time  Current\n",
      "                                 Dload  Upload   Total   Spent    Left  Speed\n",
      "100 8181k  100   584  100 8180k    208  2914k  0:00:02  0:00:02 --:--:-- 2913k\n",
      "  % Total    % Received % Xferd  Average Speed   Time    Time     Time  Current\n",
      "                                 Dload  Upload   Total   Spent    Left  Speed\n",
      "  0     0    0     0    0     0      0      0 --:--:-- --:--:-- --:--:--     0"
     ]
    },
    {
     "name": "stdout",
     "output_type": "stream",
     "text": [
      "{'status': 'OK', 'data': {'files': [{'description': '', 'label': 'r5_5-all-2015.csv.gz', 'restricted': False, 'version': 1, 'datasetVersionId': 424622, 'dataFile': {'id': 10396622, 'persistentId': '', 'filename': 'r5_5-all-2015.csv.gz', 'contentType': 'application/gzip', 'friendlyType': 'Gzip Archive', 'filesize': 8376579, 'description': '', 'storageIdentifier': 's3://dvn-cloud:190d2ae6b70-4ec3c1631838', 'rootDataFileId': -1, 'md5': '2ad380314d95de90e268eae3ad8418a6', 'checksum': {'type': 'MD5', 'value': '2ad380314d95de90e268eae3ad8418a6'}, 'tabularData': False, 'creationDate': '2024-07-20', 'fileAccessRequest': True}}]}}\n",
      "../output/r5_5-all-2016.csv.gz\n"
     ]
    },
    {
     "name": "stderr",
     "output_type": "stream",
     "text": [
      "100 8239k  100   584  100 8238k    225  3182k  0:00:02  0:00:02 --:--:-- 3181k\n"
     ]
    },
    {
     "name": "stdout",
     "output_type": "stream",
     "text": [
      "{'status': 'OK', 'data': {'files': [{'description': '', 'label': 'r5_5-all-2016.csv.gz', 'restricted': False, 'version': 1, 'datasetVersionId': 424622, 'dataFile': {'id': 10396623, 'persistentId': '', 'filename': 'r5_5-all-2016.csv.gz', 'contentType': 'application/gzip', 'friendlyType': 'Gzip Archive', 'filesize': 8436326, 'description': '', 'storageIdentifier': 's3://dvn-cloud:190d2ae75ce-04cba5e36c69', 'rootDataFileId': -1, 'md5': 'c66ad0f8031e5dc6450c460d384bbf73', 'checksum': {'type': 'MD5', 'value': 'c66ad0f8031e5dc6450c460d384bbf73'}, 'tabularData': False, 'creationDate': '2024-07-20', 'fileAccessRequest': True}}]}}\n",
      "../output/r5_5-all-2017.csv.gz\n"
     ]
    },
    {
     "name": "stderr",
     "output_type": "stream",
     "text": [
      "  % Total    % Received % Xferd  Average Speed   Time    Time     Time  Current\n",
      "                                 Dload  Upload   Total   Spent    Left  Speed\n",
      "100 8349k  100   584  100 8348k    186  2667k  0:00:03  0:00:03 --:--:-- 2667k\n",
      "  % Total    % Received % Xferd  Average Speed   Time    Time     Time  Current\n",
      "                                 Dload  Upload   Total   Spent    Left  Speed\n",
      "  0     0    0     0    0     0      0      0 --:--:-- --:--:-- --:--:--     0"
     ]
    },
    {
     "name": "stdout",
     "output_type": "stream",
     "text": [
      "{'status': 'OK', 'data': {'files': [{'description': '', 'label': 'r5_5-all-2017.csv.gz', 'restricted': False, 'version': 1, 'datasetVersionId': 424622, 'dataFile': {'id': 10396624, 'persistentId': '', 'filename': 'r5_5-all-2017.csv.gz', 'contentType': 'application/gzip', 'friendlyType': 'Gzip Archive', 'filesize': 8548937, 'description': '', 'storageIdentifier': 's3://dvn-cloud:190d2ae80a5-efe5adc8d3a5', 'rootDataFileId': -1, 'md5': 'c22f9a7c682778397a5921bf8aac86e0', 'checksum': {'type': 'MD5', 'value': 'c22f9a7c682778397a5921bf8aac86e0'}, 'tabularData': False, 'creationDate': '2024-07-20', 'fileAccessRequest': True}}]}}\n",
      "../output/r5_5-all-2018.csv.gz\n"
     ]
    },
    {
     "name": "stderr",
     "output_type": "stream",
     "text": [
      "100 10.3M  100   585  100 10.3M    183  3330k  0:00:03  0:00:03 --:--:-- 3330k\n",
      "  % Total    % Received % Xferd  Average Speed   Time    Time     Time  Current\n",
      "                                 Dload  Upload   Total   Spent    Left  Speed\n",
      "  0     0    0     0    0     0      0      0 --:--:-- --:--:-- --:--:--     0"
     ]
    },
    {
     "name": "stdout",
     "output_type": "stream",
     "text": [
      "{'status': 'OK', 'data': {'files': [{'description': '', 'label': 'r5_5-all-2018.csv.gz', 'restricted': False, 'version': 1, 'datasetVersionId': 424622, 'dataFile': {'id': 10396625, 'persistentId': '', 'filename': 'r5_5-all-2018.csv.gz', 'contentType': 'application/gzip', 'friendlyType': 'Gzip Archive', 'filesize': 10848077, 'description': '', 'storageIdentifier': 's3://dvn-cloud:190d2ae8d92-cc7309f85b58', 'rootDataFileId': -1, 'md5': 'ece19b335dc28f05db93d648b4f8c1fb', 'checksum': {'type': 'MD5', 'value': 'ece19b335dc28f05db93d648b4f8c1fb'}, 'tabularData': False, 'creationDate': '2024-07-20', 'fileAccessRequest': True}}]}}\n",
      "../output/r5_5-all-2019.csv.gz\n"
     ]
    },
    {
     "name": "stderr",
     "output_type": "stream",
     "text": [
      "100 10.2M    0     0  100 10.2M      0  3949k  0:00:02  0:00:02 --:--:-- 3964k"
     ]
    },
    {
     "name": "stdout",
     "output_type": "stream",
     "text": [
      "{'status': 'OK', 'data': {'files': [{'description': '', 'label': 'r5_5-all-2019.csv.gz', 'restricted': False, 'version': 1, 'datasetVersionId': 424622, 'dataFile': {'id': 10396626, 'persistentId': '', 'filename': 'r5_5-all-2019.csv.gz', 'contentType': 'application/gzip', 'friendlyType': 'Gzip Archive', 'filesize': 10778454, 'description': '', 'storageIdentifier': 's3://dvn-cloud:190d2ae9ac5-19d4c89f3431', 'rootDataFileId': -1, 'md5': '95647845de02942f460db27e00652edd', 'checksum': {'type': 'MD5', 'value': '95647845de02942f460db27e00652edd'}, 'tabularData': False, 'creationDate': '2024-07-20', 'fileAccessRequest': True}}]}}\n",
      "../output/r5_5-all-2020.csv.gz\n"
     ]
    },
    {
     "name": "stderr",
     "output_type": "stream",
     "text": [
      "100 10.2M  100   585  100 10.2M    174  3139k  0:00:03  0:00:03 --:--:-- 3147k\n",
      "  % Total    % Received % Xferd  Average Speed   Time    Time     Time  Current\n",
      "                                 Dload  Upload   Total   Spent    Left  Speed\n",
      "100 10.9M  100   585  100 10.9M    179  3436k  0:00:03  0:00:03 --:--:-- 3436k\n",
      "  % Total    % Received % Xferd  Average Speed   Time    Time     Time  Current\n",
      "                                 Dload  Upload   Total   Spent    Left  Speed\n",
      "  0     0    0     0    0     0      0      0 --:--:-- --:--:-- --:--:--     0"
     ]
    },
    {
     "name": "stdout",
     "output_type": "stream",
     "text": [
      "{'status': 'OK', 'data': {'files': [{'description': '', 'label': 'r5_5-all-2020.csv.gz', 'restricted': False, 'version': 1, 'datasetVersionId': 424622, 'dataFile': {'id': 10396627, 'persistentId': '', 'filename': 'r5_5-all-2020.csv.gz', 'contentType': 'application/gzip', 'friendlyType': 'Gzip Archive', 'filesize': 11455050, 'description': '', 'storageIdentifier': 's3://dvn-cloud:190d2aea7b3-3c5790f03436', 'rootDataFileId': -1, 'md5': '33933b899d12aa292bda9373d2b19f34', 'checksum': {'type': 'MD5', 'value': '33933b899d12aa292bda9373d2b19f34'}, 'tabularData': False, 'creationDate': '2024-07-20', 'fileAccessRequest': True}}]}}\n",
      "../output/r5_5-all-2021.csv.gz\n"
     ]
    },
    {
     "name": "stderr",
     "output_type": "stream",
     "text": [
      "100 10.8M  100   585  100 10.8M    198  3775k  0:00:02  0:00:02 --:--:-- 3775k\n",
      "  % Total    % Received % Xferd  Average Speed   Time    Time     Time  Current\n",
      "                                 Dload  Upload   Total   Spent    Left  Speed\n",
      "  0     0    0     0    0     0      0      0 --:--:-- --:--:-- --:--:--     0"
     ]
    },
    {
     "name": "stdout",
     "output_type": "stream",
     "text": [
      "{'status': 'OK', 'data': {'files': [{'description': '', 'label': 'r5_5-all-2021.csv.gz', 'restricted': False, 'version': 1, 'datasetVersionId': 424622, 'dataFile': {'id': 10396628, 'persistentId': '', 'filename': 'r5_5-all-2021.csv.gz', 'contentType': 'application/gzip', 'friendlyType': 'Gzip Archive', 'filesize': 11412039, 'description': '', 'storageIdentifier': 's3://dvn-cloud:190d2aeb407-b891bda78f57', 'rootDataFileId': -1, 'md5': 'b6b81407fcb18f0817bf70704247751b', 'checksum': {'type': 'MD5', 'value': 'b6b81407fcb18f0817bf70704247751b'}, 'tabularData': False, 'creationDate': '2024-07-20', 'fileAccessRequest': True}}]}}\n",
      "../output/r5_5-all-2022.csv.gz\n"
     ]
    },
    {
     "name": "stderr",
     "output_type": "stream",
     "text": [
      "100 10.6M  100   585  100 10.6M    153  2867k  0:00:03  0:00:03 --:--:-- 2866k\n",
      "  % Total    % Received % Xferd  Average Speed   Time    Time     Time  Current\n",
      "                                 Dload  Upload   Total   Spent    Left  Speed\n",
      "  0     0    0     0    0     0      0      0 --:--:-- --:--:-- --:--:--     0"
     ]
    },
    {
     "name": "stdout",
     "output_type": "stream",
     "text": [
      "{'status': 'OK', 'data': {'files': [{'description': '', 'label': 'r5_5-all-2022.csv.gz', 'restricted': False, 'version': 1, 'datasetVersionId': 424622, 'dataFile': {'id': 10396629, 'persistentId': '', 'filename': 'r5_5-all-2022.csv.gz', 'contentType': 'application/gzip', 'friendlyType': 'Gzip Archive', 'filesize': 11183250, 'description': '', 'storageIdentifier': 's3://dvn-cloud:190d2aec28b-17f75ccb554d', 'rootDataFileId': -1, 'md5': 'f04ac8099d29b4f439afa5d9674b59be', 'checksum': {'type': 'MD5', 'value': 'f04ac8099d29b4f439afa5d9674b59be'}, 'tabularData': False, 'creationDate': '2024-07-20', 'fileAccessRequest': True}}]}}\n",
      "../output/r5_5-all-2023.csv.gz\n"
     ]
    },
    {
     "name": "stderr",
     "output_type": "stream",
     "text": [
      "100 10.6M  100   585  100 10.6M    180  3358k  0:00:03  0:00:03 --:--:-- 3361k\n",
      "  % Total    % Received % Xferd  Average Speed   Time    Time     Time  Current\n",
      "                                 Dload  Upload   Total   Spent    Left  Speed\n",
      "  0     0    0     0    0     0      0      0 --:--:-- --:--:-- --:--:--     0"
     ]
    },
    {
     "name": "stdout",
     "output_type": "stream",
     "text": [
      "{'status': 'OK', 'data': {'files': [{'description': '', 'label': 'r5_5-all-2023.csv.gz', 'restricted': False, 'version': 1, 'datasetVersionId': 424622, 'dataFile': {'id': 10396630, 'persistentId': '', 'filename': 'r5_5-all-2023.csv.gz', 'contentType': 'application/gzip', 'friendlyType': 'Gzip Archive', 'filesize': 11133754, 'description': '', 'storageIdentifier': 's3://dvn-cloud:190d2aecefd-a36cfa6cf172', 'rootDataFileId': -1, 'md5': '1d1f882946ebb8cb9c178a70ad54f761', 'checksum': {'type': 'MD5', 'value': '1d1f882946ebb8cb9c178a70ad54f761'}, 'tabularData': False, 'creationDate': '2024-07-20', 'fileAccessRequest': True}}]}}\n",
      "../output/r5_5-all-2024.csv.gz\n"
     ]
    },
    {
     "name": "stderr",
     "output_type": "stream",
     "text": [
      "100 9578k    0     0  100 9578k      0  3753k  0:00:02  0:00:02 --:--:-- 3752k"
     ]
    },
    {
     "name": "stdout",
     "output_type": "stream",
     "text": [
      "{'status': 'OK', 'data': {'files': [{'description': '', 'label': 'r5_5-all-2024.csv.gz', 'restricted': False, 'version': 1, 'datasetVersionId': 424622, 'dataFile': {'id': 10396631, 'persistentId': '', 'filename': 'r5_5-all-2024.csv.gz', 'contentType': 'application/gzip', 'friendlyType': 'Gzip Archive', 'filesize': 9808553, 'description': '', 'storageIdentifier': 's3://dvn-cloud:190d2aedc02-9384f3640053', 'rootDataFileId': -1, 'md5': '9021fd4c2ad580172e483083bf2d45de', 'checksum': {'type': 'MD5', 'value': '9021fd4c2ad580172e483083bf2d45de'}, 'tabularData': False, 'creationDate': '2024-07-20', 'fileAccessRequest': True}}]}}\n"
     ]
    },
    {
     "name": "stderr",
     "output_type": "stream",
     "text": [
      "100 9579k  100   584  100 9578k    172  2825k  0:00:03  0:00:03 --:--:-- 2825k\n"
     ]
    }
   ],
   "source": [
    "for fn in sorted(glob('../output/r5_5-all-20*.csv.gz')):\n",
    "    print(fn)\n",
    "    resp = api.upload_file(doi, fn)\n",
    "    print(resp)"
   ]
  },
  {
   "cell_type": "code",
   "execution_count": null,
   "id": "19ab1417-083e-4552-a81c-39f3f4b93a1d",
   "metadata": {},
   "outputs": [],
   "source": []
  }
 ],
 "metadata": {
  "kernelspec": {
   "display_name": "Python 3 (ipykernel)",
   "language": "python",
   "name": "python3"
  },
  "language_info": {
   "codemirror_mode": {
    "name": "ipython",
    "version": 3
   },
   "file_extension": ".py",
   "mimetype": "text/x-python",
   "name": "python",
   "nbconvert_exporter": "python",
   "pygments_lexer": "ipython3",
   "version": "3.8.10"
  }
 },
 "nbformat": 4,
 "nbformat_minor": 5
}
